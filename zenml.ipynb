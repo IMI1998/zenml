{
  "nbformat": 4,
  "nbformat_minor": 0,
  "metadata": {
    "colab": {
      "provenance": [],
      "authorship_tag": "ABX9TyMP+lVTj+IHuZQw0puTqvv0",
      "include_colab_link": true
    },
    "kernelspec": {
      "name": "python3",
      "display_name": "Python 3"
    },
    "language_info": {
      "name": "python"
    }
  },
  "cells": [
    {
      "cell_type": "markdown",
      "metadata": {
        "id": "view-in-github",
        "colab_type": "text"
      },
      "source": [
        "<a href=\"https://colab.research.google.com/github/IMI1998/zenml/blob/main/zenml.ipynb\" target=\"_parent\"><img src=\"https://colab.research.google.com/assets/colab-badge.svg\" alt=\"Open In Colab\"/></a>"
      ]
    },
    {
      "cell_type": "code",
      "execution_count": null,
      "metadata": {
        "colab": {
          "base_uri": "https://localhost:8080/"
        },
        "id": "0KGUvnpwfbkW",
        "outputId": "8a42f3e7-cef2-45fb-9e22-72dd8193fe4e"
      },
      "outputs": [
        {
          "output_type": "stream",
          "name": "stdout",
          "text": [
            "Requirement already satisfied: zenml[server] in /usr/local/lib/python3.10/dist-packages (0.58.2)\n",
            "Requirement already satisfied: alembic<1.9.0,>=1.8.1 in /usr/local/lib/python3.10/dist-packages (from zenml[server]) (1.8.1)\n",
            "Requirement already satisfied: azure-mgmt-resource>=21.0.0 in /usr/local/lib/python3.10/dist-packages (from zenml[server]) (23.1.1)\n",
            "Requirement already satisfied: bcrypt==4.0.1 in /usr/local/lib/python3.10/dist-packages (from zenml[server]) (4.0.1)\n",
            "Requirement already satisfied: click<8.1.4,>=8.0.1 in /usr/local/lib/python3.10/dist-packages (from zenml[server]) (8.1.3)\n",
            "Requirement already satisfied: click-params<0.4.0,>=0.3.0 in /usr/local/lib/python3.10/dist-packages (from zenml[server]) (0.3.0)\n",
            "Requirement already satisfied: cloudpickle<3,>=2.0.0 in /usr/local/lib/python3.10/dist-packages (from zenml[server]) (2.2.1)\n",
            "Requirement already satisfied: distro<2.0.0,>=1.6.0 in /usr/lib/python3/dist-packages (from zenml[server]) (1.7.0)\n",
            "Requirement already satisfied: docker<6.2.0,>=6.1.0 in /usr/local/lib/python3.10/dist-packages (from zenml[server]) (6.1.3)\n",
            "Requirement already satisfied: gitpython<4.0.0,>=3.1.18 in /usr/local/lib/python3.10/dist-packages (from zenml[server]) (3.1.43)\n",
            "Requirement already satisfied: httplib2<0.20,>=0.19.1 in /usr/local/lib/python3.10/dist-packages (from zenml[server]) (0.19.1)\n",
            "Requirement already satisfied: pandas>=1.1.5 in /usr/local/lib/python3.10/dist-packages (from zenml[server]) (2.0.3)\n",
            "Requirement already satisfied: passlib[bcrypt]<1.8.0,>=1.7.4 in /usr/local/lib/python3.10/dist-packages (from zenml[server]) (1.7.4)\n",
            "Requirement already satisfied: psutil>=5.0.0 in /usr/local/lib/python3.10/dist-packages (from zenml[server]) (5.9.5)\n",
            "Requirement already satisfied: pydantic<1.11,>=1.9.0 in /usr/local/lib/python3.10/dist-packages (from zenml[server]) (1.10.17)\n",
            "Requirement already satisfied: pymysql<1.2.0,>=1.1.1 in /usr/local/lib/python3.10/dist-packages (from zenml[server]) (1.1.1)\n",
            "Requirement already satisfied: pyparsing>=2.4.0 in /usr/local/lib/python3.10/dist-packages (from zenml[server]) (2.4.2)\n",
            "Requirement already satisfied: python-dateutil<3.0.0,>=2.8.1 in /usr/local/lib/python3.10/dist-packages (from zenml[server]) (2.8.2)\n",
            "Requirement already satisfied: pyyaml>=6.0.1 in /usr/local/lib/python3.10/dist-packages (from zenml[server]) (6.0.1)\n",
            "Requirement already satisfied: requests<2.32.0 in /usr/local/lib/python3.10/dist-packages (from zenml[server]) (2.31.0)\n",
            "Requirement already satisfied: rich[jupyter]>=12.0.0 in /usr/local/lib/python3.10/dist-packages (from zenml[server]) (13.7.1)\n",
            "Requirement already satisfied: secure<0.4.0,>=0.3.0 in /usr/local/lib/python3.10/dist-packages (from zenml[server]) (0.3.0)\n",
            "Requirement already satisfied: sqlalchemy_utils==0.38.3 in /usr/local/lib/python3.10/dist-packages (from zenml[server]) (0.38.3)\n",
            "Requirement already satisfied: sqlmodel==0.0.8 in /usr/local/lib/python3.10/dist-packages (from zenml[server]) (0.0.8)\n",
            "Requirement already satisfied: Jinja2 in /usr/local/lib/python3.10/dist-packages (from zenml[server]) (3.1.4)\n",
            "Requirement already satisfied: fastapi<0.111,>=0.75 in /usr/local/lib/python3.10/dist-packages (from zenml[server]) (0.110.3)\n",
            "Requirement already satisfied: fastapi-utils<0.3.0,>=0.2.1 in /usr/local/lib/python3.10/dist-packages (from zenml[server]) (0.2.1)\n",
            "Requirement already satisfied: ipinfo>=4.4.3 in /usr/local/lib/python3.10/dist-packages (from zenml[server]) (5.0.1)\n",
            "Requirement already satisfied: orjson<3.11.0,>=3.10.0 in /usr/local/lib/python3.10/dist-packages (from zenml[server]) (3.10.5)\n",
            "Requirement already satisfied: pyjwt[crypto]==2.7.* in /usr/local/lib/python3.10/dist-packages (from zenml[server]) (2.7.0)\n",
            "Requirement already satisfied: python-multipart<0.1.0,>=0.0.9 in /usr/local/lib/python3.10/dist-packages (from zenml[server]) (0.0.9)\n",
            "Requirement already satisfied: uvicorn[standard]>=0.17.5 in /usr/local/lib/python3.10/dist-packages (from zenml[server]) (0.30.1)\n",
            "Requirement already satisfied: cryptography>=3.4.0 in /usr/local/lib/python3.10/dist-packages (from pyjwt[crypto]==2.7.*->zenml[server]) (42.0.8)\n",
            "Requirement already satisfied: SQLAlchemy>=1.3 in /usr/local/lib/python3.10/dist-packages (from sqlalchemy_utils==0.38.3->zenml[server]) (1.4.41)\n",
            "Requirement already satisfied: sqlalchemy2-stubs in /usr/local/lib/python3.10/dist-packages (from sqlmodel==0.0.8->zenml[server]) (0.0.2a38)\n",
            "Requirement already satisfied: Mako in /usr/local/lib/python3.10/dist-packages (from alembic<1.9.0,>=1.8.1->zenml[server]) (1.3.5)\n",
            "Requirement already satisfied: isodate>=0.6.1 in /usr/local/lib/python3.10/dist-packages (from azure-mgmt-resource>=21.0.0->zenml[server]) (0.6.1)\n",
            "Requirement already satisfied: azure-common>=1.1 in /usr/local/lib/python3.10/dist-packages (from azure-mgmt-resource>=21.0.0->zenml[server]) (1.1.28)\n",
            "Requirement already satisfied: azure-mgmt-core>=1.3.2 in /usr/local/lib/python3.10/dist-packages (from azure-mgmt-resource>=21.0.0->zenml[server]) (1.4.0)\n",
            "Requirement already satisfied: validators<0.19,>=0.18 in /usr/local/lib/python3.10/dist-packages (from click-params<0.4.0,>=0.3.0->zenml[server]) (0.18.2)\n",
            "Requirement already satisfied: packaging>=14.0 in /usr/local/lib/python3.10/dist-packages (from docker<6.2.0,>=6.1.0->zenml[server]) (24.1)\n",
            "Requirement already satisfied: urllib3>=1.26.0 in /usr/local/lib/python3.10/dist-packages (from docker<6.2.0,>=6.1.0->zenml[server]) (2.0.7)\n",
            "Requirement already satisfied: websocket-client>=0.32.0 in /usr/local/lib/python3.10/dist-packages (from docker<6.2.0,>=6.1.0->zenml[server]) (1.8.0)\n",
            "Requirement already satisfied: starlette<0.38.0,>=0.37.2 in /usr/local/lib/python3.10/dist-packages (from fastapi<0.111,>=0.75->zenml[server]) (0.37.2)\n",
            "Requirement already satisfied: typing-extensions>=4.8.0 in /usr/local/lib/python3.10/dist-packages (from fastapi<0.111,>=0.75->zenml[server]) (4.12.2)\n",
            "Requirement already satisfied: gitdb<5,>=4.0.1 in /usr/local/lib/python3.10/dist-packages (from gitpython<4.0.0,>=3.1.18->zenml[server]) (4.0.11)\n",
            "Requirement already satisfied: cachetools in /usr/local/lib/python3.10/dist-packages (from ipinfo>=4.4.3->zenml[server]) (5.3.3)\n",
            "Requirement already satisfied: aiohttp<=4 in /usr/local/lib/python3.10/dist-packages (from ipinfo>=4.4.3->zenml[server]) (3.9.5)\n",
            "Requirement already satisfied: pytz>=2020.1 in /usr/local/lib/python3.10/dist-packages (from pandas>=1.1.5->zenml[server]) (2023.4)\n",
            "Requirement already satisfied: tzdata>=2022.1 in /usr/local/lib/python3.10/dist-packages (from pandas>=1.1.5->zenml[server]) (2024.1)\n",
            "Requirement already satisfied: numpy>=1.21.0 in /usr/local/lib/python3.10/dist-packages (from pandas>=1.1.5->zenml[server]) (1.25.2)\n",
            "Requirement already satisfied: six>=1.5 in /usr/local/lib/python3.10/dist-packages (from python-dateutil<3.0.0,>=2.8.1->zenml[server]) (1.16.0)\n",
            "Requirement already satisfied: charset-normalizer<4,>=2 in /usr/local/lib/python3.10/dist-packages (from requests<2.32.0->zenml[server]) (3.3.2)\n",
            "Requirement already satisfied: idna<4,>=2.5 in /usr/local/lib/python3.10/dist-packages (from requests<2.32.0->zenml[server]) (3.7)\n",
            "Requirement already satisfied: certifi>=2017.4.17 in /usr/local/lib/python3.10/dist-packages (from requests<2.32.0->zenml[server]) (2024.6.2)\n",
            "Requirement already satisfied: markdown-it-py>=2.2.0 in /usr/local/lib/python3.10/dist-packages (from rich[jupyter]>=12.0.0->zenml[server]) (3.0.0)\n",
            "Requirement already satisfied: pygments<3.0.0,>=2.13.0 in /usr/local/lib/python3.10/dist-packages (from rich[jupyter]>=12.0.0->zenml[server]) (2.16.1)\n",
            "Requirement already satisfied: ipywidgets<9,>=7.5.1 in /usr/local/lib/python3.10/dist-packages (from rich[jupyter]>=12.0.0->zenml[server]) (7.7.1)\n",
            "Requirement already satisfied: h11>=0.8 in /usr/local/lib/python3.10/dist-packages (from uvicorn[standard]>=0.17.5->zenml[server]) (0.14.0)\n",
            "Requirement already satisfied: httptools>=0.5.0 in /usr/local/lib/python3.10/dist-packages (from uvicorn[standard]>=0.17.5->zenml[server]) (0.6.1)\n",
            "Requirement already satisfied: python-dotenv>=0.13 in /usr/local/lib/python3.10/dist-packages (from uvicorn[standard]>=0.17.5->zenml[server]) (1.0.1)\n",
            "Requirement already satisfied: uvloop!=0.15.0,!=0.15.1,>=0.14.0 in /usr/local/lib/python3.10/dist-packages (from uvicorn[standard]>=0.17.5->zenml[server]) (0.19.0)\n",
            "Requirement already satisfied: watchfiles>=0.13 in /usr/local/lib/python3.10/dist-packages (from uvicorn[standard]>=0.17.5->zenml[server]) (0.22.0)\n",
            "Requirement already satisfied: websockets>=10.4 in /usr/local/lib/python3.10/dist-packages (from uvicorn[standard]>=0.17.5->zenml[server]) (12.0)\n",
            "Requirement already satisfied: MarkupSafe>=2.0 in /usr/local/lib/python3.10/dist-packages (from Jinja2->zenml[server]) (2.1.5)\n",
            "Requirement already satisfied: aiosignal>=1.1.2 in /usr/local/lib/python3.10/dist-packages (from aiohttp<=4->ipinfo>=4.4.3->zenml[server]) (1.3.1)\n",
            "Requirement already satisfied: attrs>=17.3.0 in /usr/local/lib/python3.10/dist-packages (from aiohttp<=4->ipinfo>=4.4.3->zenml[server]) (23.2.0)\n",
            "Requirement already satisfied: frozenlist>=1.1.1 in /usr/local/lib/python3.10/dist-packages (from aiohttp<=4->ipinfo>=4.4.3->zenml[server]) (1.4.1)\n",
            "Requirement already satisfied: multidict<7.0,>=4.5 in /usr/local/lib/python3.10/dist-packages (from aiohttp<=4->ipinfo>=4.4.3->zenml[server]) (6.0.5)\n",
            "Requirement already satisfied: yarl<2.0,>=1.0 in /usr/local/lib/python3.10/dist-packages (from aiohttp<=4->ipinfo>=4.4.3->zenml[server]) (1.9.4)\n",
            "Requirement already satisfied: async-timeout<5.0,>=4.0 in /usr/local/lib/python3.10/dist-packages (from aiohttp<=4->ipinfo>=4.4.3->zenml[server]) (4.0.3)\n",
            "Requirement already satisfied: azure-core<2.0.0,>=1.26.2 in /usr/local/lib/python3.10/dist-packages (from azure-mgmt-core>=1.3.2->azure-mgmt-resource>=21.0.0->zenml[server]) (1.30.2)\n",
            "Requirement already satisfied: cffi>=1.12 in /usr/local/lib/python3.10/dist-packages (from cryptography>=3.4.0->pyjwt[crypto]==2.7.*->zenml[server]) (1.16.0)\n",
            "Requirement already satisfied: smmap<6,>=3.0.1 in /usr/local/lib/python3.10/dist-packages (from gitdb<5,>=4.0.1->gitpython<4.0.0,>=3.1.18->zenml[server]) (5.0.1)\n",
            "Requirement already satisfied: ipykernel>=4.5.1 in /usr/local/lib/python3.10/dist-packages (from ipywidgets<9,>=7.5.1->rich[jupyter]>=12.0.0->zenml[server]) (5.5.6)\n",
            "Requirement already satisfied: ipython-genutils~=0.2.0 in /usr/local/lib/python3.10/dist-packages (from ipywidgets<9,>=7.5.1->rich[jupyter]>=12.0.0->zenml[server]) (0.2.0)\n",
            "Requirement already satisfied: traitlets>=4.3.1 in /usr/local/lib/python3.10/dist-packages (from ipywidgets<9,>=7.5.1->rich[jupyter]>=12.0.0->zenml[server]) (5.7.1)\n",
            "Requirement already satisfied: widgetsnbextension~=3.6.0 in /usr/local/lib/python3.10/dist-packages (from ipywidgets<9,>=7.5.1->rich[jupyter]>=12.0.0->zenml[server]) (3.6.6)\n",
            "Requirement already satisfied: ipython>=4.0.0 in /usr/local/lib/python3.10/dist-packages (from ipywidgets<9,>=7.5.1->rich[jupyter]>=12.0.0->zenml[server]) (7.34.0)\n",
            "Requirement already satisfied: jupyterlab-widgets>=1.0.0 in /usr/local/lib/python3.10/dist-packages (from ipywidgets<9,>=7.5.1->rich[jupyter]>=12.0.0->zenml[server]) (3.0.11)\n",
            "Requirement already satisfied: mdurl~=0.1 in /usr/local/lib/python3.10/dist-packages (from markdown-it-py>=2.2.0->rich[jupyter]>=12.0.0->zenml[server]) (0.1.2)\n",
            "Requirement already satisfied: greenlet!=0.4.17 in /usr/local/lib/python3.10/dist-packages (from SQLAlchemy>=1.3->sqlalchemy_utils==0.38.3->zenml[server]) (3.0.3)\n",
            "Requirement already satisfied: anyio<5,>=3.4.0 in /usr/local/lib/python3.10/dist-packages (from starlette<0.38.0,>=0.37.2->fastapi<0.111,>=0.75->zenml[server]) (3.7.1)\n",
            "Requirement already satisfied: decorator>=3.4.0 in /usr/local/lib/python3.10/dist-packages (from validators<0.19,>=0.18->click-params<0.4.0,>=0.3.0->zenml[server]) (4.4.2)\n",
            "Requirement already satisfied: sniffio>=1.1 in /usr/local/lib/python3.10/dist-packages (from anyio<5,>=3.4.0->starlette<0.38.0,>=0.37.2->fastapi<0.111,>=0.75->zenml[server]) (1.3.1)\n",
            "Requirement already satisfied: exceptiongroup in /usr/local/lib/python3.10/dist-packages (from anyio<5,>=3.4.0->starlette<0.38.0,>=0.37.2->fastapi<0.111,>=0.75->zenml[server]) (1.2.1)\n",
            "Requirement already satisfied: pycparser in /usr/local/lib/python3.10/dist-packages (from cffi>=1.12->cryptography>=3.4.0->pyjwt[crypto]==2.7.*->zenml[server]) (2.22)\n",
            "Requirement already satisfied: jupyter-client in /usr/local/lib/python3.10/dist-packages (from ipykernel>=4.5.1->ipywidgets<9,>=7.5.1->rich[jupyter]>=12.0.0->zenml[server]) (6.1.12)\n",
            "Requirement already satisfied: tornado>=4.2 in /usr/local/lib/python3.10/dist-packages (from ipykernel>=4.5.1->ipywidgets<9,>=7.5.1->rich[jupyter]>=12.0.0->zenml[server]) (6.3.3)\n",
            "Requirement already satisfied: setuptools>=18.5 in /usr/local/lib/python3.10/dist-packages (from ipython>=4.0.0->ipywidgets<9,>=7.5.1->rich[jupyter]>=12.0.0->zenml[server]) (67.7.2)\n",
            "Requirement already satisfied: jedi>=0.16 in /usr/local/lib/python3.10/dist-packages (from ipython>=4.0.0->ipywidgets<9,>=7.5.1->rich[jupyter]>=12.0.0->zenml[server]) (0.19.1)\n",
            "Requirement already satisfied: pickleshare in /usr/local/lib/python3.10/dist-packages (from ipython>=4.0.0->ipywidgets<9,>=7.5.1->rich[jupyter]>=12.0.0->zenml[server]) (0.7.5)\n",
            "Requirement already satisfied: prompt-toolkit!=3.0.0,!=3.0.1,<3.1.0,>=2.0.0 in /usr/local/lib/python3.10/dist-packages (from ipython>=4.0.0->ipywidgets<9,>=7.5.1->rich[jupyter]>=12.0.0->zenml[server]) (3.0.47)\n",
            "Requirement already satisfied: backcall in /usr/local/lib/python3.10/dist-packages (from ipython>=4.0.0->ipywidgets<9,>=7.5.1->rich[jupyter]>=12.0.0->zenml[server]) (0.2.0)\n",
            "Requirement already satisfied: matplotlib-inline in /usr/local/lib/python3.10/dist-packages (from ipython>=4.0.0->ipywidgets<9,>=7.5.1->rich[jupyter]>=12.0.0->zenml[server]) (0.1.7)\n",
            "Requirement already satisfied: pexpect>4.3 in /usr/local/lib/python3.10/dist-packages (from ipython>=4.0.0->ipywidgets<9,>=7.5.1->rich[jupyter]>=12.0.0->zenml[server]) (4.9.0)\n",
            "Requirement already satisfied: notebook>=4.4.1 in /usr/local/lib/python3.10/dist-packages (from widgetsnbextension~=3.6.0->ipywidgets<9,>=7.5.1->rich[jupyter]>=12.0.0->zenml[server]) (6.5.5)\n",
            "Requirement already satisfied: parso<0.9.0,>=0.8.3 in /usr/local/lib/python3.10/dist-packages (from jedi>=0.16->ipython>=4.0.0->ipywidgets<9,>=7.5.1->rich[jupyter]>=12.0.0->zenml[server]) (0.8.4)\n",
            "Requirement already satisfied: pyzmq<25,>=17 in /usr/local/lib/python3.10/dist-packages (from notebook>=4.4.1->widgetsnbextension~=3.6.0->ipywidgets<9,>=7.5.1->rich[jupyter]>=12.0.0->zenml[server]) (24.0.1)\n",
            "Requirement already satisfied: argon2-cffi in /usr/local/lib/python3.10/dist-packages (from notebook>=4.4.1->widgetsnbextension~=3.6.0->ipywidgets<9,>=7.5.1->rich[jupyter]>=12.0.0->zenml[server]) (23.1.0)\n",
            "Requirement already satisfied: jupyter-core>=4.6.1 in /usr/local/lib/python3.10/dist-packages (from notebook>=4.4.1->widgetsnbextension~=3.6.0->ipywidgets<9,>=7.5.1->rich[jupyter]>=12.0.0->zenml[server]) (5.7.2)\n",
            "Requirement already satisfied: nbformat in /usr/local/lib/python3.10/dist-packages (from notebook>=4.4.1->widgetsnbextension~=3.6.0->ipywidgets<9,>=7.5.1->rich[jupyter]>=12.0.0->zenml[server]) (5.10.4)\n",
            "Requirement already satisfied: nbconvert>=5 in /usr/local/lib/python3.10/dist-packages (from notebook>=4.4.1->widgetsnbextension~=3.6.0->ipywidgets<9,>=7.5.1->rich[jupyter]>=12.0.0->zenml[server]) (6.5.4)\n",
            "Requirement already satisfied: nest-asyncio>=1.5 in /usr/local/lib/python3.10/dist-packages (from notebook>=4.4.1->widgetsnbextension~=3.6.0->ipywidgets<9,>=7.5.1->rich[jupyter]>=12.0.0->zenml[server]) (1.6.0)\n",
            "Requirement already satisfied: Send2Trash>=1.8.0 in /usr/local/lib/python3.10/dist-packages (from notebook>=4.4.1->widgetsnbextension~=3.6.0->ipywidgets<9,>=7.5.1->rich[jupyter]>=12.0.0->zenml[server]) (1.8.3)\n",
            "Requirement already satisfied: terminado>=0.8.3 in /usr/local/lib/python3.10/dist-packages (from notebook>=4.4.1->widgetsnbextension~=3.6.0->ipywidgets<9,>=7.5.1->rich[jupyter]>=12.0.0->zenml[server]) (0.18.1)\n",
            "Requirement already satisfied: prometheus-client in /usr/local/lib/python3.10/dist-packages (from notebook>=4.4.1->widgetsnbextension~=3.6.0->ipywidgets<9,>=7.5.1->rich[jupyter]>=12.0.0->zenml[server]) (0.20.0)\n",
            "Requirement already satisfied: nbclassic>=0.4.7 in /usr/local/lib/python3.10/dist-packages (from notebook>=4.4.1->widgetsnbextension~=3.6.0->ipywidgets<9,>=7.5.1->rich[jupyter]>=12.0.0->zenml[server]) (1.1.0)\n",
            "Requirement already satisfied: ptyprocess>=0.5 in /usr/local/lib/python3.10/dist-packages (from pexpect>4.3->ipython>=4.0.0->ipywidgets<9,>=7.5.1->rich[jupyter]>=12.0.0->zenml[server]) (0.7.0)\n",
            "Requirement already satisfied: wcwidth in /usr/local/lib/python3.10/dist-packages (from prompt-toolkit!=3.0.0,!=3.0.1,<3.1.0,>=2.0.0->ipython>=4.0.0->ipywidgets<9,>=7.5.1->rich[jupyter]>=12.0.0->zenml[server]) (0.2.13)\n",
            "Requirement already satisfied: platformdirs>=2.5 in /usr/local/lib/python3.10/dist-packages (from jupyter-core>=4.6.1->notebook>=4.4.1->widgetsnbextension~=3.6.0->ipywidgets<9,>=7.5.1->rich[jupyter]>=12.0.0->zenml[server]) (4.2.2)\n",
            "Requirement already satisfied: notebook-shim>=0.2.3 in /usr/local/lib/python3.10/dist-packages (from nbclassic>=0.4.7->notebook>=4.4.1->widgetsnbextension~=3.6.0->ipywidgets<9,>=7.5.1->rich[jupyter]>=12.0.0->zenml[server]) (0.2.4)\n",
            "Requirement already satisfied: lxml in /usr/local/lib/python3.10/dist-packages (from nbconvert>=5->notebook>=4.4.1->widgetsnbextension~=3.6.0->ipywidgets<9,>=7.5.1->rich[jupyter]>=12.0.0->zenml[server]) (4.9.4)\n",
            "Requirement already satisfied: beautifulsoup4 in /usr/local/lib/python3.10/dist-packages (from nbconvert>=5->notebook>=4.4.1->widgetsnbextension~=3.6.0->ipywidgets<9,>=7.5.1->rich[jupyter]>=12.0.0->zenml[server]) (4.12.3)\n",
            "Requirement already satisfied: bleach in /usr/local/lib/python3.10/dist-packages (from nbconvert>=5->notebook>=4.4.1->widgetsnbextension~=3.6.0->ipywidgets<9,>=7.5.1->rich[jupyter]>=12.0.0->zenml[server]) (6.1.0)\n",
            "Requirement already satisfied: defusedxml in /usr/local/lib/python3.10/dist-packages (from nbconvert>=5->notebook>=4.4.1->widgetsnbextension~=3.6.0->ipywidgets<9,>=7.5.1->rich[jupyter]>=12.0.0->zenml[server]) (0.7.1)\n",
            "Requirement already satisfied: entrypoints>=0.2.2 in /usr/local/lib/python3.10/dist-packages (from nbconvert>=5->notebook>=4.4.1->widgetsnbextension~=3.6.0->ipywidgets<9,>=7.5.1->rich[jupyter]>=12.0.0->zenml[server]) (0.4)\n",
            "Requirement already satisfied: jupyterlab-pygments in /usr/local/lib/python3.10/dist-packages (from nbconvert>=5->notebook>=4.4.1->widgetsnbextension~=3.6.0->ipywidgets<9,>=7.5.1->rich[jupyter]>=12.0.0->zenml[server]) (0.3.0)\n",
            "Requirement already satisfied: mistune<2,>=0.8.1 in /usr/local/lib/python3.10/dist-packages (from nbconvert>=5->notebook>=4.4.1->widgetsnbextension~=3.6.0->ipywidgets<9,>=7.5.1->rich[jupyter]>=12.0.0->zenml[server]) (0.8.4)\n",
            "Requirement already satisfied: nbclient>=0.5.0 in /usr/local/lib/python3.10/dist-packages (from nbconvert>=5->notebook>=4.4.1->widgetsnbextension~=3.6.0->ipywidgets<9,>=7.5.1->rich[jupyter]>=12.0.0->zenml[server]) (0.10.0)\n",
            "Requirement already satisfied: pandocfilters>=1.4.1 in /usr/local/lib/python3.10/dist-packages (from nbconvert>=5->notebook>=4.4.1->widgetsnbextension~=3.6.0->ipywidgets<9,>=7.5.1->rich[jupyter]>=12.0.0->zenml[server]) (1.5.1)\n",
            "Requirement already satisfied: tinycss2 in /usr/local/lib/python3.10/dist-packages (from nbconvert>=5->notebook>=4.4.1->widgetsnbextension~=3.6.0->ipywidgets<9,>=7.5.1->rich[jupyter]>=12.0.0->zenml[server]) (1.3.0)\n",
            "Requirement already satisfied: fastjsonschema>=2.15 in /usr/local/lib/python3.10/dist-packages (from nbformat->notebook>=4.4.1->widgetsnbextension~=3.6.0->ipywidgets<9,>=7.5.1->rich[jupyter]>=12.0.0->zenml[server]) (2.20.0)\n",
            "Requirement already satisfied: jsonschema>=2.6 in /usr/local/lib/python3.10/dist-packages (from nbformat->notebook>=4.4.1->widgetsnbextension~=3.6.0->ipywidgets<9,>=7.5.1->rich[jupyter]>=12.0.0->zenml[server]) (4.19.2)\n",
            "Requirement already satisfied: argon2-cffi-bindings in /usr/local/lib/python3.10/dist-packages (from argon2-cffi->notebook>=4.4.1->widgetsnbextension~=3.6.0->ipywidgets<9,>=7.5.1->rich[jupyter]>=12.0.0->zenml[server]) (21.2.0)\n",
            "Requirement already satisfied: jsonschema-specifications>=2023.03.6 in /usr/local/lib/python3.10/dist-packages (from jsonschema>=2.6->nbformat->notebook>=4.4.1->widgetsnbextension~=3.6.0->ipywidgets<9,>=7.5.1->rich[jupyter]>=12.0.0->zenml[server]) (2023.12.1)\n",
            "Requirement already satisfied: referencing>=0.28.4 in /usr/local/lib/python3.10/dist-packages (from jsonschema>=2.6->nbformat->notebook>=4.4.1->widgetsnbextension~=3.6.0->ipywidgets<9,>=7.5.1->rich[jupyter]>=12.0.0->zenml[server]) (0.35.1)\n",
            "Requirement already satisfied: rpds-py>=0.7.1 in /usr/local/lib/python3.10/dist-packages (from jsonschema>=2.6->nbformat->notebook>=4.4.1->widgetsnbextension~=3.6.0->ipywidgets<9,>=7.5.1->rich[jupyter]>=12.0.0->zenml[server]) (0.18.1)\n",
            "Requirement already satisfied: jupyter-server<3,>=1.8 in /usr/local/lib/python3.10/dist-packages (from notebook-shim>=0.2.3->nbclassic>=0.4.7->notebook>=4.4.1->widgetsnbextension~=3.6.0->ipywidgets<9,>=7.5.1->rich[jupyter]>=12.0.0->zenml[server]) (1.24.0)\n",
            "Requirement already satisfied: soupsieve>1.2 in /usr/local/lib/python3.10/dist-packages (from beautifulsoup4->nbconvert>=5->notebook>=4.4.1->widgetsnbextension~=3.6.0->ipywidgets<9,>=7.5.1->rich[jupyter]>=12.0.0->zenml[server]) (2.5)\n",
            "Requirement already satisfied: webencodings in /usr/local/lib/python3.10/dist-packages (from bleach->nbconvert>=5->notebook>=4.4.1->widgetsnbextension~=3.6.0->ipywidgets<9,>=7.5.1->rich[jupyter]>=12.0.0->zenml[server]) (0.5.1)\n",
            "\u001b[1;35mNumExpr defaulting to 2 threads.\u001b[0m\n",
            "\u001b[2K\u001b[32m⠙\u001b[0m Installing integrations...\n",
            "\u001b[1A\u001b[2KRequirement already satisfied: pyparsing==2.4.2 in /usr/local/lib/python3.10/dist-packages (2.4.2)\n",
            "Requirement already satisfied: zenml in /usr/local/lib/python3.10/dist-packages (0.58.2)\n",
            "Requirement already satisfied: alembic<1.9.0,>=1.8.1 in /usr/local/lib/python3.10/dist-packages (from zenml) (1.8.1)\n",
            "Requirement already satisfied: azure-mgmt-resource>=21.0.0 in /usr/local/lib/python3.10/dist-packages (from zenml) (23.1.1)\n",
            "Requirement already satisfied: bcrypt==4.0.1 in /usr/local/lib/python3.10/dist-packages (from zenml) (4.0.1)\n",
            "Requirement already satisfied: click<8.1.4,>=8.0.1 in /usr/local/lib/python3.10/dist-packages (from zenml) (8.1.3)\n",
            "Requirement already satisfied: click-params<0.4.0,>=0.3.0 in /usr/local/lib/python3.10/dist-packages (from zenml) (0.3.0)\n",
            "Requirement already satisfied: cloudpickle<3,>=2.0.0 in /usr/local/lib/python3.10/dist-packages (from zenml) (2.2.1)\n",
            "Requirement already satisfied: distro<2.0.0,>=1.6.0 in /usr/lib/python3/dist-packages (from zenml) (1.7.0)\n",
            "Requirement already satisfied: docker<6.2.0,>=6.1.0 in /usr/local/lib/python3.10/dist-packages (from zenml) (6.1.3)\n",
            "Requirement already satisfied: gitpython<4.0.0,>=3.1.18 in /usr/local/lib/python3.10/dist-packages (from zenml) (3.1.43)\n",
            "Requirement already satisfied: httplib2<0.20,>=0.19.1 in /usr/local/lib/python3.10/dist-packages (from zenml) (0.19.1)\n",
            "Requirement already satisfied: pandas>=1.1.5 in /usr/local/lib/python3.10/dist-packages (from zenml) (2.0.3)\n",
            "Requirement already satisfied: passlib[bcrypt]<1.8.0,>=1.7.4 in /usr/local/lib/python3.10/dist-packages (from zenml) (1.7.4)\n",
            "Requirement already satisfied: psutil>=5.0.0 in /usr/local/lib/python3.10/dist-packages (from zenml) (5.9.5)\n",
            "Requirement already satisfied: pydantic<1.11,>=1.9.0 in /usr/local/lib/python3.10/dist-packages (from zenml) (1.10.17)\n",
            "Requirement already satisfied: pymysql<1.2.0,>=1.1.1 in /usr/local/lib/python3.10/dist-packages (from zenml) (1.1.1)\n",
            "Requirement already satisfied: pyparsing>=2.4.0 in /usr/local/lib/python3.10/dist-packages (from zenml) (2.4.2)\n",
            "Requirement already satisfied: python-dateutil<3.0.0,>=2.8.1 in /usr/local/lib/python3.10/dist-packages (from zenml) (2.8.2)\n",
            "Requirement already satisfied: pyyaml>=6.0.1 in /usr/local/lib/python3.10/dist-packages (from zenml) (6.0.1)\n",
            "Requirement already satisfied: requests<2.32.0 in /usr/local/lib/python3.10/dist-packages (from zenml) (2.31.0)\n",
            "Requirement already satisfied: rich[jupyter]>=12.0.0 in /usr/local/lib/python3.10/dist-packages (from zenml) (13.7.1)\n",
            "Requirement already satisfied: secure<0.4.0,>=0.3.0 in /usr/local/lib/python3.10/dist-packages (from zenml) (0.3.0)\n",
            "Requirement already satisfied: sqlalchemy_utils==0.38.3 in /usr/local/lib/python3.10/dist-packages (from zenml) (0.38.3)\n",
            "Requirement already satisfied: sqlmodel==0.0.8 in /usr/local/lib/python3.10/dist-packages (from zenml) (0.0.8)\n",
            "Requirement already satisfied: SQLAlchemy>=1.3 in /usr/local/lib/python3.10/dist-packages (from sqlalchemy_utils==0.38.3->zenml) (1.4.41)\n",
            "Requirement already satisfied: sqlalchemy2-stubs in /usr/local/lib/python3.10/dist-packages (from sqlmodel==0.0.8->zenml) (0.0.2a38)\n",
            "Requirement already satisfied: Mako in /usr/local/lib/python3.10/dist-packages (from alembic<1.9.0,>=1.8.1->zenml) (1.3.5)\n",
            "Requirement already satisfied: isodate>=0.6.1 in /usr/local/lib/python3.10/dist-packages (from azure-mgmt-resource>=21.0.0->zenml) (0.6.1)\n",
            "Requirement already satisfied: azure-common>=1.1 in /usr/local/lib/python3.10/dist-packages (from azure-mgmt-resource>=21.0.0->zenml) (1.1.28)\n",
            "Requirement already satisfied: azure-mgmt-core>=1.3.2 in /usr/local/lib/python3.10/dist-packages (from azure-mgmt-resource>=21.0.0->zenml) (1.4.0)\n",
            "Requirement already satisfied: validators<0.19,>=0.18 in /usr/local/lib/python3.10/dist-packages (from click-params<0.4.0,>=0.3.0->zenml) (0.18.2)\n",
            "Requirement already satisfied: packaging>=14.0 in /usr/local/lib/python3.10/dist-packages (from docker<6.2.0,>=6.1.0->zenml) (24.1)\n",
            "Requirement already satisfied: urllib3>=1.26.0 in /usr/local/lib/python3.10/dist-packages (from docker<6.2.0,>=6.1.0->zenml) (2.0.7)\n",
            "Requirement already satisfied: websocket-client>=0.32.0 in /usr/local/lib/python3.10/dist-packages (from docker<6.2.0,>=6.1.0->zenml) (1.8.0)\n",
            "Requirement already satisfied: gitdb<5,>=4.0.1 in /usr/local/lib/python3.10/dist-packages (from gitpython<4.0.0,>=3.1.18->zenml) (4.0.11)\n",
            "Requirement already satisfied: pytz>=2020.1 in /usr/local/lib/python3.10/dist-packages (from pandas>=1.1.5->zenml) (2023.4)\n",
            "Requirement already satisfied: tzdata>=2022.1 in /usr/local/lib/python3.10/dist-packages (from pandas>=1.1.5->zenml) (2024.1)\n",
            "Requirement already satisfied: numpy>=1.21.0 in /usr/local/lib/python3.10/dist-packages (from pandas>=1.1.5->zenml) (1.25.2)\n",
            "Requirement already satisfied: typing-extensions>=4.2.0 in /usr/local/lib/python3.10/dist-packages (from pydantic<1.11,>=1.9.0->zenml) (4.12.2)\n",
            "Requirement already satisfied: six>=1.5 in /usr/local/lib/python3.10/dist-packages (from python-dateutil<3.0.0,>=2.8.1->zenml) (1.16.0)\n",
            "Requirement already satisfied: charset-normalizer<4,>=2 in /usr/local/lib/python3.10/dist-packages (from requests<2.32.0->zenml) (3.3.2)\n",
            "Requirement already satisfied: idna<4,>=2.5 in /usr/local/lib/python3.10/dist-packages (from requests<2.32.0->zenml) (3.7)\n",
            "Requirement already satisfied: certifi>=2017.4.17 in /usr/local/lib/python3.10/dist-packages (from requests<2.32.0->zenml) (2024.6.2)\n",
            "Requirement already satisfied: markdown-it-py>=2.2.0 in /usr/local/lib/python3.10/dist-packages (from rich[jupyter]>=12.0.0->zenml) (3.0.0)\n",
            "Requirement already satisfied: pygments<3.0.0,>=2.13.0 in /usr/local/lib/python3.10/dist-packages (from rich[jupyter]>=12.0.0->zenml) (2.16.1)\n",
            "Requirement already satisfied: ipywidgets<9,>=7.5.1 in /usr/local/lib/python3.10/dist-packages (from rich[jupyter]>=12.0.0->zenml) (7.7.1)\n",
            "Requirement already satisfied: azure-core<2.0.0,>=1.26.2 in /usr/local/lib/python3.10/dist-packages (from azure-mgmt-core>=1.3.2->azure-mgmt-resource>=21.0.0->zenml) (1.30.2)\n",
            "Requirement already satisfied: smmap<6,>=3.0.1 in /usr/local/lib/python3.10/dist-packages (from gitdb<5,>=4.0.1->gitpython<4.0.0,>=3.1.18->zenml) (5.0.1)\n",
            "Requirement already satisfied: ipykernel>=4.5.1 in /usr/local/lib/python3.10/dist-packages (from ipywidgets<9,>=7.5.1->rich[jupyter]>=12.0.0->zenml) (5.5.6)\n",
            "Requirement already satisfied: ipython-genutils~=0.2.0 in /usr/local/lib/python3.10/dist-packages (from ipywidgets<9,>=7.5.1->rich[jupyter]>=12.0.0->zenml) (0.2.0)\n",
            "Requirement already satisfied: traitlets>=4.3.1 in /usr/local/lib/python3.10/dist-packages (from ipywidgets<9,>=7.5.1->rich[jupyter]>=12.0.0->zenml) (5.7.1)\n",
            "Requirement already satisfied: widgetsnbextension~=3.6.0 in /usr/local/lib/python3.10/dist-packages (from ipywidgets<9,>=7.5.1->rich[jupyter]>=12.0.0->zenml) (3.6.6)\n",
            "Requirement already satisfied: ipython>=4.0.0 in /usr/local/lib/python3.10/dist-packages (from ipywidgets<9,>=7.5.1->rich[jupyter]>=12.0.0->zenml) (7.34.0)\n",
            "Requirement already satisfied: jupyterlab-widgets>=1.0.0 in /usr/local/lib/python3.10/dist-packages (from ipywidgets<9,>=7.5.1->rich[jupyter]>=12.0.0->zenml) (3.0.11)\n",
            "Requirement already satisfied: mdurl~=0.1 in /usr/local/lib/python3.10/dist-packages (from markdown-it-py>=2.2.0->rich[jupyter]>=12.0.0->zenml) (0.1.2)\n",
            "Requirement already satisfied: greenlet!=0.4.17 in /usr/local/lib/python3.10/dist-packages (from SQLAlchemy>=1.3->sqlalchemy_utils==0.38.3->zenml) (3.0.3)\n",
            "Requirement already satisfied: decorator>=3.4.0 in /usr/local/lib/python3.10/dist-packages (from validators<0.19,>=0.18->click-params<0.4.0,>=0.3.0->zenml) (4.4.2)\n",
            "Requirement already satisfied: MarkupSafe>=0.9.2 in /usr/local/lib/python3.10/dist-packages (from Mako->alembic<1.9.0,>=1.8.1->zenml) (2.1.5)\n",
            "Requirement already satisfied: jupyter-client in /usr/local/lib/python3.10/dist-packages (from ipykernel>=4.5.1->ipywidgets<9,>=7.5.1->rich[jupyter]>=12.0.0->zenml) (6.1.12)\n",
            "Requirement already satisfied: tornado>=4.2 in /usr/local/lib/python3.10/dist-packages (from ipykernel>=4.5.1->ipywidgets<9,>=7.5.1->rich[jupyter]>=12.0.0->zenml) (6.3.3)\n",
            "Requirement already satisfied: setuptools>=18.5 in /usr/local/lib/python3.10/dist-packages (from ipython>=4.0.0->ipywidgets<9,>=7.5.1->rich[jupyter]>=12.0.0->zenml) (67.7.2)\n",
            "Requirement already satisfied: jedi>=0.16 in /usr/local/lib/python3.10/dist-packages (from ipython>=4.0.0->ipywidgets<9,>=7.5.1->rich[jupyter]>=12.0.0->zenml) (0.19.1)\n",
            "Requirement already satisfied: pickleshare in /usr/local/lib/python3.10/dist-packages (from ipython>=4.0.0->ipywidgets<9,>=7.5.1->rich[jupyter]>=12.0.0->zenml) (0.7.5)\n",
            "Requirement already satisfied: prompt-toolkit!=3.0.0,!=3.0.1,<3.1.0,>=2.0.0 in /usr/local/lib/python3.10/dist-packages (from ipython>=4.0.0->ipywidgets<9,>=7.5.1->rich[jupyter]>=12.0.0->zenml) (3.0.47)\n",
            "Requirement already satisfied: backcall in /usr/local/lib/python3.10/dist-packages (from ipython>=4.0.0->ipywidgets<9,>=7.5.1->rich[jupyter]>=12.0.0->zenml) (0.2.0)\n",
            "Requirement already satisfied: matplotlib-inline in /usr/local/lib/python3.10/dist-packages (from ipython>=4.0.0->ipywidgets<9,>=7.5.1->rich[jupyter]>=12.0.0->zenml) (0.1.7)\n",
            "Requirement already satisfied: pexpect>4.3 in /usr/local/lib/python3.10/dist-packages (from ipython>=4.0.0->ipywidgets<9,>=7.5.1->rich[jupyter]>=12.0.0->zenml) (4.9.0)\n",
            "Requirement already satisfied: notebook>=4.4.1 in /usr/local/lib/python3.10/dist-packages (from widgetsnbextension~=3.6.0->ipywidgets<9,>=7.5.1->rich[jupyter]>=12.0.0->zenml) (6.5.5)\n",
            "Requirement already satisfied: parso<0.9.0,>=0.8.3 in /usr/local/lib/python3.10/dist-packages (from jedi>=0.16->ipython>=4.0.0->ipywidgets<9,>=7.5.1->rich[jupyter]>=12.0.0->zenml) (0.8.4)\n",
            "Requirement already satisfied: jinja2 in /usr/local/lib/python3.10/dist-packages (from notebook>=4.4.1->widgetsnbextension~=3.6.0->ipywidgets<9,>=7.5.1->rich[jupyter]>=12.0.0->zenml) (3.1.4)\n",
            "Requirement already satisfied: pyzmq<25,>=17 in /usr/local/lib/python3.10/dist-packages (from notebook>=4.4.1->widgetsnbextension~=3.6.0->ipywidgets<9,>=7.5.1->rich[jupyter]>=12.0.0->zenml) (24.0.1)\n",
            "Requirement already satisfied: argon2-cffi in /usr/local/lib/python3.10/dist-packages (from notebook>=4.4.1->widgetsnbextension~=3.6.0->ipywidgets<9,>=7.5.1->rich[jupyter]>=12.0.0->zenml) (23.1.0)\n",
            "Requirement already satisfied: jupyter-core>=4.6.1 in /usr/local/lib/python3.10/dist-packages (from notebook>=4.4.1->widgetsnbextension~=3.6.0->ipywidgets<9,>=7.5.1->rich[jupyter]>=12.0.0->zenml) (5.7.2)\n",
            "Requirement already satisfied: nbformat in /usr/local/lib/python3.10/dist-packages (from notebook>=4.4.1->widgetsnbextension~=3.6.0->ipywidgets<9,>=7.5.1->rich[jupyter]>=12.0.0->zenml) (5.10.4)\n",
            "Requirement already satisfied: nbconvert>=5 in /usr/local/lib/python3.10/dist-packages (from notebook>=4.4.1->widgetsnbextension~=3.6.0->ipywidgets<9,>=7.5.1->rich[jupyter]>=12.0.0->zenml) (6.5.4)\n",
            "Requirement already satisfied: nest-asyncio>=1.5 in /usr/local/lib/python3.10/dist-packages (from notebook>=4.4.1->widgetsnbextension~=3.6.0->ipywidgets<9,>=7.5.1->rich[jupyter]>=12.0.0->zenml) (1.6.0)\n",
            "Requirement already satisfied: Send2Trash>=1.8.0 in /usr/local/lib/python3.10/dist-packages (from notebook>=4.4.1->widgetsnbextension~=3.6.0->ipywidgets<9,>=7.5.1->rich[jupyter]>=12.0.0->zenml) (1.8.3)\n",
            "Requirement already satisfied: terminado>=0.8.3 in /usr/local/lib/python3.10/dist-packages (from notebook>=4.4.1->widgetsnbextension~=3.6.0->ipywidgets<9,>=7.5.1->rich[jupyter]>=12.0.0->zenml) (0.18.1)\n",
            "Requirement already satisfied: prometheus-client in /usr/local/lib/python3.10/dist-packages (from notebook>=4.4.1->widgetsnbextension~=3.6.0->ipywidgets<9,>=7.5.1->rich[jupyter]>=12.0.0->zenml) (0.20.0)\n",
            "Requirement already satisfied: nbclassic>=0.4.7 in /usr/local/lib/python3.10/dist-packages (from notebook>=4.4.1->widgetsnbextension~=3.6.0->ipywidgets<9,>=7.5.1->rich[jupyter]>=12.0.0->zenml) (1.1.0)\n",
            "Requirement already satisfied: ptyprocess>=0.5 in /usr/local/lib/python3.10/dist-packages (from pexpect>4.3->ipython>=4.0.0->ipywidgets<9,>=7.5.1->rich[jupyter]>=12.0.0->zenml) (0.7.0)\n",
            "Requirement already satisfied: wcwidth in /usr/local/lib/python3.10/dist-packages (from prompt-toolkit!=3.0.0,!=3.0.1,<3.1.0,>=2.0.0->ipython>=4.0.0->ipywidgets<9,>=7.5.1->rich[jupyter]>=12.0.0->zenml) (0.2.13)\n",
            "Requirement already satisfied: platformdirs>=2.5 in /usr/local/lib/python3.10/dist-packages (from jupyter-core>=4.6.1->notebook>=4.4.1->widgetsnbextension~=3.6.0->ipywidgets<9,>=7.5.1->rich[jupyter]>=12.0.0->zenml) (4.2.2)\n",
            "Requirement already satisfied: notebook-shim>=0.2.3 in /usr/local/lib/python3.10/dist-packages (from nbclassic>=0.4.7->notebook>=4.4.1->widgetsnbextension~=3.6.0->ipywidgets<9,>=7.5.1->rich[jupyter]>=12.0.0->zenml) (0.2.4)\n",
            "Requirement already satisfied: lxml in /usr/local/lib/python3.10/dist-packages (from nbconvert>=5->notebook>=4.4.1->widgetsnbextension~=3.6.0->ipywidgets<9,>=7.5.1->rich[jupyter]>=12.0.0->zenml) (4.9.4)\n",
            "Requirement already satisfied: beautifulsoup4 in /usr/local/lib/python3.10/dist-packages (from nbconvert>=5->notebook>=4.4.1->widgetsnbextension~=3.6.0->ipywidgets<9,>=7.5.1->rich[jupyter]>=12.0.0->zenml) (4.12.3)\n",
            "Requirement already satisfied: bleach in /usr/local/lib/python3.10/dist-packages (from nbconvert>=5->notebook>=4.4.1->widgetsnbextension~=3.6.0->ipywidgets<9,>=7.5.1->rich[jupyter]>=12.0.0->zenml) (6.1.0)\n",
            "Requirement already satisfied: defusedxml in /usr/local/lib/python3.10/dist-packages (from nbconvert>=5->notebook>=4.4.1->widgetsnbextension~=3.6.0->ipywidgets<9,>=7.5.1->rich[jupyter]>=12.0.0->zenml) (0.7.1)\n",
            "Requirement already satisfied: entrypoints>=0.2.2 in /usr/local/lib/python3.10/dist-packages (from nbconvert>=5->notebook>=4.4.1->widgetsnbextension~=3.6.0->ipywidgets<9,>=7.5.1->rich[jupyter]>=12.0.0->zenml) (0.4)\n",
            "Requirement already satisfied: jupyterlab-pygments in /usr/local/lib/python3.10/dist-packages (from nbconvert>=5->notebook>=4.4.1->widgetsnbextension~=3.6.0->ipywidgets<9,>=7.5.1->rich[jupyter]>=12.0.0->zenml) (0.3.0)\n",
            "Requirement already satisfied: mistune<2,>=0.8.1 in /usr/local/lib/python3.10/dist-packages (from nbconvert>=5->notebook>=4.4.1->widgetsnbextension~=3.6.0->ipywidgets<9,>=7.5.1->rich[jupyter]>=12.0.0->zenml) (0.8.4)\n",
            "Requirement already satisfied: nbclient>=0.5.0 in /usr/local/lib/python3.10/dist-packages (from nbconvert>=5->notebook>=4.4.1->widgetsnbextension~=3.6.0->ipywidgets<9,>=7.5.1->rich[jupyter]>=12.0.0->zenml) (0.10.0)\n",
            "Requirement already satisfied: pandocfilters>=1.4.1 in /usr/local/lib/python3.10/dist-packages (from nbconvert>=5->notebook>=4.4.1->widgetsnbextension~=3.6.0->ipywidgets<9,>=7.5.1->rich[jupyter]>=12.0.0->zenml) (1.5.1)\n",
            "Requirement already satisfied: tinycss2 in /usr/local/lib/python3.10/dist-packages (from nbconvert>=5->notebook>=4.4.1->widgetsnbextension~=3.6.0->ipywidgets<9,>=7.5.1->rich[jupyter]>=12.0.0->zenml) (1.3.0)\n",
            "Requirement already satisfied: fastjsonschema>=2.15 in /usr/local/lib/python3.10/dist-packages (from nbformat->notebook>=4.4.1->widgetsnbextension~=3.6.0->ipywidgets<9,>=7.5.1->rich[jupyter]>=12.0.0->zenml) (2.20.0)\n",
            "Requirement already satisfied: jsonschema>=2.6 in /usr/local/lib/python3.10/dist-packages (from nbformat->notebook>=4.4.1->widgetsnbextension~=3.6.0->ipywidgets<9,>=7.5.1->rich[jupyter]>=12.0.0->zenml) (4.19.2)\n",
            "Requirement already satisfied: argon2-cffi-bindings in /usr/local/lib/python3.10/dist-packages (from argon2-cffi->notebook>=4.4.1->widgetsnbextension~=3.6.0->ipywidgets<9,>=7.5.1->rich[jupyter]>=12.0.0->zenml) (21.2.0)\n",
            "Requirement already satisfied: attrs>=22.2.0 in /usr/local/lib/python3.10/dist-packages (from jsonschema>=2.6->nbformat->notebook>=4.4.1->widgetsnbextension~=3.6.0->ipywidgets<9,>=7.5.1->rich[jupyter]>=12.0.0->zenml) (23.2.0)\n",
            "Requirement already satisfied: jsonschema-specifications>=2023.03.6 in /usr/local/lib/python3.10/dist-packages (from jsonschema>=2.6->nbformat->notebook>=4.4.1->widgetsnbextension~=3.6.0->ipywidgets<9,>=7.5.1->rich[jupyter]>=12.0.0->zenml) (2023.12.1)\n",
            "Requirement already satisfied: referencing>=0.28.4 in /usr/local/lib/python3.10/dist-packages (from jsonschema>=2.6->nbformat->notebook>=4.4.1->widgetsnbextension~=3.6.0->ipywidgets<9,>=7.5.1->rich[jupyter]>=12.0.0->zenml) (0.35.1)\n",
            "Requirement already satisfied: rpds-py>=0.7.1 in /usr/local/lib/python3.10/dist-packages (from jsonschema>=2.6->nbformat->notebook>=4.4.1->widgetsnbextension~=3.6.0->ipywidgets<9,>=7.5.1->rich[jupyter]>=12.0.0->zenml) (0.18.1)\n",
            "Requirement already satisfied: jupyter-server<3,>=1.8 in /usr/local/lib/python3.10/dist-packages (from notebook-shim>=0.2.3->nbclassic>=0.4.7->notebook>=4.4.1->widgetsnbextension~=3.6.0->ipywidgets<9,>=7.5.1->rich[jupyter]>=12.0.0->zenml) (1.24.0)\n",
            "Requirement already satisfied: cffi>=1.0.1 in /usr/local/lib/python3.10/dist-packages (from argon2-cffi-bindings->argon2-cffi->notebook>=4.4.1->widgetsnbextension~=3.6.0->ipywidgets<9,>=7.5.1->rich[jupyter]>=12.0.0->zenml) (1.16.0)\n",
            "Requirement already satisfied: soupsieve>1.2 in /usr/local/lib/python3.10/dist-packages (from beautifulsoup4->nbconvert>=5->notebook>=4.4.1->widgetsnbextension~=3.6.0->ipywidgets<9,>=7.5.1->rich[jupyter]>=12.0.0->zenml) (2.5)\n",
            "Requirement already satisfied: webencodings in /usr/local/lib/python3.10/dist-packages (from bleach->nbconvert>=5->notebook>=4.4.1->widgetsnbextension~=3.6.0->ipywidgets<9,>=7.5.1->rich[jupyter]>=12.0.0->zenml) (0.5.1)\n",
            "Requirement already satisfied: pycparser in /usr/local/lib/python3.10/dist-packages (from cffi>=1.0.1->argon2-cffi-bindings->argon2-cffi->notebook>=4.4.1->widgetsnbextension~=3.6.0->ipywidgets<9,>=7.5.1->rich[jupyter]>=12.0.0->zenml) (2.22)\n",
            "Requirement already satisfied: anyio<4,>=3.1.0 in /usr/local/lib/python3.10/dist-packages (from jupyter-server<3,>=1.8->notebook-shim>=0.2.3->nbclassic>=0.4.7->notebook>=4.4.1->widgetsnbextension~=3.6.0->ipywidgets<9,>=7.5.1->rich[jupyter]>=12.0.0->zenml) (3.7.1)\n",
            "Requirement already satisfied: sniffio>=1.1 in /usr/local/lib/python3.10/dist-packages (from anyio<4,>=3.1.0->jupyter-server<3,>=1.8->notebook-shim>=0.2.3->nbclassic>=0.4.7->notebook>=4.4.1->widgetsnbextension~=3.6.0->ipywidgets<9,>=7.5.1->rich[jupyter]>=12.0.0->zenml) (1.3.1)\n",
            "Requirement already satisfied: exceptiongroup in /usr/local/lib/python3.10/dist-packages (from anyio<4,>=3.1.0->jupyter-server<3,>=1.8->notebook-shim>=0.2.3->nbclassic>=0.4.7->notebook>=4.4.1->widgetsnbextension~=3.6.0->ipywidgets<9,>=7.5.1->rich[jupyter]>=12.0.0->zenml) (1.2.1)\n"
          ]
        }
      ],
      "source": [
        "%pip install \"zenml[server]\"\n",
        "!zenml integration install sklearn -y\n",
        "%pip install pyparsing==2.4.2\n",
        "%pip install zenml\n",
        "\n"
      ]
    },
    {
      "cell_type": "code",
      "source": [
        "NGROK_TOKEN = \"2bDnUfDo5TLvPNJD6s0rgZ66V6m_4Sui54Juz6qyGbsfZJuc6\""
      ],
      "metadata": {
        "id": "Ardf2P3LhyUm"
      },
      "execution_count": null,
      "outputs": []
    },
    {
      "cell_type": "code",
      "source": [
        "from zenml.environment import Environment\n",
        "\n",
        "if Environment.in_google_colab():\n",
        "\n",
        "    !pip install pyngrok\n",
        "    !ngrok authtoken {NGROK_TOKEN}"
      ],
      "metadata": {
        "colab": {
          "base_uri": "https://localhost:8080/"
        },
        "id": "tGf4ELWXkoge",
        "outputId": "84fb8f8e-ddd5-4369-8b77-b949c2b4a2ad"
      },
      "execution_count": null,
      "outputs": [
        {
          "output_type": "stream",
          "name": "stdout",
          "text": [
            "Requirement already satisfied: pyngrok in /usr/local/lib/python3.10/dist-packages (7.1.6)\n",
            "Requirement already satisfied: PyYAML>=5.1 in /usr/local/lib/python3.10/dist-packages (from pyngrok) (6.0.1)\n",
            "Authtoken saved to configuration file: /root/.config/ngrok/ngrok.yml\n"
          ]
        }
      ]
    },
    {
      "cell_type": "code",
      "source": [
        "!rm -rf .zen\n",
        "!zenml init"
      ],
      "metadata": {
        "colab": {
          "base_uri": "https://localhost:8080/"
        },
        "id": "pRAl4Yr8lVdd",
        "outputId": "0a409351-059c-4d3e-dd46-8732fffca6f3"
      },
      "execution_count": null,
      "outputs": [
        {
          "output_type": "stream",
          "name": "stdout",
          "text": [
            "\u001b[1;35mNumExpr defaulting to 2 threads.\u001b[0m\n",
            "\u001b[?25l\u001b[32m⠋\u001b[0m Initializing ZenML repository at /content.\n",
            "\u001b[2K\u001b[1A\u001b[2K\u001b[32m⠙\u001b[0m Initializing ZenML repository at /content.\n",
            "\u001b[2K\u001b[1A\u001b[2K\u001b[32m⠹\u001b[0m Initializing ZenML repository at /content.\n",
            "\u001b[2K\u001b[1A\u001b[2K\u001b[32m⠸\u001b[0m Initializing ZenML repository at /content.\n",
            "\u001b[2K\u001b[1A\u001b[2K\u001b[32m⠼\u001b[0m Initializing ZenML repository at /content.\n",
            "\u001b[2K\u001b[1A\u001b[2K\u001b[32m⠴\u001b[0m Initializing ZenML repository at /content.\n",
            "\u001b[1;35mSetting the repo active workspace to 'default'.\u001b[0m\n",
            "\u001b[33mSetting the repo active stack to default.\u001b[0m\n",
            "\u001b[2K\u001b[1A\u001b[2K\u001b[2;36mZenML repository initialized at \u001b[0m\u001b[2;35m/\u001b[0m\u001b[2;95mcontent.\u001b[0m\n",
            "\u001b[2;32m⠦\u001b[0m\u001b[2;36m Initializing ZenML repository at /content.\u001b[0m\n",
            "\u001b[2K\u001b[1A\u001b[2K\u001b[32m⠦\u001b[0m Initializing ZenML repository at /content.\n",
            "\n",
            "\u001b[1A\u001b[2K\u001b[1A\u001b[2K\u001b[2;36mThe local active stack was initialized to \u001b[0m\u001b[2;32m'default'\u001b[0m\u001b[2;36m. This local configuration will only take effect \u001b[0m\n",
            "\u001b[2;36mwhen you're running ZenML from the initialized repository root, or from a subdirectory. For more \u001b[0m\n",
            "\u001b[2;36minformation on repositories and configurations, please visit \u001b[0m\n",
            "\u001b[2;4;94mhttps://docs.zenml.io/user-guide/starter-guide/understand-stacks.\u001b[0m\n"
          ]
        }
      ]
    },
    {
      "cell_type": "code",
      "source": [
        "import numpy as np\n",
        "from sklearn.base import ClassifierMixin\n",
        "from sklearn.svm import SVC\n",
        "from sklearn.datasets import load_digits\n",
        "from sklearn.model_selection import train_test_split\n",
        "\n",
        "def train_test() -> None:\n",
        "    \"Train and test a sklearn svc classifier on digits\"\n",
        "    digits = load_digits()\n",
        "    data = digits.images.reshape((len(digits.images), -1))\n",
        "    X_train , X_test , y_train , y_test = train_test_split(\n",
        "        data , digits.target , test_size=0.2 , shuffle=False\n",
        "    )\n",
        "    model = SVC(gamma=0.001)\n",
        "    model.fit(X_train , y_train)\n",
        "    test_acc = model.score(X_test , y_test)\n",
        "    print(f\"test accuracy: {test_acc}\")\n",
        "\n",
        "train_test()\n",
        "\n"
      ],
      "metadata": {
        "colab": {
          "base_uri": "https://localhost:8080/"
        },
        "id": "qspTg3eJldN3",
        "outputId": "3ec38883-d6be-445e-d537-235f66e7451b"
      },
      "execution_count": null,
      "outputs": [
        {
          "output_type": "stream",
          "name": "stdout",
          "text": [
            "test accuracy: 0.9583333333333334\n"
          ]
        }
      ]
    },
    {
      "cell_type": "code",
      "source": [
        "from zenml import step\n",
        "from typing_extensions import Annotated\n",
        "import pandas as pd\n",
        "from typing import Tuple\n",
        "\n",
        "@step\n",
        "def importer() -> Tuple[\n",
        "    Annotated[np.ndarray , \"X_train\"],\n",
        "    Annotated[np.ndarray , \"X_test\"],\n",
        "    Annotated[np.ndarray , \"y_train\"],\n",
        "    Annotated[np.ndarray , \"y_test\"],\n",
        "]:\n",
        "    \"\"\" Load the digits dataset as nampy arrays.\"\"\"\n",
        "    digits = load_digits()\n",
        "    data = digits.images.reshape((len(digits.images), -1))\n",
        "    X_train , X_test , y_train , y_test = train_test_split(\n",
        "        data , digits.target , test_size=0.2 , shuffle=False\n",
        "    )\n",
        "    return X_train , X_test , y_train , y_test\n",
        "\n",
        "\n",
        "@step\n",
        "def svc_trainer(\n",
        "    X_train: np.ndarray,\n",
        "    y_train: np.ndarray,\n",
        ") -> ClassifierMixin:\n",
        "     \"\"\"Train an sklearn SVC classifier\"\"\"\n",
        "     model = SVC(gamma=0.001)\n",
        "     model.fit(X_train , y_train)\n",
        "     return model\n",
        "\n",
        "\n",
        "@step\n",
        "\n",
        "def evaluation (\n",
        "    X_test : np.ndarray,\n",
        "    y_test: np.ndarray,\n",
        "    model: ClassifierMixin,\n",
        ") -> float:\n",
        "   \"\"\" Calculate the test set accuracy of an sklearn model.\"\"\"\n",
        "   test_acc = model.score(X_test , y_test)\n",
        "   print(f\"Test accuracy: {test_acc}\")\n",
        "   return test_acc\n"
      ],
      "metadata": {
        "id": "rHtRXubzpJbF"
      },
      "execution_count": null,
      "outputs": []
    },
    {
      "cell_type": "code",
      "source": [
        "from zenml import pipeline\n",
        "\n",
        "@pipeline\n",
        "def digits_pipline():\n",
        "    \"\"\"Links all the steps together in a pipline\"\"\"\n",
        "    X_train , X_test , y_train , y_test=importer()\n",
        "    model = svc_trainer(X_train=X_train , y_train=y_train)\n",
        "    evaluation(X_test=X_test ,y_test=y_test , model=model)"
      ],
      "metadata": {
        "id": "58EQtmnktteJ"
      },
      "execution_count": null,
      "outputs": []
    },
    {
      "cell_type": "code",
      "source": [
        "gigits_svc_pipeline=digits_pipline()"
      ],
      "metadata": {
        "colab": {
          "base_uri": "https://localhost:8080/"
        },
        "id": "FZJdoI16vWWT",
        "outputId": "b4de2918-7202-4088-83e4-55075ede233f"
      },
      "execution_count": null,
      "outputs": [
        {
          "output_type": "stream",
          "name": "stdout",
          "text": [
            "\u001b[1;35mInitiating a new run for the pipeline: \u001b[0m\u001b[1;36mdigits_pipline\u001b[1;35m.\u001b[0m\n",
            "\u001b[1;35mReusing registered pipeline version: \u001b[0m\u001b[1;36m(version: 2)\u001b[1;35m.\u001b[0m\n",
            "\u001b[1;35mExecuting a new run.\u001b[0m\n",
            "\u001b[1;35mUsing user: \u001b[0m\u001b[1;36mdefault\u001b[1;35m\u001b[0m\n",
            "\u001b[1;35mUsing stack: \u001b[0m\u001b[1;36mdefault\u001b[1;35m\u001b[0m\n",
            "\u001b[1;35m  orchestrator: \u001b[0m\u001b[1;36mdefault\u001b[1;35m\u001b[0m\n",
            "\u001b[1;35m  artifact_store: \u001b[0m\u001b[1;36mdefault\u001b[1;35m\u001b[0m\n",
            "\u001b[1;35mYou can visualize your pipeline runs in the \u001b[0m\u001b[1;36mZenML Dashboard\u001b[1;35m. In order to try it locally, please run \u001b[0m\u001b[1;36mzenml up\u001b[1;35m.\u001b[0m\n",
            "\u001b[1;35mUsing cached version of \u001b[0m\u001b[1;36mimporter\u001b[1;35m.\u001b[0m\n",
            "\u001b[1;35mStep \u001b[0m\u001b[1;36mimporter\u001b[1;35m has started.\u001b[0m\n",
            "\u001b[1;35mUsing cached version of \u001b[0m\u001b[1;36msvc_trainer\u001b[1;35m.\u001b[0m\n",
            "\u001b[1;35mStep \u001b[0m\u001b[1;36msvc_trainer\u001b[1;35m has started.\u001b[0m\n",
            "\u001b[1;35mUsing cached version of \u001b[0m\u001b[1;36mevaluation\u001b[1;35m.\u001b[0m\n",
            "\u001b[1;35mStep \u001b[0m\u001b[1;36mevaluation\u001b[1;35m has started.\u001b[0m\n",
            "\u001b[1;35mPipeline run has finished in \u001b[0m\u001b[1;36m0.935s\u001b[1;35m.\u001b[0m\n"
          ]
        }
      ]
    },
    {
      "cell_type": "code",
      "source": [
        "from zenml.environment import Environment\n",
        "\n",
        "def start_zenml_dashboard(port=8888):\n",
        "    if Environment.in_google_colab():\n",
        "        from pyngrok import ngrok\n",
        "\n",
        "        public_url = ngrok.connect(port)\n",
        "        print(f\"\\x1b[31mIn Colab , use this: {public_url}!\\x1b[0m\")\n",
        "        !zenml up --blocking --port {port}\n",
        "\n",
        "    else:\n",
        "        !zenml up --port {port}\n",
        "\n",
        "start_zenml_dashboard()"
      ],
      "metadata": {
        "colab": {
          "base_uri": "https://localhost:8080/"
        },
        "id": "sXgLwBBEv2Zl",
        "outputId": "2ea04eb6-f6a3-440b-88dd-6199638173a1"
      },
      "execution_count": null,
      "outputs": [
        {
          "metadata": {
            "tags": null
          },
          "name": "stderr",
          "output_type": "stream",
          "text": [
            "INFO:pyngrok.ngrok:Opening tunnel named: http-8888-ef9eff51-0b90-4035-a11d-52ef024a9dd3\n"
          ]
        },
        {
          "metadata": {
            "tags": null
          },
          "name": "stdout",
          "output_type": "stream",
          "text": [
            "\u001b[1;35mOpening tunnel named: http-8888-ef9eff51-0b90-4035-a11d-52ef024a9dd3\u001b[0m\n"
          ]
        },
        {
          "metadata": {
            "tags": null
          },
          "name": "stderr",
          "output_type": "stream",
          "text": [
            "INFO:pyngrok.process.ngrok:t=2024-06-22T13:36:02+0000 lvl=info msg=start pg=/api/tunnels id=188b15c4a9371664\n"
          ]
        },
        {
          "metadata": {
            "tags": null
          },
          "name": "stdout",
          "output_type": "stream",
          "text": [
            "\u001b[1;35mt=2024-06-22T13:36:02+0000 lvl=info msg=start pg=/api/tunnels id=188b15c4a9371664\u001b[0m\n"
          ]
        },
        {
          "metadata": {
            "tags": null
          },
          "name": "stderr",
          "output_type": "stream",
          "text": [
            "INFO:pyngrok.process.ngrok:t=2024-06-22T13:36:02+0000 lvl=info msg=\"started tunnel\" obj=tunnels name=http-8888-ef9eff51-0b90-4035-a11d-52ef024a9dd3 addr=http://localhost:8888 url=https://0c49-34-48-90-138.ngrok-free.app\n"
          ]
        },
        {
          "metadata": {
            "tags": null
          },
          "name": "stdout",
          "output_type": "stream",
          "text": [
            "\u001b[1;35mt=2024-06-22T13:36:02+0000 lvl=info msg=\"started tunnel\" obj=tunnels name=http-8888-ef9eff51-0b90-4035-a11d-52ef024a9dd3 addr=http://localhost:8888 url=https://0c49-34-48-90-138.ngrok-free.app\u001b[0m\n"
          ]
        },
        {
          "metadata": {
            "tags": null
          },
          "name": "stderr",
          "output_type": "stream",
          "text": [
            "INFO:pyngrok.process.ngrok:t=2024-06-22T13:36:02+0000 lvl=info msg=end pg=/api/tunnels id=188b15c4a9371664 status=201 dur=30.870238ms\n"
          ]
        },
        {
          "metadata": {
            "tags": null
          },
          "name": "stdout",
          "output_type": "stream",
          "text": [
            "\u001b[31mIn Colab , use this: NgrokTunnel: \"https://0c49-34-48-90-138.ngrok-free.app\" -> \"http://localhost:8888\"!\u001b[0m\n",
            "\u001b[1;35mt=2024-06-22T13:36:02+0000 lvl=info msg=end pg=/api/tunnels id=188b15c4a9371664 status=201 dur=30.870238ms\u001b[0m\n",
            "\u001b[1;35mNumExpr defaulting to 2 threads.\u001b[0m\n",
            "\u001b[2;36mThe local ZenML dashboard is about to deploy in a blocking process. You can connect to it using the \u001b[0m\n",
            "\u001b[2;32m'default'\u001b[0m\u001b[2;36m username and an empty password.\u001b[0m\n",
            "\u001b[1;35mDeploying a local ZenML server with name 'local'.\u001b[0m\n",
            "\u001b[1;35mStarting ZenML Server as blocking process... press CTRL+C once to stop it.\u001b[0m\n",
            "\u001b[32mINFO\u001b[0m:     Started server process [\u001b[36m44220\u001b[0m]\n",
            "\u001b[32mINFO\u001b[0m:     Waiting for application startup.\n",
            "\u001b[1;35mNot writing the global configuration to disk in a ZenML server environment.\u001b[0m\n",
            "\u001b[1;35mNot writing the global configuration to disk in a ZenML server environment.\u001b[0m\n",
            "\u001b[32mINFO\u001b[0m:     Application startup complete.\n",
            "\u001b[32mINFO\u001b[0m:     Uvicorn running on \u001b[1mhttp://127.0.0.1:8888\u001b[0m (Press CTRL+C to quit)\n"
          ]
        },
        {
          "metadata": {
            "tags": null
          },
          "name": "stderr",
          "output_type": "stream",
          "text": [
            "INFO:pyngrok.process.ngrok:t=2024-06-22T13:54:32+0000 lvl=info msg=\"join connections\" obj=join id=cca07ef720a2 l=127.0.0.1:8888 r=[2a01:5ec0:5812:1a43:49c1:297d:4bd:7419]:53344\n"
          ]
        },
        {
          "metadata": {
            "tags": null
          },
          "name": "stdout",
          "output_type": "stream",
          "text": [
            "\u001b[1;35mt=2024-06-22T13:54:32+0000 lvl=info msg=\"join connections\" obj=join id=cca07ef720a2 l=127.0.0.1:8888 r=[2a01:5ec0:5812:1a43:49c1:297d:4bd:7419]:53344\u001b[0m\n",
            "\u001b[32mINFO\u001b[0m:     2a01:5ec0:5812:1a43:49c1:297d:4bd:7419:0 - \"\u001b[1mGET / HTTP/1.1\u001b[0m\" \u001b[32m200 OK\u001b[0m\n"
          ]
        },
        {
          "metadata": {
            "tags": null
          },
          "name": "stderr",
          "output_type": "stream",
          "text": [
            "INFO:pyngrok.process.ngrok:t=2024-06-22T13:54:33+0000 lvl=info msg=\"join connections\" obj=join id=82b18338da57 l=127.0.0.1:8888 r=[2a01:5ec0:5812:1a43:49c1:297d:4bd:7419]:53344\n"
          ]
        },
        {
          "metadata": {
            "tags": null
          },
          "name": "stdout",
          "output_type": "stream",
          "text": [
            "\u001b[32mINFO\u001b[0m:     2a01:5ec0:5812:1a43:49c1:297d:4bd:7419:0 - \"\u001b[1mGET /assets/%40radix-C9DBgJhe.js HTTP/1.1\u001b[0m\" \u001b[32m200 OK\u001b[0m\n",
            "\u001b[1;35mt=2024-06-22T13:54:33+0000 lvl=info msg=\"join connections\" obj=join id=82b18338da57 l=127.0.0.1:8888 r=[2a01:5ec0:5812:1a43:49c1:297d:4bd:7419]:53344\u001b[0m\n"
          ]
        },
        {
          "metadata": {
            "tags": null
          },
          "name": "stderr",
          "output_type": "stream",
          "text": [
            "INFO:pyngrok.process.ngrok:t=2024-06-22T13:54:33+0000 lvl=info msg=\"join connections\" obj=join id=e6b6b8f23ae8 l=127.0.0.1:8888 r=[2a01:5ec0:5812:1a43:49c1:297d:4bd:7419]:53344\n"
          ]
        },
        {
          "metadata": {
            "tags": null
          },
          "name": "stdout",
          "output_type": "stream",
          "text": [
            "\u001b[1;35mt=2024-06-22T13:54:33+0000 lvl=info msg=\"join connections\" obj=join id=e6b6b8f23ae8 l=127.0.0.1:8888 r=[2a01:5ec0:5812:1a43:49c1:297d:4bd:7419]:53344\u001b[0m\n"
          ]
        },
        {
          "metadata": {
            "tags": null
          },
          "name": "stderr",
          "output_type": "stream",
          "text": [
            "INFO:pyngrok.process.ngrok:t=2024-06-22T13:54:33+0000 lvl=info msg=\"join connections\" obj=join id=9ee94edfc7b5 l=127.0.0.1:8888 r=[2a01:5ec0:5812:1a43:49c1:297d:4bd:7419]:53344\n"
          ]
        },
        {
          "metadata": {
            "tags": null
          },
          "name": "stdout",
          "output_type": "stream",
          "text": [
            "\u001b[1;35mt=2024-06-22T13:54:33+0000 lvl=info msg=\"join connections\" obj=join id=9ee94edfc7b5 l=127.0.0.1:8888 r=[2a01:5ec0:5812:1a43:49c1:297d:4bd:7419]:53344\u001b[0m\n"
          ]
        },
        {
          "metadata": {
            "tags": null
          },
          "name": "stderr",
          "output_type": "stream",
          "text": [
            "INFO:pyngrok.process.ngrok:t=2024-06-22T13:54:33+0000 lvl=info msg=\"join connections\" obj=join id=51c5391fa723 l=127.0.0.1:8888 r=[2a01:5ec0:5812:1a43:49c1:297d:4bd:7419]:53344\n"
          ]
        },
        {
          "metadata": {
            "tags": null
          },
          "name": "stdout",
          "output_type": "stream",
          "text": [
            "\u001b[1;35mt=2024-06-22T13:54:33+0000 lvl=info msg=\"join connections\" obj=join id=51c5391fa723 l=127.0.0.1:8888 r=[2a01:5ec0:5812:1a43:49c1:297d:4bd:7419]:53344\u001b[0m\n"
          ]
        },
        {
          "metadata": {
            "tags": null
          },
          "name": "stderr",
          "output_type": "stream",
          "text": [
            "INFO:pyngrok.process.ngrok:t=2024-06-22T13:54:33+0000 lvl=info msg=\"join connections\" obj=join id=ad63b51ca1a1 l=127.0.0.1:8888 r=[2a01:5ec0:5812:1a43:49c1:297d:4bd:7419]:53344\n"
          ]
        },
        {
          "metadata": {
            "tags": null
          },
          "name": "stdout",
          "output_type": "stream",
          "text": [
            "\u001b[1;35mt=2024-06-22T13:54:33+0000 lvl=info msg=\"join connections\" obj=join id=ad63b51ca1a1 l=127.0.0.1:8888 r=[2a01:5ec0:5812:1a43:49c1:297d:4bd:7419]:53344\u001b[0m\n"
          ]
        },
        {
          "metadata": {
            "tags": null
          },
          "name": "stderr",
          "output_type": "stream",
          "text": [
            "INFO:pyngrok.process.ngrok:t=2024-06-22T13:54:33+0000 lvl=info msg=\"join connections\" obj=join id=b24d8480627b l=127.0.0.1:8888 r=[2a01:5ec0:5812:1a43:49c1:297d:4bd:7419]:53344\n"
          ]
        },
        {
          "metadata": {
            "tags": null
          },
          "name": "stdout",
          "output_type": "stream",
          "text": [
            "\u001b[1;35mt=2024-06-22T13:54:33+0000 lvl=info msg=\"join connections\" obj=join id=b24d8480627b l=127.0.0.1:8888 r=[2a01:5ec0:5812:1a43:49c1:297d:4bd:7419]:53344\u001b[0m\n",
            "\u001b[32mINFO\u001b[0m:     2a01:5ec0:5812:1a43:49c1:297d:4bd:7419:0 - \"\u001b[1mGET /assets/%40react-router-DYovave8.js HTTP/1.1\u001b[0m\" \u001b[32m200 OK\u001b[0m\n",
            "\u001b[32mINFO\u001b[0m:     2a01:5ec0:5812:1a43:49c1:297d:4bd:7419:0 - \"\u001b[1mGET /assets/%40tanstack-CEbkxrhX.js HTTP/1.1\u001b[0m\" \u001b[32m200 OK\u001b[0m\n",
            "\u001b[32mINFO\u001b[0m:     2a01:5ec0:5812:1a43:49c1:297d:4bd:7419:0 - \"\u001b[1mGET /assets/index-QORVVTMN.js HTTP/1.1\u001b[0m\" \u001b[32m200 OK\u001b[0m\n",
            "\u001b[32mINFO\u001b[0m:     2a01:5ec0:5812:1a43:49c1:297d:4bd:7419:0 - \"\u001b[1mGET /assets/%40reactflow-C26Olbza.css HTTP/1.1\u001b[0m\" \u001b[32m200 OK\u001b[0m\n",
            "\u001b[32mINFO\u001b[0m:     2a01:5ec0:5812:1a43:49c1:297d:4bd:7419:0 - \"\u001b[1mGET /assets/index-CWJ3xbIf.css HTTP/1.1\u001b[0m\" \u001b[32m200 OK\u001b[0m\n",
            "\u001b[32mINFO\u001b[0m:     2a01:5ec0:5812:1a43:49c1:297d:4bd:7419:0 - \"\u001b[1mGET /assets/%40reactflow-CHBapDaj.js HTTP/1.1\u001b[0m\" \u001b[32m200 OK\u001b[0m\n"
          ]
        },
        {
          "metadata": {
            "tags": null
          },
          "name": "stderr",
          "output_type": "stream",
          "text": [
            "INFO:pyngrok.process.ngrok:t=2024-06-22T13:54:33+0000 lvl=info msg=\"join connections\" obj=join id=aaea0e9a84d5 l=127.0.0.1:8888 r=[2a01:5ec0:5812:1a43:49c1:297d:4bd:7419]:53344\n"
          ]
        },
        {
          "metadata": {
            "tags": null
          },
          "name": "stdout",
          "output_type": "stream",
          "text": [
            "\u001b[32mINFO\u001b[0m:     2a01:5ec0:5812:1a43:49c1:297d:4bd:7419:0 - \"\u001b[1mGET /assets/inter-cyrillic-400-normal-Df6ckaLK.woff2 HTTP/1.1\u001b[0m\" \u001b[32m200 OK\u001b[0m\n",
            "\u001b[1;35mt=2024-06-22T13:54:33+0000 lvl=info msg=\"join connections\" obj=join id=aaea0e9a84d5 l=127.0.0.1:8888 r=[2a01:5ec0:5812:1a43:49c1:297d:4bd:7419]:53344\u001b[0m\n"
          ]
        },
        {
          "metadata": {
            "tags": null
          },
          "name": "stderr",
          "output_type": "stream",
          "text": [
            "INFO:pyngrok.process.ngrok:t=2024-06-22T13:54:33+0000 lvl=info msg=\"join connections\" obj=join id=808177952b0c l=127.0.0.1:8888 r=[2a01:5ec0:5812:1a43:49c1:297d:4bd:7419]:53344\n"
          ]
        },
        {
          "metadata": {
            "tags": null
          },
          "name": "stdout",
          "output_type": "stream",
          "text": [
            "\u001b[1;35mt=2024-06-22T13:54:33+0000 lvl=info msg=\"join connections\" obj=join id=808177952b0c l=127.0.0.1:8888 r=[2a01:5ec0:5812:1a43:49c1:297d:4bd:7419]:53344\u001b[0m\n"
          ]
        },
        {
          "metadata": {
            "tags": null
          },
          "name": "stderr",
          "output_type": "stream",
          "text": [
            "INFO:pyngrok.process.ngrok:t=2024-06-22T13:54:33+0000 lvl=info msg=\"join connections\" obj=join id=8a5e20023c70 l=127.0.0.1:8888 r=[2a01:5ec0:5812:1a43:49c1:297d:4bd:7419]:53344\n"
          ]
        },
        {
          "metadata": {
            "tags": null
          },
          "name": "stdout",
          "output_type": "stream",
          "text": [
            "\u001b[1;35mt=2024-06-22T13:54:33+0000 lvl=info msg=\"join connections\" obj=join id=8a5e20023c70 l=127.0.0.1:8888 r=[2a01:5ec0:5812:1a43:49c1:297d:4bd:7419]:53344\u001b[0m\n"
          ]
        },
        {
          "metadata": {
            "tags": null
          },
          "name": "stderr",
          "output_type": "stream",
          "text": [
            "INFO:pyngrok.process.ngrok:t=2024-06-22T13:54:33+0000 lvl=info msg=\"join connections\" obj=join id=0c5d2f455852 l=127.0.0.1:8888 r=[2a01:5ec0:5812:1a43:49c1:297d:4bd:7419]:53344\n"
          ]
        },
        {
          "metadata": {
            "tags": null
          },
          "name": "stdout",
          "output_type": "stream",
          "text": [
            "\u001b[1;35mt=2024-06-22T13:54:33+0000 lvl=info msg=\"join connections\" obj=join id=0c5d2f455852 l=127.0.0.1:8888 r=[2a01:5ec0:5812:1a43:49c1:297d:4bd:7419]:53344\u001b[0m\n"
          ]
        },
        {
          "metadata": {
            "tags": null
          },
          "name": "stderr",
          "output_type": "stream",
          "text": [
            "INFO:pyngrok.process.ngrok:t=2024-06-22T13:54:33+0000 lvl=info msg=\"join connections\" obj=join id=0fd89d6d3162 l=127.0.0.1:8888 r=[2a01:5ec0:5812:1a43:49c1:297d:4bd:7419]:53344\n"
          ]
        },
        {
          "metadata": {
            "tags": null
          },
          "name": "stdout",
          "output_type": "stream",
          "text": [
            "\u001b[1;35mt=2024-06-22T13:54:33+0000 lvl=info msg=\"join connections\" obj=join id=0fd89d6d3162 l=127.0.0.1:8888 r=[2a01:5ec0:5812:1a43:49c1:297d:4bd:7419]:53344\u001b[0m\n"
          ]
        },
        {
          "metadata": {
            "tags": null
          },
          "name": "stderr",
          "output_type": "stream",
          "text": [
            "INFO:pyngrok.process.ngrok:t=2024-06-22T13:54:33+0000 lvl=info msg=\"join connections\" obj=join id=b7d79a92ad3f l=127.0.0.1:8888 r=[2a01:5ec0:5812:1a43:49c1:297d:4bd:7419]:53344\n"
          ]
        },
        {
          "metadata": {
            "tags": null
          },
          "name": "stdout",
          "output_type": "stream",
          "text": [
            "\u001b[1;35mt=2024-06-22T13:54:33+0000 lvl=info msg=\"join connections\" obj=join id=b7d79a92ad3f l=127.0.0.1:8888 r=[2a01:5ec0:5812:1a43:49c1:297d:4bd:7419]:53344\u001b[0m\n"
          ]
        },
        {
          "metadata": {
            "tags": null
          },
          "name": "stderr",
          "output_type": "stream",
          "text": [
            "INFO:pyngrok.process.ngrok:t=2024-06-22T13:54:33+0000 lvl=info msg=\"join connections\" obj=join id=b26bd158f38d l=127.0.0.1:8888 r=[2a01:5ec0:5812:1a43:49c1:297d:4bd:7419]:53344\n"
          ]
        },
        {
          "metadata": {
            "tags": null
          },
          "name": "stdout",
          "output_type": "stream",
          "text": [
            "\u001b[1;35mt=2024-06-22T13:54:33+0000 lvl=info msg=\"join connections\" obj=join id=b26bd158f38d l=127.0.0.1:8888 r=[2a01:5ec0:5812:1a43:49c1:297d:4bd:7419]:53344\u001b[0m\n"
          ]
        },
        {
          "metadata": {
            "tags": null
          },
          "name": "stderr",
          "output_type": "stream",
          "text": [
            "INFO:pyngrok.process.ngrok:t=2024-06-22T13:54:33+0000 lvl=info msg=\"join connections\" obj=join id=06ea4d9b1e7f l=127.0.0.1:8888 r=[2a01:5ec0:5812:1a43:49c1:297d:4bd:7419]:53344\n"
          ]
        },
        {
          "metadata": {
            "tags": null
          },
          "name": "stdout",
          "output_type": "stream",
          "text": [
            "\u001b[1;35mt=2024-06-22T13:54:33+0000 lvl=info msg=\"join connections\" obj=join id=06ea4d9b1e7f l=127.0.0.1:8888 r=[2a01:5ec0:5812:1a43:49c1:297d:4bd:7419]:53344\u001b[0m\n"
          ]
        },
        {
          "metadata": {
            "tags": null
          },
          "name": "stderr",
          "output_type": "stream",
          "text": [
            "INFO:pyngrok.process.ngrok:t=2024-06-22T13:54:33+0000 lvl=info msg=\"join connections\" obj=join id=9c58b7aa2a09 l=127.0.0.1:8888 r=[2a01:5ec0:5812:1a43:49c1:297d:4bd:7419]:53344\n"
          ]
        },
        {
          "metadata": {
            "tags": null
          },
          "name": "stdout",
          "output_type": "stream",
          "text": [
            "\u001b[1;35mt=2024-06-22T13:54:33+0000 lvl=info msg=\"join connections\" obj=join id=9c58b7aa2a09 l=127.0.0.1:8888 r=[2a01:5ec0:5812:1a43:49c1:297d:4bd:7419]:53344\u001b[0m\n"
          ]
        },
        {
          "metadata": {
            "tags": null
          },
          "name": "stderr",
          "output_type": "stream",
          "text": [
            "INFO:pyngrok.process.ngrok:t=2024-06-22T13:54:33+0000 lvl=info msg=\"join connections\" obj=join id=9a8636163f03 l=127.0.0.1:8888 r=[2a01:5ec0:5812:1a43:49c1:297d:4bd:7419]:53344\n"
          ]
        },
        {
          "metadata": {
            "tags": null
          },
          "name": "stdout",
          "output_type": "stream",
          "text": [
            "\u001b[1;35mt=2024-06-22T13:54:33+0000 lvl=info msg=\"join connections\" obj=join id=9a8636163f03 l=127.0.0.1:8888 r=[2a01:5ec0:5812:1a43:49c1:297d:4bd:7419]:53344\u001b[0m\n"
          ]
        },
        {
          "metadata": {
            "tags": null
          },
          "name": "stderr",
          "output_type": "stream",
          "text": [
            "INFO:pyngrok.process.ngrok:t=2024-06-22T13:54:33+0000 lvl=info msg=\"join connections\" obj=join id=324d3b7cbd0e l=127.0.0.1:8888 r=[2a01:5ec0:5812:1a43:49c1:297d:4bd:7419]:53344\n"
          ]
        },
        {
          "metadata": {
            "tags": null
          },
          "name": "stdout",
          "output_type": "stream",
          "text": [
            "\u001b[32mINFO\u001b[0m:     2a01:5ec0:5812:1a43:49c1:297d:4bd:7419:0 - \"\u001b[1mGET /assets/inter-latin-ext-400-normal-D3W-OpO-.woff2 HTTP/1.1\u001b[0m\" \u001b[32m200 OK\u001b[0m\n",
            "\u001b[1;35mt=2024-06-22T13:54:33+0000 lvl=info msg=\"join connections\" obj=join id=324d3b7cbd0e l=127.0.0.1:8888 r=[2a01:5ec0:5812:1a43:49c1:297d:4bd:7419]:53344\u001b[0m\n",
            "\u001b[32mINFO\u001b[0m:     2a01:5ec0:5812:1a43:49c1:297d:4bd:7419:0 - \"\u001b[1mGET /assets/inter-greek-ext-500-normal-2pdUafRD.woff2 HTTP/1.1\u001b[0m\" \u001b[32m200 OK\u001b[0m\n",
            "\u001b[32mINFO\u001b[0m:     2a01:5ec0:5812:1a43:49c1:297d:4bd:7419:0 - \"\u001b[1mGET /assets/inter-latin-ext-500-normal-B9u8Q_zH.woff2 HTTP/1.1\u001b[0m\" \u001b[32m200 OK\u001b[0m\n",
            "\u001b[32mINFO\u001b[0m:     2a01:5ec0:5812:1a43:49c1:297d:4bd:7419:0 - \"\u001b[1mGET /assets/inter-greek-ext-400-normal-CIdlr5YK.woff2 HTTP/1.1\u001b[0m\" \u001b[32m200 OK\u001b[0m\n",
            "\u001b[32mINFO\u001b[0m:     2a01:5ec0:5812:1a43:49c1:297d:4bd:7419:0 - \"\u001b[1mGET /assets/inter-cyrillic-500-normal-BRrLR67x.woff2 HTTP/1.1\u001b[0m\" \u001b[32m200 OK\u001b[0m\n",
            "\u001b[32mINFO\u001b[0m:     2a01:5ec0:5812:1a43:49c1:297d:4bd:7419:0 - \"\u001b[1mGET /assets/inter-cyrillic-ext-500-normal-DOnSzjnx.woff2 HTTP/1.1\u001b[0m\" \u001b[32m200 OK\u001b[0m\n",
            "\u001b[32mINFO\u001b[0m:     2a01:5ec0:5812:1a43:49c1:297d:4bd:7419:0 - \"\u001b[1mGET /assets/inter-cyrillic-ext-400-normal-tyfMZHQw.woff2 HTTP/1.1\u001b[0m\" \u001b[32m200 OK\u001b[0m\n",
            "\u001b[32mINFO\u001b[0m:     2a01:5ec0:5812:1a43:49c1:297d:4bd:7419:0 - \"\u001b[1mGET /assets/inter-vietnamese-400-normal-Cnt0N5Vm.woff2 HTTP/1.1\u001b[0m\" \u001b[32m200 OK\u001b[0m\n",
            "\u001b[32mINFO\u001b[0m:     2a01:5ec0:5812:1a43:49c1:297d:4bd:7419:0 - \"\u001b[1mGET /assets/inter-greek-400-normal-DQXyrmoy.woff2 HTTP/1.1\u001b[0m\" \u001b[32m200 OK\u001b[0m\n",
            "\u001b[32mINFO\u001b[0m:     2a01:5ec0:5812:1a43:49c1:297d:4bd:7419:0 - \"\u001b[1mGET /assets/inter-latin-400-normal-BT1H-PT_.woff2 HTTP/1.1\u001b[0m\" \u001b[32m200 OK\u001b[0m\n",
            "\u001b[32mINFO\u001b[0m:     2a01:5ec0:5812:1a43:49c1:297d:4bd:7419:0 - \"\u001b[1mGET /assets/inter-vietnamese-500-normal-5IkPJ6Nk.woff2 HTTP/1.1\u001b[0m\" \u001b[32m200 OK\u001b[0m\n"
          ]
        },
        {
          "metadata": {
            "tags": null
          },
          "name": "stderr",
          "output_type": "stream",
          "text": [
            "INFO:pyngrok.process.ngrok:t=2024-06-22T13:54:33+0000 lvl=info msg=\"join connections\" obj=join id=385b9a28c583 l=127.0.0.1:8888 r=[2a01:5ec0:5812:1a43:49c1:297d:4bd:7419]:53344\n"
          ]
        },
        {
          "metadata": {
            "tags": null
          },
          "name": "stdout",
          "output_type": "stream",
          "text": [
            "\u001b[32mINFO\u001b[0m:     2a01:5ec0:5812:1a43:49c1:297d:4bd:7419:0 - \"\u001b[1mGET /assets/inter-latin-500-normal-kWhwEdDH.woff2 HTTP/1.1\u001b[0m\" \u001b[32m200 OK\u001b[0m\n",
            "\u001b[32mINFO\u001b[0m:     2a01:5ec0:5812:1a43:49c1:297d:4bd:7419:0 - \"\u001b[1mGET /assets/inter-cyrillic-600-normal-DDpWG8g5.woff2 HTTP/1.1\u001b[0m\" \u001b[32m200 OK\u001b[0m\n",
            "\u001b[32mINFO\u001b[0m:     2a01:5ec0:5812:1a43:49c1:297d:4bd:7419:0 - \"\u001b[1mGET /assets/inter-latin-ext-600-normal-ao35dkSb.woff2 HTTP/1.1\u001b[0m\" \u001b[32m200 OK\u001b[0m\n",
            "\u001b[32mINFO\u001b[0m:     2a01:5ec0:5812:1a43:49c1:297d:4bd:7419:0 - \"\u001b[1mGET /assets/inter-greek-ext-400-normal-_Rr29XE2.woff HTTP/1.1\u001b[0m\" \u001b[32m200 OK\u001b[0m\n",
            "\u001b[32mINFO\u001b[0m:     2a01:5ec0:5812:1a43:49c1:297d:4bd:7419:0 - \"\u001b[1mGET /assets/inter-vietnamese-400-normal-DIOGfGLL.woff HTTP/1.1\u001b[0m\" \u001b[32m200 OK\u001b[0m\n",
            "\u001b[32mINFO\u001b[0m:     2a01:5ec0:5812:1a43:49c1:297d:4bd:7419:0 - \"\u001b[1mGET /assets/inter-latin-600-normal-B2Ssfs8e.woff2 HTTP/1.1\u001b[0m\" \u001b[32m200 OK\u001b[0m\n",
            "\u001b[1;35mt=2024-06-22T13:54:33+0000 lvl=info msg=\"join connections\" obj=join id=385b9a28c583 l=127.0.0.1:8888 r=[2a01:5ec0:5812:1a43:49c1:297d:4bd:7419]:53344\u001b[0m\n"
          ]
        },
        {
          "metadata": {
            "tags": null
          },
          "name": "stderr",
          "output_type": "stream",
          "text": [
            "INFO:pyngrok.process.ngrok:t=2024-06-22T13:54:33+0000 lvl=info msg=\"join connections\" obj=join id=eec86e782a9f l=127.0.0.1:8888 r=[2a01:5ec0:5812:1a43:49c1:297d:4bd:7419]:53344\n"
          ]
        },
        {
          "metadata": {
            "tags": null
          },
          "name": "stdout",
          "output_type": "stream",
          "text": [
            "\u001b[1;35mt=2024-06-22T13:54:33+0000 lvl=info msg=\"join connections\" obj=join id=eec86e782a9f l=127.0.0.1:8888 r=[2a01:5ec0:5812:1a43:49c1:297d:4bd:7419]:53344\u001b[0m\n"
          ]
        },
        {
          "metadata": {
            "tags": null
          },
          "name": "stderr",
          "output_type": "stream",
          "text": [
            "INFO:pyngrok.process.ngrok:t=2024-06-22T13:54:33+0000 lvl=info msg=\"join connections\" obj=join id=a83581dbc353 l=127.0.0.1:8888 r=[2a01:5ec0:5812:1a43:49c1:297d:4bd:7419]:53344\n"
          ]
        },
        {
          "metadata": {
            "tags": null
          },
          "name": "stdout",
          "output_type": "stream",
          "text": [
            "\u001b[1;35mt=2024-06-22T13:54:33+0000 lvl=info msg=\"join connections\" obj=join id=a83581dbc353 l=127.0.0.1:8888 r=[2a01:5ec0:5812:1a43:49c1:297d:4bd:7419]:53344\u001b[0m\n"
          ]
        },
        {
          "metadata": {
            "tags": null
          },
          "name": "stderr",
          "output_type": "stream",
          "text": [
            "INFO:pyngrok.process.ngrok:t=2024-06-22T13:54:33+0000 lvl=info msg=\"join connections\" obj=join id=05cd840fcd3e l=127.0.0.1:8888 r=[2a01:5ec0:5812:1a43:49c1:297d:4bd:7419]:53344\n"
          ]
        },
        {
          "metadata": {
            "tags": null
          },
          "name": "stdout",
          "output_type": "stream",
          "text": [
            "\u001b[1;35mt=2024-06-22T13:54:33+0000 lvl=info msg=\"join connections\" obj=join id=05cd840fcd3e l=127.0.0.1:8888 r=[2a01:5ec0:5812:1a43:49c1:297d:4bd:7419]:53344\u001b[0m\n"
          ]
        },
        {
          "metadata": {
            "tags": null
          },
          "name": "stderr",
          "output_type": "stream",
          "text": [
            "INFO:pyngrok.process.ngrok:t=2024-06-22T13:54:33+0000 lvl=info msg=\"join connections\" obj=join id=398170a77d71 l=127.0.0.1:8888 r=[2a01:5ec0:5812:1a43:49c1:297d:4bd:7419]:53344\n"
          ]
        },
        {
          "metadata": {
            "tags": null
          },
          "name": "stdout",
          "output_type": "stream",
          "text": [
            "\u001b[1;35mt=2024-06-22T13:54:33+0000 lvl=info msg=\"join connections\" obj=join id=398170a77d71 l=127.0.0.1:8888 r=[2a01:5ec0:5812:1a43:49c1:297d:4bd:7419]:53344\u001b[0m\n"
          ]
        },
        {
          "metadata": {
            "tags": null
          },
          "name": "stderr",
          "output_type": "stream",
          "text": [
            "INFO:pyngrok.process.ngrok:t=2024-06-22T13:54:33+0000 lvl=info msg=\"join connections\" obj=join id=8ea16b747a34 l=127.0.0.1:8888 r=[2a01:5ec0:5812:1a43:49c1:297d:4bd:7419]:53344\n"
          ]
        },
        {
          "metadata": {
            "tags": null
          },
          "name": "stdout",
          "output_type": "stream",
          "text": [
            "\u001b[1;35mt=2024-06-22T13:54:33+0000 lvl=info msg=\"join connections\" obj=join id=8ea16b747a34 l=127.0.0.1:8888 r=[2a01:5ec0:5812:1a43:49c1:297d:4bd:7419]:53344\u001b[0m\n"
          ]
        },
        {
          "metadata": {
            "tags": null
          },
          "name": "stderr",
          "output_type": "stream",
          "text": [
            "INFO:pyngrok.process.ngrok:t=2024-06-22T13:54:33+0000 lvl=info msg=\"join connections\" obj=join id=153d67b9c336 l=127.0.0.1:8888 r=[2a01:5ec0:5812:1a43:49c1:297d:4bd:7419]:53344\n"
          ]
        },
        {
          "metadata": {
            "tags": null
          },
          "name": "stdout",
          "output_type": "stream",
          "text": [
            "\u001b[1;35mt=2024-06-22T13:54:33+0000 lvl=info msg=\"join connections\" obj=join id=153d67b9c336 l=127.0.0.1:8888 r=[2a01:5ec0:5812:1a43:49c1:297d:4bd:7419]:53344\u001b[0m\n"
          ]
        },
        {
          "metadata": {
            "tags": null
          },
          "name": "stderr",
          "output_type": "stream",
          "text": [
            "INFO:pyngrok.process.ngrok:t=2024-06-22T13:54:33+0000 lvl=info msg=\"join connections\" obj=join id=d61f7e420aad l=127.0.0.1:8888 r=[2a01:5ec0:5812:1a43:49c1:297d:4bd:7419]:53344\n"
          ]
        },
        {
          "metadata": {
            "tags": null
          },
          "name": "stdout",
          "output_type": "stream",
          "text": [
            "\u001b[1;35mt=2024-06-22T13:54:33+0000 lvl=info msg=\"join connections\" obj=join id=d61f7e420aad l=127.0.0.1:8888 r=[2a01:5ec0:5812:1a43:49c1:297d:4bd:7419]:53344\u001b[0m\n"
          ]
        },
        {
          "metadata": {
            "tags": null
          },
          "name": "stderr",
          "output_type": "stream",
          "text": [
            "INFO:pyngrok.process.ngrok:t=2024-06-22T13:54:33+0000 lvl=info msg=\"join connections\" obj=join id=143b45997ad5 l=127.0.0.1:8888 r=[2a01:5ec0:5812:1a43:49c1:297d:4bd:7419]:53344\n"
          ]
        },
        {
          "metadata": {
            "tags": null
          },
          "name": "stdout",
          "output_type": "stream",
          "text": [
            "\u001b[1;35mt=2024-06-22T13:54:33+0000 lvl=info msg=\"join connections\" obj=join id=143b45997ad5 l=127.0.0.1:8888 r=[2a01:5ec0:5812:1a43:49c1:297d:4bd:7419]:53344\u001b[0m\n"
          ]
        },
        {
          "metadata": {
            "tags": null
          },
          "name": "stderr",
          "output_type": "stream",
          "text": [
            "INFO:pyngrok.process.ngrok:t=2024-06-22T13:54:34+0000 lvl=info msg=\"join connections\" obj=join id=fb50957544a9 l=127.0.0.1:8888 r=[2a01:5ec0:5812:1a43:49c1:297d:4bd:7419]:53344\n"
          ]
        },
        {
          "metadata": {
            "tags": null
          },
          "name": "stdout",
          "output_type": "stream",
          "text": [
            "\u001b[1;35mt=2024-06-22T13:54:34+0000 lvl=info msg=\"join connections\" obj=join id=fb50957544a9 l=127.0.0.1:8888 r=[2a01:5ec0:5812:1a43:49c1:297d:4bd:7419]:53344\u001b[0m\n"
          ]
        },
        {
          "metadata": {
            "tags": null
          },
          "name": "stderr",
          "output_type": "stream",
          "text": [
            "INFO:pyngrok.process.ngrok:t=2024-06-22T13:54:34+0000 lvl=info msg=\"join connections\" obj=join id=61f670d9cdb5 l=127.0.0.1:8888 r=[2a01:5ec0:5812:1a43:49c1:297d:4bd:7419]:53344\n"
          ]
        },
        {
          "metadata": {
            "tags": null
          },
          "name": "stdout",
          "output_type": "stream",
          "text": [
            "\u001b[32mINFO\u001b[0m:     2a01:5ec0:5812:1a43:49c1:297d:4bd:7419:0 - \"\u001b[1mGET /assets/inter-cyrillic-400-normal-JrS_4yms.woff HTTP/1.1\u001b[0m\" \u001b[32m200 OK\u001b[0m\n",
            "\u001b[32mINFO\u001b[0m:     2a01:5ec0:5812:1a43:49c1:297d:4bd:7419:0 - \"\u001b[1mGET /assets/inter-cyrillic-ext-400-normal-CzG7Kr3z.woff HTTP/1.1\u001b[0m\" \u001b[32m200 OK\u001b[0m\n",
            "\u001b[32mINFO\u001b[0m:     2a01:5ec0:5812:1a43:49c1:297d:4bd:7419:0 - \"\u001b[1mGET /assets/inter-cyrillic-ext-600-normal-DpA2xaRd.woff2 HTTP/1.1\u001b[0m\" \u001b[32m200 OK\u001b[0m\n",
            "\u001b[32mINFO\u001b[0m:     2a01:5ec0:5812:1a43:49c1:297d:4bd:7419:0 - \"\u001b[1mGET /assets/inter-greek-ext-600-normal-CkBLDEl_.woff2 HTTP/1.1\u001b[0m\" \u001b[32m200 OK\u001b[0m\n",
            "\u001b[32mINFO\u001b[0m:     2a01:5ec0:5812:1a43:49c1:297d:4bd:7419:0 - \"\u001b[1mGET /assets/inter-vietnamese-600-normal-DjnxGF-L.woff2 HTTP/1.1\u001b[0m\" \u001b[32m200 OK\u001b[0m\n",
            "\u001b[32mINFO\u001b[0m:     2a01:5ec0:5812:1a43:49c1:297d:4bd:7419:0 - \"\u001b[1mGET /assets/inter-cyrillic-500-normal-DskEQOpE.woff HTTP/1.1\u001b[0m\" \u001b[32m200 OK\u001b[0m\n",
            "\u001b[32mINFO\u001b[0m:     2a01:5ec0:5812:1a43:49c1:297d:4bd:7419:0 - \"\u001b[1mGET /assets/inter-greek-ext-600-normal-BmtRFZgT.woff HTTP/1.1\u001b[0m\" \u001b[32m200 OK\u001b[0m\n",
            "\u001b[1;35mt=2024-06-22T13:54:34+0000 lvl=info msg=\"join connections\" obj=join id=61f670d9cdb5 l=127.0.0.1:8888 r=[2a01:5ec0:5812:1a43:49c1:297d:4bd:7419]:53344\u001b[0m\n"
          ]
        },
        {
          "metadata": {
            "tags": null
          },
          "name": "stderr",
          "output_type": "stream",
          "text": [
            "INFO:pyngrok.process.ngrok:t=2024-06-22T13:54:34+0000 lvl=info msg=\"join connections\" obj=join id=d5a3b6495ade l=127.0.0.1:8888 r=[2a01:5ec0:5812:1a43:49c1:297d:4bd:7419]:53344\n"
          ]
        },
        {
          "metadata": {
            "tags": null
          },
          "name": "stdout",
          "output_type": "stream",
          "text": [
            "\u001b[1;35mt=2024-06-22T13:54:34+0000 lvl=info msg=\"join connections\" obj=join id=d5a3b6495ade l=127.0.0.1:8888 r=[2a01:5ec0:5812:1a43:49c1:297d:4bd:7419]:53344\u001b[0m\n"
          ]
        },
        {
          "metadata": {
            "tags": null
          },
          "name": "stderr",
          "output_type": "stream",
          "text": [
            "INFO:pyngrok.process.ngrok:t=2024-06-22T13:54:34+0000 lvl=info msg=\"join connections\" obj=join id=ec794104bdf6 l=127.0.0.1:8888 r=[2a01:5ec0:5812:1a43:49c1:297d:4bd:7419]:53344\n"
          ]
        },
        {
          "metadata": {
            "tags": null
          },
          "name": "stdout",
          "output_type": "stream",
          "text": [
            "\u001b[1;35mt=2024-06-22T13:54:34+0000 lvl=info msg=\"join connections\" obj=join id=ec794104bdf6 l=127.0.0.1:8888 r=[2a01:5ec0:5812:1a43:49c1:297d:4bd:7419]:53344\u001b[0m\n"
          ]
        },
        {
          "metadata": {
            "tags": null
          },
          "name": "stderr",
          "output_type": "stream",
          "text": [
            "INFO:pyngrok.process.ngrok:t=2024-06-22T13:54:34+0000 lvl=info msg=\"join connections\" obj=join id=5cec27232075 l=127.0.0.1:8888 r=[2a01:5ec0:5812:1a43:49c1:297d:4bd:7419]:53344\n"
          ]
        },
        {
          "metadata": {
            "tags": null
          },
          "name": "stdout",
          "output_type": "stream",
          "text": [
            "\u001b[1;35mt=2024-06-22T13:54:34+0000 lvl=info msg=\"join connections\" obj=join id=5cec27232075 l=127.0.0.1:8888 r=[2a01:5ec0:5812:1a43:49c1:297d:4bd:7419]:53344\u001b[0m\n"
          ]
        },
        {
          "metadata": {
            "tags": null
          },
          "name": "stderr",
          "output_type": "stream",
          "text": [
            "INFO:pyngrok.process.ngrok:t=2024-06-22T13:54:34+0000 lvl=info msg=\"join connections\" obj=join id=22f51c6bb1bc l=127.0.0.1:8888 r=[2a01:5ec0:5812:1a43:49c1:297d:4bd:7419]:53344\n"
          ]
        },
        {
          "metadata": {
            "tags": null
          },
          "name": "stdout",
          "output_type": "stream",
          "text": [
            "\u001b[1;35mt=2024-06-22T13:54:34+0000 lvl=info msg=\"join connections\" obj=join id=22f51c6bb1bc l=127.0.0.1:8888 r=[2a01:5ec0:5812:1a43:49c1:297d:4bd:7419]:53344\u001b[0m\n"
          ]
        },
        {
          "metadata": {
            "tags": null
          },
          "name": "stderr",
          "output_type": "stream",
          "text": [
            "INFO:pyngrok.process.ngrok:t=2024-06-22T13:54:34+0000 lvl=info msg=\"join connections\" obj=join id=802e8d294962 l=127.0.0.1:8888 r=[2a01:5ec0:5812:1a43:49c1:297d:4bd:7419]:53344\n"
          ]
        },
        {
          "metadata": {
            "tags": null
          },
          "name": "stdout",
          "output_type": "stream",
          "text": [
            "\u001b[1;35mt=2024-06-22T13:54:34+0000 lvl=info msg=\"join connections\" obj=join id=802e8d294962 l=127.0.0.1:8888 r=[2a01:5ec0:5812:1a43:49c1:297d:4bd:7419]:53344\u001b[0m\n"
          ]
        },
        {
          "metadata": {
            "tags": null
          },
          "name": "stderr",
          "output_type": "stream",
          "text": [
            "INFO:pyngrok.process.ngrok:t=2024-06-22T13:54:34+0000 lvl=info msg=\"join connections\" obj=join id=106b100437c1 l=127.0.0.1:8888 r=[2a01:5ec0:5812:1a43:49c1:297d:4bd:7419]:53344\n"
          ]
        },
        {
          "metadata": {
            "tags": null
          },
          "name": "stdout",
          "output_type": "stream",
          "text": [
            "\u001b[1;35mt=2024-06-22T13:54:34+0000 lvl=info msg=\"join connections\" obj=join id=106b100437c1 l=127.0.0.1:8888 r=[2a01:5ec0:5812:1a43:49c1:297d:4bd:7419]:53344\u001b[0m\n"
          ]
        },
        {
          "metadata": {
            "tags": null
          },
          "name": "stderr",
          "output_type": "stream",
          "text": [
            "INFO:pyngrok.process.ngrok:t=2024-06-22T13:54:34+0000 lvl=info msg=\"join connections\" obj=join id=22137b60be9d l=127.0.0.1:8888 r=[2a01:5ec0:5812:1a43:49c1:297d:4bd:7419]:53344\n"
          ]
        },
        {
          "metadata": {
            "tags": null
          },
          "name": "stdout",
          "output_type": "stream",
          "text": [
            "\u001b[32mINFO\u001b[0m:     2a01:5ec0:5812:1a43:49c1:297d:4bd:7419:0 - \"\u001b[1mGET /assets/mcp-Cb1aMeoq.webp HTTP/1.1\u001b[0m\" \u001b[32m200 OK\u001b[0m\n",
            "\u001b[32mINFO\u001b[0m:     2a01:5ec0:5812:1a43:49c1:297d:4bd:7419:0 - \"\u001b[1mGET /assets/inter-greek-500-normal-BjpBGs91.woff HTTP/1.1\u001b[0m\" \u001b[32m200 OK\u001b[0m\n",
            "\u001b[32mINFO\u001b[0m:     2a01:5ec0:5812:1a43:49c1:297d:4bd:7419:0 - \"\u001b[1mGET /assets/inter-greek-500-normal-CmOavsDc.woff2 HTTP/1.1\u001b[0m\" \u001b[32m200 OK\u001b[0m\n",
            "\u001b[32mINFO\u001b[0m:     2a01:5ec0:5812:1a43:49c1:297d:4bd:7419:0 - \"\u001b[1mGET /assets/inter-greek-ext-500-normal-Dtavx3qw.woff HTTP/1.1\u001b[0m\" \u001b[32m200 OK\u001b[0m\n",
            "\u001b[32mINFO\u001b[0m:     2a01:5ec0:5812:1a43:49c1:297d:4bd:7419:0 - \"\u001b[1mGET /assets/inter-latin-400-normal-Cdi8t5Mu.woff HTTP/1.1\u001b[0m\" \u001b[32m200 OK\u001b[0m\n",
            "\u001b[32mINFO\u001b[0m:     2a01:5ec0:5812:1a43:49c1:297d:4bd:7419:0 - \"\u001b[1mGET /assets/cloud-squares-DeRLMopf.svg HTTP/1.1\u001b[0m\" \u001b[32m200 OK\u001b[0m\n",
            "\u001b[32mINFO\u001b[0m:     2a01:5ec0:5812:1a43:49c1:297d:4bd:7419:0 - \"\u001b[1mGET /assets/inter-vietnamese-500-normal-0i6yoQMg.woff HTTP/1.1\u001b[0m\" \u001b[32m200 OK\u001b[0m\n",
            "\u001b[32mINFO\u001b[0m:     2a01:5ec0:5812:1a43:49c1:297d:4bd:7419:0 - \"\u001b[1mGET /assets/inter-latin-ext-400-normal-8tIzm-yw.woff HTTP/1.1\u001b[0m\" \u001b[32m200 OK\u001b[0m\n",
            "\u001b[1;35mt=2024-06-22T13:54:34+0000 lvl=info msg=\"join connections\" obj=join id=22137b60be9d l=127.0.0.1:8888 r=[2a01:5ec0:5812:1a43:49c1:297d:4bd:7419]:53344\u001b[0m\n"
          ]
        },
        {
          "metadata": {
            "tags": null
          },
          "name": "stderr",
          "output_type": "stream",
          "text": [
            "INFO:pyngrok.process.ngrok:t=2024-06-22T13:54:34+0000 lvl=info msg=\"join connections\" obj=join id=a1fc1c69e36d l=127.0.0.1:8888 r=[2a01:5ec0:5812:1a43:49c1:297d:4bd:7419]:53344\n"
          ]
        },
        {
          "metadata": {
            "tags": null
          },
          "name": "stdout",
          "output_type": "stream",
          "text": [
            "\u001b[1;35mt=2024-06-22T13:54:34+0000 lvl=info msg=\"join connections\" obj=join id=a1fc1c69e36d l=127.0.0.1:8888 r=[2a01:5ec0:5812:1a43:49c1:297d:4bd:7419]:53344\u001b[0m\n"
          ]
        },
        {
          "metadata": {
            "tags": null
          },
          "name": "stderr",
          "output_type": "stream",
          "text": [
            "INFO:pyngrok.process.ngrok:t=2024-06-22T13:54:34+0000 lvl=info msg=\"join connections\" obj=join id=3e1425f7b074 l=127.0.0.1:8888 r=[2a01:5ec0:5812:1a43:49c1:297d:4bd:7419]:53344\n"
          ]
        },
        {
          "metadata": {
            "tags": null
          },
          "name": "stdout",
          "output_type": "stream",
          "text": [
            "\u001b[1;35mt=2024-06-22T13:54:34+0000 lvl=info msg=\"join connections\" obj=join id=3e1425f7b074 l=127.0.0.1:8888 r=[2a01:5ec0:5812:1a43:49c1:297d:4bd:7419]:53344\u001b[0m\n"
          ]
        },
        {
          "metadata": {
            "tags": null
          },
          "name": "stderr",
          "output_type": "stream",
          "text": [
            "INFO:pyngrok.process.ngrok:t=2024-06-22T13:54:34+0000 lvl=info msg=\"join connections\" obj=join id=392af21d6995 l=127.0.0.1:8888 r=[2a01:5ec0:5812:1a43:49c1:297d:4bd:7419]:53344\n"
          ]
        },
        {
          "metadata": {
            "tags": null
          },
          "name": "stdout",
          "output_type": "stream",
          "text": [
            "\u001b[1;35mt=2024-06-22T13:54:34+0000 lvl=info msg=\"join connections\" obj=join id=392af21d6995 l=127.0.0.1:8888 r=[2a01:5ec0:5812:1a43:49c1:297d:4bd:7419]:53344\u001b[0m\n"
          ]
        },
        {
          "metadata": {
            "tags": null
          },
          "name": "stderr",
          "output_type": "stream",
          "text": [
            "INFO:pyngrok.process.ngrok:t=2024-06-22T13:54:34+0000 lvl=info msg=\"join connections\" obj=join id=1fbd977d2308 l=127.0.0.1:8888 r=[2a01:5ec0:5812:1a43:49c1:297d:4bd:7419]:53344\n"
          ]
        },
        {
          "metadata": {
            "tags": null
          },
          "name": "stdout",
          "output_type": "stream",
          "text": [
            "\u001b[1;35mt=2024-06-22T13:54:34+0000 lvl=info msg=\"join connections\" obj=join id=1fbd977d2308 l=127.0.0.1:8888 r=[2a01:5ec0:5812:1a43:49c1:297d:4bd:7419]:53344\u001b[0m\n"
          ]
        },
        {
          "metadata": {
            "tags": null
          },
          "name": "stderr",
          "output_type": "stream",
          "text": [
            "INFO:pyngrok.process.ngrok:t=2024-06-22T13:54:34+0000 lvl=info msg=\"join connections\" obj=join id=fc925cfb9f67 l=127.0.0.1:8888 r=[2a01:5ec0:5812:1a43:49c1:297d:4bd:7419]:53344\n"
          ]
        },
        {
          "metadata": {
            "tags": null
          },
          "name": "stdout",
          "output_type": "stream",
          "text": [
            "\u001b[1;35mt=2024-06-22T13:54:34+0000 lvl=info msg=\"join connections\" obj=join id=fc925cfb9f67 l=127.0.0.1:8888 r=[2a01:5ec0:5812:1a43:49c1:297d:4bd:7419]:53344\u001b[0m\n"
          ]
        },
        {
          "metadata": {
            "tags": null
          },
          "name": "stderr",
          "output_type": "stream",
          "text": [
            "INFO:pyngrok.process.ngrok:t=2024-06-22T13:54:34+0000 lvl=info msg=\"join connections\" obj=join id=672973771f99 l=127.0.0.1:8888 r=[2a01:5ec0:5812:1a43:49c1:297d:4bd:7419]:53344\n"
          ]
        },
        {
          "metadata": {
            "tags": null
          },
          "name": "stdout",
          "output_type": "stream",
          "text": [
            "\u001b[1;35mt=2024-06-22T13:54:34+0000 lvl=info msg=\"join connections\" obj=join id=672973771f99 l=127.0.0.1:8888 r=[2a01:5ec0:5812:1a43:49c1:297d:4bd:7419]:53344\u001b[0m\n"
          ]
        },
        {
          "metadata": {
            "tags": null
          },
          "name": "stderr",
          "output_type": "stream",
          "text": [
            "INFO:pyngrok.process.ngrok:t=2024-06-22T13:54:34+0000 lvl=info msg=\"join connections\" obj=join id=ca200b0d600c l=127.0.0.1:8888 r=[2a01:5ec0:5812:1a43:49c1:297d:4bd:7419]:53344\n"
          ]
        },
        {
          "metadata": {
            "tags": null
          },
          "name": "stdout",
          "output_type": "stream",
          "text": [
            "\u001b[1;35mt=2024-06-22T13:54:34+0000 lvl=info msg=\"join connections\" obj=join id=ca200b0d600c l=127.0.0.1:8888 r=[2a01:5ec0:5812:1a43:49c1:297d:4bd:7419]:53344\u001b[0m\n"
          ]
        },
        {
          "metadata": {
            "tags": null
          },
          "name": "stderr",
          "output_type": "stream",
          "text": [
            "INFO:pyngrok.process.ngrok:t=2024-06-22T13:54:34+0000 lvl=info msg=\"join connections\" obj=join id=13b5375c5fc0 l=127.0.0.1:8888 r=[2a01:5ec0:5812:1a43:49c1:297d:4bd:7419]:53344\n"
          ]
        },
        {
          "metadata": {
            "tags": null
          },
          "name": "stdout",
          "output_type": "stream",
          "text": [
            "\u001b[1;35mt=2024-06-22T13:54:34+0000 lvl=info msg=\"join connections\" obj=join id=13b5375c5fc0 l=127.0.0.1:8888 r=[2a01:5ec0:5812:1a43:49c1:297d:4bd:7419]:53344\u001b[0m\n"
          ]
        },
        {
          "metadata": {
            "tags": null
          },
          "name": "stderr",
          "output_type": "stream",
          "text": [
            "INFO:pyngrok.process.ngrok:t=2024-06-22T13:54:34+0000 lvl=info msg=\"join connections\" obj=join id=baa203da31b4 l=127.0.0.1:8888 r=[2a01:5ec0:5812:1a43:49c1:297d:4bd:7419]:53344\n"
          ]
        },
        {
          "metadata": {
            "tags": null
          },
          "name": "stdout",
          "output_type": "stream",
          "text": [
            "\u001b[1;35mt=2024-06-22T13:54:34+0000 lvl=info msg=\"join connections\" obj=join id=baa203da31b4 l=127.0.0.1:8888 r=[2a01:5ec0:5812:1a43:49c1:297d:4bd:7419]:53344\u001b[0m\n"
          ]
        },
        {
          "metadata": {
            "tags": null
          },
          "name": "stderr",
          "output_type": "stream",
          "text": [
            "INFO:pyngrok.process.ngrok:t=2024-06-22T13:54:34+0000 lvl=info msg=\"join connections\" obj=join id=53a77e7c206d l=127.0.0.1:8888 r=[2a01:5ec0:5812:1a43:49c1:297d:4bd:7419]:53344\n"
          ]
        },
        {
          "metadata": {
            "tags": null
          },
          "name": "stdout",
          "output_type": "stream",
          "text": [
            "\u001b[1;35mt=2024-06-22T13:54:34+0000 lvl=info msg=\"join connections\" obj=join id=53a77e7c206d l=127.0.0.1:8888 r=[2a01:5ec0:5812:1a43:49c1:297d:4bd:7419]:53344\u001b[0m\n"
          ]
        },
        {
          "metadata": {
            "tags": null
          },
          "name": "stderr",
          "output_type": "stream",
          "text": [
            "INFO:pyngrok.process.ngrok:t=2024-06-22T13:54:34+0000 lvl=info msg=\"join connections\" obj=join id=e7f99ec3492a l=127.0.0.1:8888 r=[2a01:5ec0:5812:1a43:49c1:297d:4bd:7419]:53344\n"
          ]
        },
        {
          "metadata": {
            "tags": null
          },
          "name": "stdout",
          "output_type": "stream",
          "text": [
            "\u001b[1;35mt=2024-06-22T13:54:34+0000 lvl=info msg=\"join connections\" obj=join id=e7f99ec3492a l=127.0.0.1:8888 r=[2a01:5ec0:5812:1a43:49c1:297d:4bd:7419]:53344\u001b[0m\n"
          ]
        },
        {
          "metadata": {
            "tags": null
          },
          "name": "stderr",
          "output_type": "stream",
          "text": [
            "INFO:pyngrok.process.ngrok:t=2024-06-22T13:54:34+0000 lvl=info msg=\"join connections\" obj=join id=0abf5843b98b l=127.0.0.1:8888 r=[2a01:5ec0:5812:1a43:49c1:297d:4bd:7419]:53344\n"
          ]
        },
        {
          "metadata": {
            "tags": null
          },
          "name": "stdout",
          "output_type": "stream",
          "text": [
            "\u001b[1;35mt=2024-06-22T13:54:34+0000 lvl=info msg=\"join connections\" obj=join id=0abf5843b98b l=127.0.0.1:8888 r=[2a01:5ec0:5812:1a43:49c1:297d:4bd:7419]:53344\u001b[0m\n"
          ]
        },
        {
          "metadata": {
            "tags": null
          },
          "name": "stderr",
          "output_type": "stream",
          "text": [
            "INFO:pyngrok.process.ngrok:t=2024-06-22T13:54:34+0000 lvl=info msg=\"join connections\" obj=join id=bce34e647232 l=127.0.0.1:8888 r=[2a01:5ec0:5812:1a43:49c1:297d:4bd:7419]:53344\n"
          ]
        },
        {
          "metadata": {
            "tags": null
          },
          "name": "stdout",
          "output_type": "stream",
          "text": [
            "\u001b[1;35mt=2024-06-22T13:54:34+0000 lvl=info msg=\"join connections\" obj=join id=bce34e647232 l=127.0.0.1:8888 r=[2a01:5ec0:5812:1a43:49c1:297d:4bd:7419]:53344\u001b[0m\n"
          ]
        },
        {
          "metadata": {
            "tags": null
          },
          "name": "stderr",
          "output_type": "stream",
          "text": [
            "INFO:pyngrok.process.ngrok:t=2024-06-22T13:54:34+0000 lvl=info msg=\"join connections\" obj=join id=1eb55302a3e5 l=127.0.0.1:8888 r=[2a01:5ec0:5812:1a43:49c1:297d:4bd:7419]:53344\n"
          ]
        },
        {
          "metadata": {
            "tags": null
          },
          "name": "stdout",
          "output_type": "stream",
          "text": [
            "\u001b[1;35mt=2024-06-22T13:54:34+0000 lvl=info msg=\"join connections\" obj=join id=1eb55302a3e5 l=127.0.0.1:8888 r=[2a01:5ec0:5812:1a43:49c1:297d:4bd:7419]:53344\u001b[0m\n"
          ]
        },
        {
          "metadata": {
            "tags": null
          },
          "name": "stderr",
          "output_type": "stream",
          "text": [
            "INFO:pyngrok.process.ngrok:t=2024-06-22T13:54:34+0000 lvl=info msg=\"join connections\" obj=join id=a338c226155c l=127.0.0.1:8888 r=[2a01:5ec0:5812:1a43:49c1:297d:4bd:7419]:53344\n"
          ]
        },
        {
          "metadata": {
            "tags": null
          },
          "name": "stdout",
          "output_type": "stream",
          "text": [
            "\u001b[1;35mt=2024-06-22T13:54:34+0000 lvl=info msg=\"join connections\" obj=join id=a338c226155c l=127.0.0.1:8888 r=[2a01:5ec0:5812:1a43:49c1:297d:4bd:7419]:53344\u001b[0m\n"
          ]
        },
        {
          "metadata": {
            "tags": null
          },
          "name": "stderr",
          "output_type": "stream",
          "text": [
            "INFO:pyngrok.process.ngrok:t=2024-06-22T13:54:34+0000 lvl=info msg=\"join connections\" obj=join id=f8109fbb2810 l=127.0.0.1:8888 r=[2a01:5ec0:5812:1a43:49c1:297d:4bd:7419]:53344\n"
          ]
        },
        {
          "metadata": {
            "tags": null
          },
          "name": "stdout",
          "output_type": "stream",
          "text": [
            "\u001b[1;35mt=2024-06-22T13:54:34+0000 lvl=info msg=\"join connections\" obj=join id=f8109fbb2810 l=127.0.0.1:8888 r=[2a01:5ec0:5812:1a43:49c1:297d:4bd:7419]:53344\u001b[0m\n",
            "\u001b[32mINFO\u001b[0m:     2a01:5ec0:5812:1a43:49c1:297d:4bd:7419:0 - \"\u001b[1mGET /assets/inter-greek-400-normal-DvIPHDQ7.woff HTTP/1.1\u001b[0m\" \u001b[32m200 OK\u001b[0m\n",
            "\u001b[32mINFO\u001b[0m:     2a01:5ec0:5812:1a43:49c1:297d:4bd:7419:0 - \"\u001b[1mGET /assets/inter-cyrillic-600-normal-iz1--dBq.woff HTTP/1.1\u001b[0m\" \u001b[32m200 OK\u001b[0m\n",
            "\u001b[32mINFO\u001b[0m:     2a01:5ec0:5812:1a43:49c1:297d:4bd:7419:0 - \"\u001b[1mGET /assets/inter-latin-500-normal-D4I8BKCx.woff HTTP/1.1\u001b[0m\" \u001b[32m200 OK\u001b[0m\n",
            "\u001b[32mINFO\u001b[0m:     2a01:5ec0:5812:1a43:49c1:297d:4bd:7419:0 - \"\u001b[1mGET /assets/inter-greek-600-normal-BLZsI-P3.woff HTTP/1.1\u001b[0m\" \u001b[32m200 OK\u001b[0m\n",
            "\u001b[32mINFO\u001b[0m:     2a01:5ec0:5812:1a43:49c1:297d:4bd:7419:0 - \"\u001b[1mGET /assets/inter-latin-600-normal-Dbvh0wvx.woff HTTP/1.1\u001b[0m\" \u001b[32m200 OK\u001b[0m\n"
          ]
        },
        {
          "metadata": {
            "tags": null
          },
          "name": "stderr",
          "output_type": "stream",
          "text": [
            "INFO:pyngrok.process.ngrok:t=2024-06-22T13:54:34+0000 lvl=info msg=\"join connections\" obj=join id=b490879dc965 l=127.0.0.1:8888 r=[2a01:5ec0:5812:1a43:49c1:297d:4bd:7419]:53344\n"
          ]
        },
        {
          "metadata": {
            "tags": null
          },
          "name": "stdout",
          "output_type": "stream",
          "text": [
            "\u001b[1;35mt=2024-06-22T13:54:34+0000 lvl=info msg=\"join connections\" obj=join id=b490879dc965 l=127.0.0.1:8888 r=[2a01:5ec0:5812:1a43:49c1:297d:4bd:7419]:53344\u001b[0m\n"
          ]
        },
        {
          "metadata": {
            "tags": null
          },
          "name": "stderr",
          "output_type": "stream",
          "text": [
            "INFO:pyngrok.process.ngrok:t=2024-06-22T13:54:34+0000 lvl=info msg=\"join connections\" obj=join id=7e3833c2acc7 l=127.0.0.1:8888 r=[2a01:5ec0:5812:1a43:49c1:297d:4bd:7419]:53344\n"
          ]
        },
        {
          "metadata": {
            "tags": null
          },
          "name": "stdout",
          "output_type": "stream",
          "text": [
            "\u001b[1;35mt=2024-06-22T13:54:34+0000 lvl=info msg=\"join connections\" obj=join id=7e3833c2acc7 l=127.0.0.1:8888 r=[2a01:5ec0:5812:1a43:49c1:297d:4bd:7419]:53344\u001b[0m\n"
          ]
        },
        {
          "metadata": {
            "tags": null
          },
          "name": "stderr",
          "output_type": "stream",
          "text": [
            "INFO:pyngrok.process.ngrok:t=2024-06-22T13:54:34+0000 lvl=info msg=\"join connections\" obj=join id=4b6daca490fb l=127.0.0.1:8888 r=[2a01:5ec0:5812:1a43:49c1:297d:4bd:7419]:53344\n"
          ]
        },
        {
          "metadata": {
            "tags": null
          },
          "name": "stdout",
          "output_type": "stream",
          "text": [
            "\u001b[1;35mt=2024-06-22T13:54:34+0000 lvl=info msg=\"join connections\" obj=join id=4b6daca490fb l=127.0.0.1:8888 r=[2a01:5ec0:5812:1a43:49c1:297d:4bd:7419]:53344\u001b[0m\n",
            "\u001b[32mINFO\u001b[0m:     2a01:5ec0:5812:1a43:49c1:297d:4bd:7419:0 - \"\u001b[1mGET /assets/acp-DOsXjFc7.webp HTTP/1.1\u001b[0m\" \u001b[32m200 OK\u001b[0m\n",
            "\u001b[32mINFO\u001b[0m:     2a01:5ec0:5812:1a43:49c1:297d:4bd:7419:0 - \"\u001b[1mGET /assets/connectors-video-C9qY4syJ.svg HTTP/1.1\u001b[0m\" \u001b[32m200 OK\u001b[0m\n",
            "\u001b[32mINFO\u001b[0m:     2a01:5ec0:5812:1a43:49c1:297d:4bd:7419:0 - \"\u001b[1mGET /assets/inter-cyrillic-ext-600-normal-KAwcVx6H.woff HTTP/1.1\u001b[0m\" \u001b[32m200 OK\u001b[0m\n",
            "\u001b[32mINFO\u001b[0m:     2a01:5ec0:5812:1a43:49c1:297d:4bd:7419:0 - \"\u001b[1mGET /assets/inter-latin-ext-600-normal-Dg0Bk0Yr.woff HTTP/1.1\u001b[0m\" \u001b[32m200 OK\u001b[0m\n"
          ]
        },
        {
          "metadata": {
            "tags": null
          },
          "name": "stderr",
          "output_type": "stream",
          "text": [
            "INFO:pyngrok.process.ngrok:t=2024-06-22T13:54:34+0000 lvl=info msg=\"join connections\" obj=join id=8c0cb177a662 l=127.0.0.1:8888 r=[2a01:5ec0:5812:1a43:49c1:297d:4bd:7419]:53344\n"
          ]
        },
        {
          "metadata": {
            "tags": null
          },
          "name": "stdout",
          "output_type": "stream",
          "text": [
            "\u001b[1;35mt=2024-06-22T13:54:34+0000 lvl=info msg=\"join connections\" obj=join id=8c0cb177a662 l=127.0.0.1:8888 r=[2a01:5ec0:5812:1a43:49c1:297d:4bd:7419]:53344\u001b[0m\n"
          ]
        },
        {
          "metadata": {
            "tags": null
          },
          "name": "stderr",
          "output_type": "stream",
          "text": [
            "INFO:pyngrok.process.ngrok:t=2024-06-22T13:54:34+0000 lvl=info msg=\"join connections\" obj=join id=52519570702e l=127.0.0.1:8888 r=[2a01:5ec0:5812:1a43:49c1:297d:4bd:7419]:53344\n"
          ]
        },
        {
          "metadata": {
            "tags": null
          },
          "name": "stdout",
          "output_type": "stream",
          "text": [
            "\u001b[1;35mt=2024-06-22T13:54:34+0000 lvl=info msg=\"join connections\" obj=join id=52519570702e l=127.0.0.1:8888 r=[2a01:5ec0:5812:1a43:49c1:297d:4bd:7419]:53344\u001b[0m\n"
          ]
        },
        {
          "metadata": {
            "tags": null
          },
          "name": "stderr",
          "output_type": "stream",
          "text": [
            "INFO:pyngrok.process.ngrok:t=2024-06-22T13:54:34+0000 lvl=info msg=\"join connections\" obj=join id=4c3ef17e7b85 l=127.0.0.1:8888 r=[2a01:5ec0:5812:1a43:49c1:297d:4bd:7419]:53344\n"
          ]
        },
        {
          "metadata": {
            "tags": null
          },
          "name": "stdout",
          "output_type": "stream",
          "text": [
            "\u001b[1;35mt=2024-06-22T13:54:34+0000 lvl=info msg=\"join connections\" obj=join id=4c3ef17e7b85 l=127.0.0.1:8888 r=[2a01:5ec0:5812:1a43:49c1:297d:4bd:7419]:53344\u001b[0m\n"
          ]
        },
        {
          "metadata": {
            "tags": null
          },
          "name": "stderr",
          "output_type": "stream",
          "text": [
            "INFO:pyngrok.process.ngrok:t=2024-06-22T13:54:34+0000 lvl=info msg=\"join connections\" obj=join id=72635ea95ae0 l=127.0.0.1:8888 r=[2a01:5ec0:5812:1a43:49c1:297d:4bd:7419]:53344\n"
          ]
        },
        {
          "metadata": {
            "tags": null
          },
          "name": "stdout",
          "output_type": "stream",
          "text": [
            "\u001b[1;35mt=2024-06-22T13:54:34+0000 lvl=info msg=\"join connections\" obj=join id=72635ea95ae0 l=127.0.0.1:8888 r=[2a01:5ec0:5812:1a43:49c1:297d:4bd:7419]:53344\u001b[0m\n"
          ]
        },
        {
          "metadata": {
            "tags": null
          },
          "name": "stderr",
          "output_type": "stream",
          "text": [
            "INFO:pyngrok.process.ngrok:t=2024-06-22T13:54:34+0000 lvl=info msg=\"join connections\" obj=join id=4d00b0141927 l=127.0.0.1:8888 r=[2a01:5ec0:5812:1a43:49c1:297d:4bd:7419]:53344\n"
          ]
        },
        {
          "metadata": {
            "tags": null
          },
          "name": "stdout",
          "output_type": "stream",
          "text": [
            "\u001b[1;35mt=2024-06-22T13:54:34+0000 lvl=info msg=\"join connections\" obj=join id=4d00b0141927 l=127.0.0.1:8888 r=[2a01:5ec0:5812:1a43:49c1:297d:4bd:7419]:53344\u001b[0m\n",
            "\u001b[32mINFO\u001b[0m:     2a01:5ec0:5812:1a43:49c1:297d:4bd:7419:0 - \"\u001b[1mGET /assets/repos-video-D8kpu60k.svg HTTP/1.1\u001b[0m\" \u001b[32m200 OK\u001b[0m\n",
            "\u001b[32mINFO\u001b[0m:     2a01:5ec0:5812:1a43:49c1:297d:4bd:7419:0 - \"\u001b[1mGET /assets/alex-DcCuDHPg.webp HTTP/1.1\u001b[0m\" \u001b[32m200 OK\u001b[0m\n",
            "\u001b[32mINFO\u001b[0m:     2a01:5ec0:5812:1a43:49c1:297d:4bd:7419:0 - \"\u001b[1mGET /assets/stacks-video-7gfxpAq4.svg HTTP/1.1\u001b[0m\" \u001b[32m200 OK\u001b[0m\n",
            "\u001b[32mINFO\u001b[0m:     2a01:5ec0:5812:1a43:49c1:297d:4bd:7419:0 - \"\u001b[1mGET /assets/inter-greek-600-normal-B-l8Lzzd.woff2 HTTP/1.1\u001b[0m\" \u001b[32m200 OK\u001b[0m\n",
            "\u001b[32mINFO\u001b[0m:     2a01:5ec0:5812:1a43:49c1:297d:4bd:7419:0 - \"\u001b[1mGET /assets/secrets-video-OBJ6irhH.svg HTTP/1.1\u001b[0m\" \u001b[32m200 OK\u001b[0m\n",
            "\u001b[32mINFO\u001b[0m:     2a01:5ec0:5812:1a43:49c1:297d:4bd:7419:0 - \"\u001b[1mGET /assets/settings_preview-0JLrRgHP.webp HTTP/1.1\u001b[0m\" \u001b[32m200 OK\u001b[0m\n",
            "\u001b[32mINFO\u001b[0m:     2a01:5ec0:5812:1a43:49c1:297d:4bd:7419:0 - \"\u001b[1mGET /assets/baris-C0ZrZ10g.webp HTTP/1.1\u001b[0m\" \u001b[32m200 OK\u001b[0m\n",
            "\u001b[32mINFO\u001b[0m:     2a01:5ec0:5812:1a43:49c1:297d:4bd:7419:0 - \"\u001b[1mGET /assets/inter-cyrillic-ext-500-normal-Xebo2OyJ.woff HTTP/1.1\u001b[0m\" \u001b[32m200 OK\u001b[0m\n",
            "\u001b[32mINFO\u001b[0m:     2a01:5ec0:5812:1a43:49c1:297d:4bd:7419:0 - \"\u001b[1mGET /assets/hamza-NKKOZz1I.webp HTTP/1.1\u001b[0m\" \u001b[32m200 OK\u001b[0m\n",
            "\u001b[32mINFO\u001b[0m:     2a01:5ec0:5812:1a43:49c1:297d:4bd:7419:0 - \"\u001b[1mGET /assets/page-yN4rZ-ZS.js HTTP/1.1\u001b[0m\" \u001b[32m200 OK\u001b[0m\n",
            "\u001b[32mINFO\u001b[0m:     2a01:5ec0:5812:1a43:49c1:297d:4bd:7419:0 - \"\u001b[1mGET /assets/InlineAvatar-DGf3dVhV.js HTTP/1.1\u001b[0m\" \u001b[32m200 OK\u001b[0m\n",
            "\u001b[32mINFO\u001b[0m:     2a01:5ec0:5812:1a43:49c1:297d:4bd:7419:0 - \"\u001b[1mGET /assets/docker-BAonhm6G.js HTTP/1.1\u001b[0m\" \u001b[32m200 OK\u001b[0m\n",
            "\u001b[32mINFO\u001b[0m:     2a01:5ec0:5812:1a43:49c1:297d:4bd:7419:0 - \"\u001b[1mGET /assets/page-B0BrqfS8.js HTTP/1.1\u001b[0m\" \u001b[32m200 OK\u001b[0m\n",
            "\u001b[32mINFO\u001b[0m:     2a01:5ec0:5812:1a43:49c1:297d:4bd:7419:0 - \"\u001b[1mGET /assets/database-CRRnyFWh.js HTTP/1.1\u001b[0m\" \u001b[32m200 OK\u001b[0m\n",
            "\u001b[32mINFO\u001b[0m:     2a01:5ec0:5812:1a43:49c1:297d:4bd:7419:0 - \"\u001b[1mGET /assets/inter-vietnamese-600-normal-BQ_dbMbg.woff HTTP/1.1\u001b[0m\" \u001b[32m200 OK\u001b[0m\n",
            "\u001b[32mINFO\u001b[0m:     2a01:5ec0:5812:1a43:49c1:297d:4bd:7419:0 - \"\u001b[1mGET /assets/Commands-DuIWKg_Q.js HTTP/1.1\u001b[0m\" \u001b[32m200 OK\u001b[0m\n",
            "\u001b[32mINFO\u001b[0m:     2a01:5ec0:5812:1a43:49c1:297d:4bd:7419:0 - \"\u001b[1mGET /assets/page-LqLs24Ot.js HTTP/1.1\u001b[0m\" \u001b[32m200 OK\u001b[0m\n",
            "\u001b[32mINFO\u001b[0m:     2a01:5ec0:5812:1a43:49c1:297d:4bd:7419:0 - \"\u001b[1mGET /assets/tour-cover-BYfeen6M.webp HTTP/1.1\u001b[0m\" \u001b[32m200 OK\u001b[0m\n",
            "\u001b[32mINFO\u001b[0m:     2a01:5ec0:5812:1a43:49c1:297d:4bd:7419:0 - \"\u001b[1mGET /assets/inter-latin-ext-500-normal-SuUkSNTU.woff HTTP/1.1\u001b[0m\" \u001b[32m200 OK\u001b[0m\n",
            "\u001b[32mINFO\u001b[0m:     2a01:5ec0:5812:1a43:49c1:297d:4bd:7419:0 - \"\u001b[1mGET /assets/CodeSnippet-Bbx6fIb6.css HTTP/1.1\u001b[0m\" \u001b[32m200 OK\u001b[0m\n",
            "\u001b[32mINFO\u001b[0m:     2a01:5ec0:5812:1a43:49c1:297d:4bd:7419:0 - \"\u001b[1mGET /assets/SetPassword-B5s7DJug.js HTTP/1.1\u001b[0m\" \u001b[32m200 OK\u001b[0m\n",
            "\u001b[32mINFO\u001b[0m:     2a01:5ec0:5812:1a43:49c1:297d:4bd:7419:0 - \"\u001b[1mGET /assets/DisplayDate-BdguISQF.js HTTP/1.1\u001b[0m\" \u001b[32m200 OK\u001b[0m\n"
          ]
        },
        {
          "metadata": {
            "tags": null
          },
          "name": "stderr",
          "output_type": "stream",
          "text": [
            "INFO:pyngrok.process.ngrok:t=2024-06-22T13:54:34+0000 lvl=info msg=\"join connections\" obj=join id=62fc53bb99c3 l=127.0.0.1:8888 r=[2a01:5ec0:5812:1a43:49c1:297d:4bd:7419]:53344\n"
          ]
        },
        {
          "metadata": {
            "tags": null
          },
          "name": "stdout",
          "output_type": "stream",
          "text": [
            "\u001b[1;35mt=2024-06-22T13:54:34+0000 lvl=info msg=\"join connections\" obj=join id=62fc53bb99c3 l=127.0.0.1:8888 r=[2a01:5ec0:5812:1a43:49c1:297d:4bd:7419]:53344\u001b[0m\n"
          ]
        },
        {
          "metadata": {
            "tags": null
          },
          "name": "stderr",
          "output_type": "stream",
          "text": [
            "INFO:pyngrok.process.ngrok:t=2024-06-22T13:54:34+0000 lvl=info msg=\"join connections\" obj=join id=ef03735f8e0a l=127.0.0.1:8888 r=[2a01:5ec0:5812:1a43:49c1:297d:4bd:7419]:53344\n"
          ]
        },
        {
          "metadata": {
            "tags": null
          },
          "name": "stdout",
          "output_type": "stream",
          "text": [
            "\u001b[1;35mt=2024-06-22T13:54:34+0000 lvl=info msg=\"join connections\" obj=join id=ef03735f8e0a l=127.0.0.1:8888 r=[2a01:5ec0:5812:1a43:49c1:297d:4bd:7419]:53344\u001b[0m\n"
          ]
        },
        {
          "metadata": {
            "tags": null
          },
          "name": "stderr",
          "output_type": "stream",
          "text": [
            "INFO:pyngrok.process.ngrok:t=2024-06-22T13:54:34+0000 lvl=info msg=\"join connections\" obj=join id=e99b21561f52 l=127.0.0.1:8888 r=[2a01:5ec0:5812:1a43:49c1:297d:4bd:7419]:53344\n"
          ]
        },
        {
          "metadata": {
            "tags": null
          },
          "name": "stdout",
          "output_type": "stream",
          "text": [
            "\u001b[1;35mt=2024-06-22T13:54:34+0000 lvl=info msg=\"join connections\" obj=join id=e99b21561f52 l=127.0.0.1:8888 r=[2a01:5ec0:5812:1a43:49c1:297d:4bd:7419]:53344\u001b[0m\n"
          ]
        },
        {
          "metadata": {
            "tags": null
          },
          "name": "stderr",
          "output_type": "stream",
          "text": [
            "INFO:pyngrok.process.ngrok:t=2024-06-22T13:54:34+0000 lvl=info msg=\"join connections\" obj=join id=e320dbce4a1a l=127.0.0.1:8888 r=[2a01:5ec0:5812:1a43:49c1:297d:4bd:7419]:53344\n"
          ]
        },
        {
          "metadata": {
            "tags": null
          },
          "name": "stdout",
          "output_type": "stream",
          "text": [
            "\u001b[32mINFO\u001b[0m:     2a01:5ec0:5812:1a43:49c1:297d:4bd:7419:0 - \"\u001b[1mGET /assets/SuccessStep-ZzczaM7g.js HTTP/1.1\u001b[0m\" \u001b[32m200 OK\u001b[0m\n",
            "\u001b[32mINFO\u001b[0m:     2a01:5ec0:5812:1a43:49c1:297d:4bd:7419:0 - \"\u001b[1mGET /assets/page-BmkSiYeQ.js HTTP/1.1\u001b[0m\" \u001b[32m200 OK\u001b[0m\n",
            "\u001b[32mINFO\u001b[0m:     2a01:5ec0:5812:1a43:49c1:297d:4bd:7419:0 - \"\u001b[1mGET /assets/adam-e-y0WnB_.webp HTTP/1.1\u001b[0m\" \u001b[32m200 OK\u001b[0m\n",
            "\u001b[32mINFO\u001b[0m:     2a01:5ec0:5812:1a43:49c1:297d:4bd:7419:0 - \"\u001b[1mGET /assets/CopyButton-B_YSm-Ds.js HTTP/1.1\u001b[0m\" \u001b[32m200 OK\u001b[0m\n",
            "\u001b[32mINFO\u001b[0m:     2a01:5ec0:5812:1a43:49c1:297d:4bd:7419:0 - \"\u001b[1mGET /assets/play-circle-DK5QMJyp.js HTTP/1.1\u001b[0m\" \u001b[32m200 OK\u001b[0m\n",
            "\u001b[32mINFO\u001b[0m:     2a01:5ec0:5812:1a43:49c1:297d:4bd:7419:0 - \"\u001b[1mGET /assets/page-DHkUMl_E.js HTTP/1.1\u001b[0m\" \u001b[32m200 OK\u001b[0m\n",
            "\u001b[32mINFO\u001b[0m:     2a01:5ec0:5812:1a43:49c1:297d:4bd:7419:0 - \"\u001b[1mGET /assets/page-CmmukLsl.js HTTP/1.1\u001b[0m\" \u001b[32m200 OK\u001b[0m\n",
            "\u001b[32mINFO\u001b[0m:     2a01:5ec0:5812:1a43:49c1:297d:4bd:7419:0 - \"\u001b[1mGET /assets/page-DdaIt20-.js HTTP/1.1\u001b[0m\" \u001b[32m200 OK\u001b[0m\n",
            "\u001b[32mINFO\u001b[0m:     2a01:5ec0:5812:1a43:49c1:297d:4bd:7419:0 - \"\u001b[1mGET /assets/page-Bi5AI0S7.js HTTP/1.1\u001b[0m\" \u001b[32m200 OK\u001b[0m\n",
            "\u001b[32mINFO\u001b[0m:     2a01:5ec0:5812:1a43:49c1:297d:4bd:7419:0 - \"\u001b[1mGET /assets/stefan-B08Ftbba.webp HTTP/1.1\u001b[0m\" \u001b[32m200 OK\u001b[0m\n",
            "\u001b[32mINFO\u001b[0m:     2a01:5ec0:5812:1a43:49c1:297d:4bd:7419:0 - \"\u001b[1mGET /assets/chevron-right-double-CJ50E9Gr.js HTTP/1.1\u001b[0m\" \u001b[32m200 OK\u001b[0m\n",
            "\u001b[32mINFO\u001b[0m:     2a01:5ec0:5812:1a43:49c1:297d:4bd:7419:0 - \"\u001b[1mGET /assets/page-CPtY4Kv_.js HTTP/1.1\u001b[0m\" \u001b[32m200 OK\u001b[0m\n",
            "\u001b[1;35mt=2024-06-22T13:54:34+0000 lvl=info msg=\"join connections\" obj=join id=e320dbce4a1a l=127.0.0.1:8888 r=[2a01:5ec0:5812:1a43:49c1:297d:4bd:7419]:53344\u001b[0m\n"
          ]
        },
        {
          "metadata": {
            "tags": null
          },
          "name": "stderr",
          "output_type": "stream",
          "text": [
            "INFO:pyngrok.process.ngrok:t=2024-06-22T13:54:34+0000 lvl=info msg=\"join connections\" obj=join id=56b8e7c7f945 l=127.0.0.1:8888 r=[2a01:5ec0:5812:1a43:49c1:297d:4bd:7419]:53344\n"
          ]
        },
        {
          "metadata": {
            "tags": null
          },
          "name": "stdout",
          "output_type": "stream",
          "text": [
            "\u001b[1;35mt=2024-06-22T13:54:34+0000 lvl=info msg=\"join connections\" obj=join id=56b8e7c7f945 l=127.0.0.1:8888 r=[2a01:5ec0:5812:1a43:49c1:297d:4bd:7419]:53344\u001b[0m\n"
          ]
        },
        {
          "metadata": {
            "tags": null
          },
          "name": "stderr",
          "output_type": "stream",
          "text": [
            "INFO:pyngrok.process.ngrok:t=2024-06-22T13:54:34+0000 lvl=info msg=\"join connections\" obj=join id=4e4fb2dd8c7e l=127.0.0.1:8888 r=[2a01:5ec0:5812:1a43:49c1:297d:4bd:7419]:53344\n"
          ]
        },
        {
          "metadata": {
            "tags": null
          },
          "name": "stdout",
          "output_type": "stream",
          "text": [
            "\u001b[1;35mt=2024-06-22T13:54:34+0000 lvl=info msg=\"join connections\" obj=join id=4e4fb2dd8c7e l=127.0.0.1:8888 r=[2a01:5ec0:5812:1a43:49c1:297d:4bd:7419]:53344\u001b[0m\n"
          ]
        },
        {
          "metadata": {
            "tags": null
          },
          "name": "stderr",
          "output_type": "stream",
          "text": [
            "INFO:pyngrok.process.ngrok:t=2024-06-22T13:54:34+0000 lvl=info msg=\"join connections\" obj=join id=137cb37b832c l=127.0.0.1:8888 r=[2a01:5ec0:5812:1a43:49c1:297d:4bd:7419]:53344\n"
          ]
        },
        {
          "metadata": {
            "tags": null
          },
          "name": "stdout",
          "output_type": "stream",
          "text": [
            "\u001b[1;35mt=2024-06-22T13:54:34+0000 lvl=info msg=\"join connections\" obj=join id=137cb37b832c l=127.0.0.1:8888 r=[2a01:5ec0:5812:1a43:49c1:297d:4bd:7419]:53344\u001b[0m\n"
          ]
        },
        {
          "metadata": {
            "tags": null
          },
          "name": "stderr",
          "output_type": "stream",
          "text": [
            "INFO:pyngrok.process.ngrok:t=2024-06-22T13:54:34+0000 lvl=info msg=\"join connections\" obj=join id=7da43dd3890f l=127.0.0.1:8888 r=[2a01:5ec0:5812:1a43:49c1:297d:4bd:7419]:53344\n"
          ]
        },
        {
          "metadata": {
            "tags": null
          },
          "name": "stdout",
          "output_type": "stream",
          "text": [
            "\u001b[1;35mt=2024-06-22T13:54:34+0000 lvl=info msg=\"join connections\" obj=join id=7da43dd3890f l=127.0.0.1:8888 r=[2a01:5ec0:5812:1a43:49c1:297d:4bd:7419]:53344\u001b[0m\n"
          ]
        },
        {
          "metadata": {
            "tags": null
          },
          "name": "stderr",
          "output_type": "stream",
          "text": [
            "INFO:pyngrok.process.ngrok:t=2024-06-22T13:54:34+0000 lvl=info msg=\"join connections\" obj=join id=4b270411a363 l=127.0.0.1:8888 r=[2a01:5ec0:5812:1a43:49c1:297d:4bd:7419]:53344\n"
          ]
        },
        {
          "metadata": {
            "tags": null
          },
          "name": "stdout",
          "output_type": "stream",
          "text": [
            "\u001b[1;35mt=2024-06-22T13:54:34+0000 lvl=info msg=\"join connections\" obj=join id=4b270411a363 l=127.0.0.1:8888 r=[2a01:5ec0:5812:1a43:49c1:297d:4bd:7419]:53344\u001b[0m\n"
          ]
        },
        {
          "metadata": {
            "tags": null
          },
          "name": "stderr",
          "output_type": "stream",
          "text": [
            "INFO:pyngrok.process.ngrok:t=2024-06-22T13:54:34+0000 lvl=info msg=\"join connections\" obj=join id=62437a9f1fbc l=127.0.0.1:8888 r=[2a01:5ec0:5812:1a43:49c1:297d:4bd:7419]:53344\n"
          ]
        },
        {
          "metadata": {
            "tags": null
          },
          "name": "stdout",
          "output_type": "stream",
          "text": [
            "\u001b[1;35mt=2024-06-22T13:54:34+0000 lvl=info msg=\"join connections\" obj=join id=62437a9f1fbc l=127.0.0.1:8888 r=[2a01:5ec0:5812:1a43:49c1:297d:4bd:7419]:53344\u001b[0m\n"
          ]
        },
        {
          "metadata": {
            "tags": null
          },
          "name": "stderr",
          "output_type": "stream",
          "text": [
            "INFO:pyngrok.process.ngrok:t=2024-06-22T13:54:34+0000 lvl=info msg=\"join connections\" obj=join id=7e9637f89c58 l=127.0.0.1:8888 r=[2a01:5ec0:5812:1a43:49c1:297d:4bd:7419]:53344\n"
          ]
        },
        {
          "metadata": {
            "tags": null
          },
          "name": "stdout",
          "output_type": "stream",
          "text": [
            "\u001b[1;35mt=2024-06-22T13:54:34+0000 lvl=info msg=\"join connections\" obj=join id=7e9637f89c58 l=127.0.0.1:8888 r=[2a01:5ec0:5812:1a43:49c1:297d:4bd:7419]:53344\u001b[0m\n"
          ]
        },
        {
          "metadata": {
            "tags": null
          },
          "name": "stderr",
          "output_type": "stream",
          "text": [
            "INFO:pyngrok.process.ngrok:t=2024-06-22T13:54:34+0000 lvl=info msg=\"join connections\" obj=join id=bdd2a6a7911b l=127.0.0.1:8888 r=[2a01:5ec0:5812:1a43:49c1:297d:4bd:7419]:53344\n"
          ]
        },
        {
          "metadata": {
            "tags": null
          },
          "name": "stdout",
          "output_type": "stream",
          "text": [
            "\u001b[1;35mt=2024-06-22T13:54:34+0000 lvl=info msg=\"join connections\" obj=join id=bdd2a6a7911b l=127.0.0.1:8888 r=[2a01:5ec0:5812:1a43:49c1:297d:4bd:7419]:53344\u001b[0m\n"
          ]
        },
        {
          "metadata": {
            "tags": null
          },
          "name": "stderr",
          "output_type": "stream",
          "text": [
            "INFO:pyngrok.process.ngrok:t=2024-06-22T13:54:35+0000 lvl=info msg=\"join connections\" obj=join id=c9932abdad5b l=127.0.0.1:8888 r=[2a01:5ec0:5812:1a43:49c1:297d:4bd:7419]:53344\n"
          ]
        },
        {
          "metadata": {
            "tags": null
          },
          "name": "stdout",
          "output_type": "stream",
          "text": [
            "\u001b[32mINFO\u001b[0m:     2a01:5ec0:5812:1a43:49c1:297d:4bd:7419:0 - \"\u001b[1mGET /assets/page-B-5jAKoO.js HTTP/1.1\u001b[0m\" \u001b[32m200 OK\u001b[0m\n",
            "\u001b[32mINFO\u001b[0m:     2a01:5ec0:5812:1a43:49c1:297d:4bd:7419:0 - \"\u001b[1mGET /assets/page-BQxVFlUl.js HTTP/1.1\u001b[0m\" \u001b[32m200 OK\u001b[0m\n",
            "\u001b[1;35mt=2024-06-22T13:54:35+0000 lvl=info msg=\"join connections\" obj=join id=c9932abdad5b l=127.0.0.1:8888 r=[2a01:5ec0:5812:1a43:49c1:297d:4bd:7419]:53344\u001b[0m\n"
          ]
        },
        {
          "metadata": {
            "tags": null
          },
          "name": "stderr",
          "output_type": "stream",
          "text": [
            "INFO:pyngrok.process.ngrok:t=2024-06-22T13:54:35+0000 lvl=info msg=\"join connections\" obj=join id=a282bcde4d93 l=127.0.0.1:8888 r=[2a01:5ec0:5812:1a43:49c1:297d:4bd:7419]:53344\n"
          ]
        },
        {
          "metadata": {
            "tags": null
          },
          "name": "stdout",
          "output_type": "stream",
          "text": [
            "\u001b[1;35mt=2024-06-22T13:54:35+0000 lvl=info msg=\"join connections\" obj=join id=a282bcde4d93 l=127.0.0.1:8888 r=[2a01:5ec0:5812:1a43:49c1:297d:4bd:7419]:53344\u001b[0m\n"
          ]
        },
        {
          "metadata": {
            "tags": null
          },
          "name": "stderr",
          "output_type": "stream",
          "text": [
            "INFO:pyngrok.process.ngrok:t=2024-06-22T13:54:35+0000 lvl=info msg=\"join connections\" obj=join id=e5d44a09db64 l=127.0.0.1:8888 r=[2a01:5ec0:5812:1a43:49c1:297d:4bd:7419]:53344\n"
          ]
        },
        {
          "metadata": {
            "tags": null
          },
          "name": "stdout",
          "output_type": "stream",
          "text": [
            "\u001b[1;35mt=2024-06-22T13:54:35+0000 lvl=info msg=\"join connections\" obj=join id=e5d44a09db64 l=127.0.0.1:8888 r=[2a01:5ec0:5812:1a43:49c1:297d:4bd:7419]:53344\u001b[0m\n"
          ]
        },
        {
          "metadata": {
            "tags": null
          },
          "name": "stderr",
          "output_type": "stream",
          "text": [
            "INFO:pyngrok.process.ngrok:t=2024-06-22T13:54:35+0000 lvl=info msg=\"join connections\" obj=join id=5f3b97ec11a2 l=127.0.0.1:8888 r=[2a01:5ec0:5812:1a43:49c1:297d:4bd:7419]:53344\n"
          ]
        },
        {
          "metadata": {
            "tags": null
          },
          "name": "stdout",
          "output_type": "stream",
          "text": [
            "\u001b[1;35mt=2024-06-22T13:54:35+0000 lvl=info msg=\"join connections\" obj=join id=5f3b97ec11a2 l=127.0.0.1:8888 r=[2a01:5ec0:5812:1a43:49c1:297d:4bd:7419]:53344\u001b[0m\n"
          ]
        },
        {
          "metadata": {
            "tags": null
          },
          "name": "stderr",
          "output_type": "stream",
          "text": [
            "INFO:pyngrok.process.ngrok:t=2024-06-22T13:54:35+0000 lvl=info msg=\"join connections\" obj=join id=b7c99a8047d1 l=127.0.0.1:8888 r=[2a01:5ec0:5812:1a43:49c1:297d:4bd:7419]:53344\n"
          ]
        },
        {
          "metadata": {
            "tags": null
          },
          "name": "stdout",
          "output_type": "stream",
          "text": [
            "\u001b[1;35mt=2024-06-22T13:54:35+0000 lvl=info msg=\"join connections\" obj=join id=b7c99a8047d1 l=127.0.0.1:8888 r=[2a01:5ec0:5812:1a43:49c1:297d:4bd:7419]:53344\u001b[0m\n"
          ]
        },
        {
          "metadata": {
            "tags": null
          },
          "name": "stderr",
          "output_type": "stream",
          "text": [
            "INFO:pyngrok.process.ngrok:t=2024-06-22T13:54:35+0000 lvl=info msg=\"join connections\" obj=join id=ea28980765d6 l=127.0.0.1:8888 r=[2a01:5ec0:5812:1a43:49c1:297d:4bd:7419]:53344\n"
          ]
        },
        {
          "metadata": {
            "tags": null
          },
          "name": "stdout",
          "output_type": "stream",
          "text": [
            "\u001b[1;35mt=2024-06-22T13:54:35+0000 lvl=info msg=\"join connections\" obj=join id=ea28980765d6 l=127.0.0.1:8888 r=[2a01:5ec0:5812:1a43:49c1:297d:4bd:7419]:53344\u001b[0m\n"
          ]
        },
        {
          "metadata": {
            "tags": null
          },
          "name": "stderr",
          "output_type": "stream",
          "text": [
            "INFO:pyngrok.process.ngrok:t=2024-06-22T13:54:35+0000 lvl=info msg=\"join connections\" obj=join id=89d186802ee3 l=127.0.0.1:8888 r=[2a01:5ec0:5812:1a43:49c1:297d:4bd:7419]:53344\n"
          ]
        },
        {
          "metadata": {
            "tags": null
          },
          "name": "stdout",
          "output_type": "stream",
          "text": [
            "\u001b[1;35mt=2024-06-22T13:54:35+0000 lvl=info msg=\"join connections\" obj=join id=89d186802ee3 l=127.0.0.1:8888 r=[2a01:5ec0:5812:1a43:49c1:297d:4bd:7419]:53344\u001b[0m\n"
          ]
        },
        {
          "metadata": {
            "tags": null
          },
          "name": "stderr",
          "output_type": "stream",
          "text": [
            "INFO:pyngrok.process.ngrok:t=2024-06-22T13:54:35+0000 lvl=info msg=\"join connections\" obj=join id=b1eee7904f57 l=127.0.0.1:8888 r=[2a01:5ec0:5812:1a43:49c1:297d:4bd:7419]:53344\n"
          ]
        },
        {
          "metadata": {
            "tags": null
          },
          "name": "stdout",
          "output_type": "stream",
          "text": [
            "\u001b[1;35mt=2024-06-22T13:54:35+0000 lvl=info msg=\"join connections\" obj=join id=b1eee7904f57 l=127.0.0.1:8888 r=[2a01:5ec0:5812:1a43:49c1:297d:4bd:7419]:53344\u001b[0m\n"
          ]
        },
        {
          "metadata": {
            "tags": null
          },
          "name": "stderr",
          "output_type": "stream",
          "text": [
            "INFO:pyngrok.process.ngrok:t=2024-06-22T13:54:35+0000 lvl=info msg=\"join connections\" obj=join id=e249903523d9 l=127.0.0.1:8888 r=[2a01:5ec0:5812:1a43:49c1:297d:4bd:7419]:53344\n"
          ]
        },
        {
          "metadata": {
            "tags": null
          },
          "name": "stdout",
          "output_type": "stream",
          "text": [
            "\u001b[1;35mt=2024-06-22T13:54:35+0000 lvl=info msg=\"join connections\" obj=join id=e249903523d9 l=127.0.0.1:8888 r=[2a01:5ec0:5812:1a43:49c1:297d:4bd:7419]:53344\u001b[0m\n"
          ]
        },
        {
          "metadata": {
            "tags": null
          },
          "name": "stderr",
          "output_type": "stream",
          "text": [
            "INFO:pyngrok.process.ngrok:t=2024-06-22T13:54:35+0000 lvl=info msg=\"join connections\" obj=join id=468b2d65148d l=127.0.0.1:8888 r=[2a01:5ec0:5812:1a43:49c1:297d:4bd:7419]:53344\n"
          ]
        },
        {
          "metadata": {
            "tags": null
          },
          "name": "stdout",
          "output_type": "stream",
          "text": [
            "\u001b[1;35mt=2024-06-22T13:54:35+0000 lvl=info msg=\"join connections\" obj=join id=468b2d65148d l=127.0.0.1:8888 r=[2a01:5ec0:5812:1a43:49c1:297d:4bd:7419]:53344\u001b[0m\n"
          ]
        },
        {
          "metadata": {
            "tags": null
          },
          "name": "stderr",
          "output_type": "stream",
          "text": [
            "INFO:pyngrok.process.ngrok:t=2024-06-22T13:54:35+0000 lvl=info msg=\"join connections\" obj=join id=932f55d1ff70 l=127.0.0.1:8888 r=[2a01:5ec0:5812:1a43:49c1:297d:4bd:7419]:53344\n"
          ]
        },
        {
          "metadata": {
            "tags": null
          },
          "name": "stdout",
          "output_type": "stream",
          "text": [
            "\u001b[1;35mt=2024-06-22T13:54:35+0000 lvl=info msg=\"join connections\" obj=join id=932f55d1ff70 l=127.0.0.1:8888 r=[2a01:5ec0:5812:1a43:49c1:297d:4bd:7419]:53344\u001b[0m\n",
            "\u001b[32mINFO\u001b[0m:     2a01:5ec0:5812:1a43:49c1:297d:4bd:7419:0 - \"\u001b[1mGET /assets/Error-B6M0dPph.js HTTP/1.1\u001b[0m\" \u001b[32m200 OK\u001b[0m\n",
            "\u001b[32mINFO\u001b[0m:     2a01:5ec0:5812:1a43:49c1:297d:4bd:7419:0 - \"\u001b[1mGET /assets/page-AQKopn_4.js HTTP/1.1\u001b[0m\" \u001b[32m200 OK\u001b[0m\n"
          ]
        },
        {
          "metadata": {
            "tags": null
          },
          "name": "stderr",
          "output_type": "stream",
          "text": [
            "INFO:pyngrok.process.ngrok:t=2024-06-22T13:54:35+0000 lvl=info msg=\"join connections\" obj=join id=8607ab5fc4a1 l=127.0.0.1:8888 r=[2a01:5ec0:5812:1a43:49c1:297d:4bd:7419]:53344\n"
          ]
        },
        {
          "metadata": {
            "tags": null
          },
          "name": "stdout",
          "output_type": "stream",
          "text": [
            "\u001b[1;35mt=2024-06-22T13:54:35+0000 lvl=info msg=\"join connections\" obj=join id=8607ab5fc4a1 l=127.0.0.1:8888 r=[2a01:5ec0:5812:1a43:49c1:297d:4bd:7419]:53344\u001b[0m\n"
          ]
        },
        {
          "metadata": {
            "tags": null
          },
          "name": "stderr",
          "output_type": "stream",
          "text": [
            "INFO:pyngrok.process.ngrok:t=2024-06-22T13:54:35+0000 lvl=info msg=\"join connections\" obj=join id=75606ef5ca26 l=127.0.0.1:8888 r=[2a01:5ec0:5812:1a43:49c1:297d:4bd:7419]:53344\n"
          ]
        },
        {
          "metadata": {
            "tags": null
          },
          "name": "stdout",
          "output_type": "stream",
          "text": [
            "\u001b[1;35mt=2024-06-22T13:54:35+0000 lvl=info msg=\"join connections\" obj=join id=75606ef5ca26 l=127.0.0.1:8888 r=[2a01:5ec0:5812:1a43:49c1:297d:4bd:7419]:53344\u001b[0m\n"
          ]
        },
        {
          "metadata": {
            "tags": null
          },
          "name": "stderr",
          "output_type": "stream",
          "text": [
            "INFO:pyngrok.process.ngrok:t=2024-06-22T13:54:35+0000 lvl=info msg=\"join connections\" obj=join id=2b0e77009e49 l=127.0.0.1:8888 r=[2a01:5ec0:5812:1a43:49c1:297d:4bd:7419]:53344\n"
          ]
        },
        {
          "metadata": {
            "tags": null
          },
          "name": "stdout",
          "output_type": "stream",
          "text": [
            "\u001b[1;35mt=2024-06-22T13:54:35+0000 lvl=info msg=\"join connections\" obj=join id=2b0e77009e49 l=127.0.0.1:8888 r=[2a01:5ec0:5812:1a43:49c1:297d:4bd:7419]:53344\u001b[0m\n",
            "\u001b[32mINFO\u001b[0m:     2a01:5ec0:5812:1a43:49c1:297d:4bd:7419:0 - \"\u001b[1mGET /assets/page-CuT1SUik.js HTTP/1.1\u001b[0m\" \u001b[32m200 OK\u001b[0m\n",
            "\u001b[32mINFO\u001b[0m:     2a01:5ec0:5812:1a43:49c1:297d:4bd:7419:0 - \"\u001b[1mGET /assets/page-ByrHy6Ss.js HTTP/1.1\u001b[0m\" \u001b[32m200 OK\u001b[0m\n",
            "\u001b[32mINFO\u001b[0m:     2a01:5ec0:5812:1a43:49c1:297d:4bd:7419:0 - \"\u001b[1mGET /assets/login-mutation-wzzl23C6.js HTTP/1.1\u001b[0m\" \u001b[32m200 OK\u001b[0m\n",
            "\u001b[32mINFO\u001b[0m:     2a01:5ec0:5812:1a43:49c1:297d:4bd:7419:0 - \"\u001b[1mGET /assets/UpdatePasswordSchemas-DnM-c11H.js HTTP/1.1\u001b[0m\" \u001b[32m200 OK\u001b[0m\n",
            "\u001b[32mINFO\u001b[0m:     2a01:5ec0:5812:1a43:49c1:297d:4bd:7419:0 - \"\u001b[1mGET /assets/AwarenessChannel-nXGpmj_f.js HTTP/1.1\u001b[0m\" \u001b[32m200 OK\u001b[0m\n",
            "\u001b[32mINFO\u001b[0m:     2a01:5ec0:5812:1a43:49c1:297d:4bd:7419:0 - \"\u001b[1mGET /assets/page-lebv0c7C.js HTTP/1.1\u001b[0m\" \u001b[32m200 OK\u001b[0m\n",
            "\u001b[32mINFO\u001b[0m:     2a01:5ec0:5812:1a43:49c1:297d:4bd:7419:0 - \"\u001b[1mGET /assets/not-found-Dh2la7kh.js HTTP/1.1\u001b[0m\" \u001b[32m200 OK\u001b[0m\n",
            "\u001b[32mINFO\u001b[0m:     2a01:5ec0:5812:1a43:49c1:297d:4bd:7419:0 - \"\u001b[1mGET /assets/Helpbox-BQoqCm04.js HTTP/1.1\u001b[0m\" \u001b[32m200 OK\u001b[0m\n",
            "\u001b[32mINFO\u001b[0m:     2a01:5ec0:5812:1a43:49c1:297d:4bd:7419:0 - \"\u001b[1mGET /assets/cloud-only-Ba_ShBR5.js HTTP/1.1\u001b[0m\" \u001b[32m200 OK\u001b[0m\n",
            "\u001b[32mINFO\u001b[0m:     2a01:5ec0:5812:1a43:49c1:297d:4bd:7419:0 - \"\u001b[1mGET /assets/page-DAQQyLxT.js HTTP/1.1\u001b[0m\" \u001b[32m200 OK\u001b[0m\n",
            "\u001b[32mINFO\u001b[0m:     2a01:5ec0:5812:1a43:49c1:297d:4bd:7419:0 - \"\u001b[1mGET /assets/Pagination-DVYfBCCc.js HTTP/1.1\u001b[0m\" \u001b[32m200 OK\u001b[0m\n",
            "\u001b[32mINFO\u001b[0m:     2a01:5ec0:5812:1a43:49c1:297d:4bd:7419:0 - \"\u001b[1mGET /assets/PageHeader-DGaemzjc.js HTTP/1.1\u001b[0m\" \u001b[32m200 OK\u001b[0m\n",
            "\u001b[32mINFO\u001b[0m:     2a01:5ec0:5812:1a43:49c1:297d:4bd:7419:0 - \"\u001b[1mGET /assets/aws-t0gKCj_R.js HTTP/1.1\u001b[0m\" \u001b[32m200 OK\u001b[0m\n",
            "\u001b[32mINFO\u001b[0m:     2a01:5ec0:5812:1a43:49c1:297d:4bd:7419:0 - \"\u001b[1mGET /assets/Infobox-Ce9mefqU.js HTTP/1.1\u001b[0m\" \u001b[32m200 OK\u001b[0m\n",
            "\u001b[32mINFO\u001b[0m:     2a01:5ec0:5812:1a43:49c1:297d:4bd:7419:0 - \"\u001b[1mGET /assets/index.esm-F7nqy9zY.js HTTP/1.1\u001b[0m\" \u001b[32m200 OK\u001b[0m\n"
          ]
        },
        {
          "metadata": {
            "tags": null
          },
          "name": "stderr",
          "output_type": "stream",
          "text": [
            "INFO:pyngrok.process.ngrok:t=2024-06-22T13:54:35+0000 lvl=info msg=\"join connections\" obj=join id=70a51651e4ae l=127.0.0.1:8888 r=[2a01:5ec0:5812:1a43:49c1:297d:4bd:7419]:53344\n"
          ]
        },
        {
          "metadata": {
            "tags": null
          },
          "name": "stdout",
          "output_type": "stream",
          "text": [
            "\u001b[1;35mt=2024-06-22T13:54:35+0000 lvl=info msg=\"join connections\" obj=join id=70a51651e4ae l=127.0.0.1:8888 r=[2a01:5ec0:5812:1a43:49c1:297d:4bd:7419]:53344\u001b[0m\n"
          ]
        },
        {
          "metadata": {
            "tags": null
          },
          "name": "stderr",
          "output_type": "stream",
          "text": [
            "INFO:pyngrok.process.ngrok:t=2024-06-22T13:54:35+0000 lvl=info msg=\"join connections\" obj=join id=c1c1e41e4759 l=127.0.0.1:8888 r=[2a01:5ec0:5812:1a43:49c1:297d:4bd:7419]:53344\n"
          ]
        },
        {
          "metadata": {
            "tags": null
          },
          "name": "stdout",
          "output_type": "stream",
          "text": [
            "\u001b[1;35mt=2024-06-22T13:54:35+0000 lvl=info msg=\"join connections\" obj=join id=c1c1e41e4759 l=127.0.0.1:8888 r=[2a01:5ec0:5812:1a43:49c1:297d:4bd:7419]:53344\u001b[0m\n"
          ]
        },
        {
          "metadata": {
            "tags": null
          },
          "name": "stderr",
          "output_type": "stream",
          "text": [
            "INFO:pyngrok.process.ngrok:t=2024-06-22T13:54:35+0000 lvl=info msg=\"join connections\" obj=join id=44510fdaf247 l=127.0.0.1:8888 r=[2a01:5ec0:5812:1a43:49c1:297d:4bd:7419]:53344\n"
          ]
        },
        {
          "metadata": {
            "tags": null
          },
          "name": "stdout",
          "output_type": "stream",
          "text": [
            "\u001b[1;35mt=2024-06-22T13:54:35+0000 lvl=info msg=\"join connections\" obj=join id=44510fdaf247 l=127.0.0.1:8888 r=[2a01:5ec0:5812:1a43:49c1:297d:4bd:7419]:53344\u001b[0m\n"
          ]
        },
        {
          "metadata": {
            "tags": null
          },
          "name": "stderr",
          "output_type": "stream",
          "text": [
            "INFO:pyngrok.process.ngrok:t=2024-06-22T13:54:35+0000 lvl=info msg=\"join connections\" obj=join id=74db7345a4b0 l=127.0.0.1:8888 r=[2a01:5ec0:5812:1a43:49c1:297d:4bd:7419]:53344\n"
          ]
        },
        {
          "metadata": {
            "tags": null
          },
          "name": "stdout",
          "output_type": "stream",
          "text": [
            "\u001b[32mINFO\u001b[0m:     2a01:5ec0:5812:1a43:49c1:297d:4bd:7419:0 - \"\u001b[1mGET /assets/help-B8rqCvqn.js HTTP/1.1\u001b[0m\" \u001b[32m200 OK\u001b[0m\n",
            "\u001b[32mINFO\u001b[0m:     2a01:5ec0:5812:1a43:49c1:297d:4bd:7419:0 - \"\u001b[1mGET /assets/Cards-nwsvQLVS.js HTTP/1.1\u001b[0m\" \u001b[32m200 OK\u001b[0m\n",
            "\u001b[32mINFO\u001b[0m:     2a01:5ec0:5812:1a43:49c1:297d:4bd:7419:0 - \"\u001b[1mGET /assets/EmptyState-BkooiGtL.js HTTP/1.1\u001b[0m\" \u001b[32m200 OK\u001b[0m\n",
            "\u001b[32mINFO\u001b[0m:     2a01:5ec0:5812:1a43:49c1:297d:4bd:7419:0 - \"\u001b[1mGET /assets/page-DZCbwOEs.js HTTP/1.1\u001b[0m\" \u001b[32m200 OK\u001b[0m\n",
            "\u001b[32mINFO\u001b[0m:     2a01:5ec0:5812:1a43:49c1:297d:4bd:7419:0 - \"\u001b[1mGET /assets/file-text-CbVERUON.js HTTP/1.1\u001b[0m\" \u001b[32m200 OK\u001b[0m\n",
            "\u001b[32mINFO\u001b[0m:     2a01:5ec0:5812:1a43:49c1:297d:4bd:7419:0 - \"\u001b[1mGET /assets/terminal-B2ovgWuz.js HTTP/1.1\u001b[0m\" \u001b[32m200 OK\u001b[0m\n",
            "\u001b[1;35mt=2024-06-22T13:54:35+0000 lvl=info msg=\"join connections\" obj=join id=74db7345a4b0 l=127.0.0.1:8888 r=[2a01:5ec0:5812:1a43:49c1:297d:4bd:7419]:53344\u001b[0m\n"
          ]
        },
        {
          "metadata": {
            "tags": null
          },
          "name": "stderr",
          "output_type": "stream",
          "text": [
            "INFO:pyngrok.process.ngrok:t=2024-06-22T13:54:35+0000 lvl=info msg=\"join connections\" obj=join id=18ef4a9eb305 l=127.0.0.1:8888 r=[2a01:5ec0:5812:1a43:49c1:297d:4bd:7419]:53344\n"
          ]
        },
        {
          "metadata": {
            "tags": null
          },
          "name": "stdout",
          "output_type": "stream",
          "text": [
            "\u001b[1;35mt=2024-06-22T13:54:35+0000 lvl=info msg=\"join connections\" obj=join id=18ef4a9eb305 l=127.0.0.1:8888 r=[2a01:5ec0:5812:1a43:49c1:297d:4bd:7419]:53344\u001b[0m\n"
          ]
        },
        {
          "metadata": {
            "tags": null
          },
          "name": "stderr",
          "output_type": "stream",
          "text": [
            "INFO:pyngrok.process.ngrok:t=2024-06-22T13:54:35+0000 lvl=info msg=\"join connections\" obj=join id=a0d15064d800 l=127.0.0.1:8888 r=[2a01:5ec0:5812:1a43:49c1:297d:4bd:7419]:53344\n"
          ]
        },
        {
          "metadata": {
            "tags": null
          },
          "name": "stdout",
          "output_type": "stream",
          "text": [
            "\u001b[1;35mt=2024-06-22T13:54:35+0000 lvl=info msg=\"join connections\" obj=join id=a0d15064d800 l=127.0.0.1:8888 r=[2a01:5ec0:5812:1a43:49c1:297d:4bd:7419]:53344\u001b[0m\n"
          ]
        },
        {
          "metadata": {
            "tags": null
          },
          "name": "stderr",
          "output_type": "stream",
          "text": [
            "INFO:pyngrok.process.ngrok:t=2024-06-22T13:54:35+0000 lvl=info msg=\"join connections\" obj=join id=067a1106aefe l=127.0.0.1:8888 r=[2a01:5ec0:5812:1a43:49c1:297d:4bd:7419]:53344\n"
          ]
        },
        {
          "metadata": {
            "tags": null
          },
          "name": "stdout",
          "output_type": "stream",
          "text": [
            "\u001b[1;35mt=2024-06-22T13:54:35+0000 lvl=info msg=\"join connections\" obj=join id=067a1106aefe l=127.0.0.1:8888 r=[2a01:5ec0:5812:1a43:49c1:297d:4bd:7419]:53344\u001b[0m\n"
          ]
        },
        {
          "metadata": {
            "tags": null
          },
          "name": "stderr",
          "output_type": "stream",
          "text": [
            "INFO:pyngrok.process.ngrok:t=2024-06-22T13:54:35+0000 lvl=info msg=\"join connections\" obj=join id=e43a76aa7a9c l=127.0.0.1:8888 r=[2a01:5ec0:5812:1a43:49c1:297d:4bd:7419]:53344\n"
          ]
        },
        {
          "metadata": {
            "tags": null
          },
          "name": "stdout",
          "output_type": "stream",
          "text": [
            "\u001b[1;35mt=2024-06-22T13:54:35+0000 lvl=info msg=\"join connections\" obj=join id=e43a76aa7a9c l=127.0.0.1:8888 r=[2a01:5ec0:5812:1a43:49c1:297d:4bd:7419]:53344\u001b[0m\n"
          ]
        },
        {
          "metadata": {
            "tags": null
          },
          "name": "stderr",
          "output_type": "stream",
          "text": [
            "INFO:pyngrok.process.ngrok:t=2024-06-22T13:54:35+0000 lvl=info msg=\"join connections\" obj=join id=6bdbbb73111c l=127.0.0.1:8888 r=[2a01:5ec0:5812:1a43:49c1:297d:4bd:7419]:53344\n"
          ]
        },
        {
          "metadata": {
            "tags": null
          },
          "name": "stdout",
          "output_type": "stream",
          "text": [
            "\u001b[1;35mt=2024-06-22T13:54:35+0000 lvl=info msg=\"join connections\" obj=join id=6bdbbb73111c l=127.0.0.1:8888 r=[2a01:5ec0:5812:1a43:49c1:297d:4bd:7419]:53344\u001b[0m\n"
          ]
        },
        {
          "metadata": {
            "tags": null
          },
          "name": "stderr",
          "output_type": "stream",
          "text": [
            "INFO:pyngrok.process.ngrok:t=2024-06-22T13:54:35+0000 lvl=info msg=\"join connections\" obj=join id=9c806dcc2f86 l=127.0.0.1:8888 r=[2a01:5ec0:5812:1a43:49c1:297d:4bd:7419]:53344\n"
          ]
        },
        {
          "metadata": {
            "tags": null
          },
          "name": "stdout",
          "output_type": "stream",
          "text": [
            "\u001b[1;35mt=2024-06-22T13:54:35+0000 lvl=info msg=\"join connections\" obj=join id=9c806dcc2f86 l=127.0.0.1:8888 r=[2a01:5ec0:5812:1a43:49c1:297d:4bd:7419]:53344\u001b[0m\n",
            "\u001b[32mINFO\u001b[0m:     2a01:5ec0:5812:1a43:49c1:297d:4bd:7419:0 - \"\u001b[1mGET /assets/update-server-settings-mutation-0Wgz8pUE.js HTTP/1.1\u001b[0m\" \u001b[32m200 OK\u001b[0m\n",
            "\u001b[32mINFO\u001b[0m:     2a01:5ec0:5812:1a43:49c1:297d:4bd:7419:0 - \"\u001b[1mGET /assets/page-BW6Ket3a.js HTTP/1.1\u001b[0m\" \u001b[32m200 OK\u001b[0m\n",
            "\u001b[32mINFO\u001b[0m:     2a01:5ec0:5812:1a43:49c1:297d:4bd:7419:0 - \"\u001b[1mGET /assets/PasswordChecker-DSLBp7Vl.js HTTP/1.1\u001b[0m\" \u001b[32m200 OK\u001b[0m\n"
          ]
        },
        {
          "metadata": {
            "tags": null
          },
          "name": "stderr",
          "output_type": "stream",
          "text": [
            "INFO:pyngrok.process.ngrok:t=2024-06-22T13:54:36+0000 lvl=info msg=\"join connections\" obj=join id=597cb7bd25b9 l=127.0.0.1:8888 r=[2a01:5ec0:5812:1a43:49c1:297d:4bd:7419]:53344\n"
          ]
        },
        {
          "metadata": {
            "tags": null
          },
          "name": "stdout",
          "output_type": "stream",
          "text": [
            "\u001b[32mINFO\u001b[0m:     2a01:5ec0:5812:1a43:49c1:297d:4bd:7419:0 - \"\u001b[1mGET /assets/CsvVizualization-BOuez-fG.js HTTP/1.1\u001b[0m\" \u001b[32m200 OK\u001b[0m\n",
            "\u001b[32mINFO\u001b[0m:     2a01:5ec0:5812:1a43:49c1:297d:4bd:7419:0 - \"\u001b[1mGET /assets/url-6_xv0WJS.js HTTP/1.1\u001b[0m\" \u001b[32m200 OK\u001b[0m\n",
            "\u001b[1;35mt=2024-06-22T13:54:36+0000 lvl=info msg=\"join connections\" obj=join id=597cb7bd25b9 l=127.0.0.1:8888 r=[2a01:5ec0:5812:1a43:49c1:297d:4bd:7419]:53344\u001b[0m\n"
          ]
        },
        {
          "metadata": {
            "tags": null
          },
          "name": "stderr",
          "output_type": "stream",
          "text": [
            "INFO:pyngrok.process.ngrok:t=2024-06-22T13:54:36+0000 lvl=info msg=\"join connections\" obj=join id=c15432627fa7 l=127.0.0.1:8888 r=[2a01:5ec0:5812:1a43:49c1:297d:4bd:7419]:53344\n"
          ]
        },
        {
          "metadata": {
            "tags": null
          },
          "name": "stdout",
          "output_type": "stream",
          "text": [
            "\u001b[1;35mt=2024-06-22T13:54:36+0000 lvl=info msg=\"join connections\" obj=join id=c15432627fa7 l=127.0.0.1:8888 r=[2a01:5ec0:5812:1a43:49c1:297d:4bd:7419]:53344\u001b[0m\n"
          ]
        },
        {
          "metadata": {
            "tags": null
          },
          "name": "stderr",
          "output_type": "stream",
          "text": [
            "INFO:pyngrok.process.ngrok:t=2024-06-22T13:54:36+0000 lvl=info msg=\"join connections\" obj=join id=0ab024161109 l=127.0.0.1:8888 r=[2a01:5ec0:5812:1a43:49c1:297d:4bd:7419]:53344\n"
          ]
        },
        {
          "metadata": {
            "tags": null
          },
          "name": "stdout",
          "output_type": "stream",
          "text": [
            "\u001b[1;35mt=2024-06-22T13:54:36+0000 lvl=info msg=\"join connections\" obj=join id=0ab024161109 l=127.0.0.1:8888 r=[2a01:5ec0:5812:1a43:49c1:297d:4bd:7419]:53344\u001b[0m\n"
          ]
        },
        {
          "metadata": {
            "tags": null
          },
          "name": "stderr",
          "output_type": "stream",
          "text": [
            "INFO:pyngrok.process.ngrok:t=2024-06-22T13:54:36+0000 lvl=info msg=\"join connections\" obj=join id=4602bd5d9226 l=127.0.0.1:8888 r=[2a01:5ec0:5812:1a43:49c1:297d:4bd:7419]:53344\n"
          ]
        },
        {
          "metadata": {
            "tags": null
          },
          "name": "stdout",
          "output_type": "stream",
          "text": [
            "\u001b[1;35mt=2024-06-22T13:54:36+0000 lvl=info msg=\"join connections\" obj=join id=4602bd5d9226 l=127.0.0.1:8888 r=[2a01:5ec0:5812:1a43:49c1:297d:4bd:7419]:53344\u001b[0m\n"
          ]
        },
        {
          "metadata": {
            "tags": null
          },
          "name": "stderr",
          "output_type": "stream",
          "text": [
            "INFO:pyngrok.process.ngrok:t=2024-06-22T13:54:36+0000 lvl=info msg=\"join connections\" obj=join id=7f59fed353b0 l=127.0.0.1:8888 r=[2a01:5ec0:5812:1a43:49c1:297d:4bd:7419]:53344\n"
          ]
        },
        {
          "metadata": {
            "tags": null
          },
          "name": "stdout",
          "output_type": "stream",
          "text": [
            "\u001b[1;35mt=2024-06-22T13:54:36+0000 lvl=info msg=\"join connections\" obj=join id=7f59fed353b0 l=127.0.0.1:8888 r=[2a01:5ec0:5812:1a43:49c1:297d:4bd:7419]:53344\u001b[0m\n"
          ]
        },
        {
          "metadata": {
            "tags": null
          },
          "name": "stderr",
          "output_type": "stream",
          "text": [
            "INFO:pyngrok.process.ngrok:t=2024-06-22T13:54:36+0000 lvl=info msg=\"join connections\" obj=join id=705085160f79 l=127.0.0.1:8888 r=[2a01:5ec0:5812:1a43:49c1:297d:4bd:7419]:53344\n"
          ]
        },
        {
          "metadata": {
            "tags": null
          },
          "name": "stdout",
          "output_type": "stream",
          "text": [
            "\u001b[1;35mt=2024-06-22T13:54:36+0000 lvl=info msg=\"join connections\" obj=join id=705085160f79 l=127.0.0.1:8888 r=[2a01:5ec0:5812:1a43:49c1:297d:4bd:7419]:53344\u001b[0m\n"
          ]
        },
        {
          "metadata": {
            "tags": null
          },
          "name": "stderr",
          "output_type": "stream",
          "text": [
            "INFO:pyngrok.process.ngrok:t=2024-06-22T13:54:36+0000 lvl=info msg=\"join connections\" obj=join id=d9af8f61bf6f l=127.0.0.1:8888 r=[2a01:5ec0:5812:1a43:49c1:297d:4bd:7419]:53344\n"
          ]
        },
        {
          "metadata": {
            "tags": null
          },
          "name": "stdout",
          "output_type": "stream",
          "text": [
            "\u001b[1;35mt=2024-06-22T13:54:36+0000 lvl=info msg=\"join connections\" obj=join id=d9af8f61bf6f l=127.0.0.1:8888 r=[2a01:5ec0:5812:1a43:49c1:297d:4bd:7419]:53344\u001b[0m\n"
          ]
        },
        {
          "metadata": {
            "tags": null
          },
          "name": "stderr",
          "output_type": "stream",
          "text": [
            "INFO:pyngrok.process.ngrok:t=2024-06-22T13:54:36+0000 lvl=info msg=\"join connections\" obj=join id=aff615992337 l=127.0.0.1:8888 r=[2a01:5ec0:5812:1a43:49c1:297d:4bd:7419]:53344\n"
          ]
        },
        {
          "metadata": {
            "tags": null
          },
          "name": "stdout",
          "output_type": "stream",
          "text": [
            "\u001b[1;35mt=2024-06-22T13:54:36+0000 lvl=info msg=\"join connections\" obj=join id=aff615992337 l=127.0.0.1:8888 r=[2a01:5ec0:5812:1a43:49c1:297d:4bd:7419]:53344\u001b[0m\n"
          ]
        },
        {
          "metadata": {
            "tags": null
          },
          "name": "stderr",
          "output_type": "stream",
          "text": [
            "INFO:pyngrok.process.ngrok:t=2024-06-22T13:54:36+0000 lvl=info msg=\"join connections\" obj=join id=1c3f62407afd l=127.0.0.1:8888 r=[2a01:5ec0:5812:1a43:49c1:297d:4bd:7419]:53344\n"
          ]
        },
        {
          "metadata": {
            "tags": null
          },
          "name": "stdout",
          "output_type": "stream",
          "text": [
            "\u001b[1;35mt=2024-06-22T13:54:36+0000 lvl=info msg=\"join connections\" obj=join id=1c3f62407afd l=127.0.0.1:8888 r=[2a01:5ec0:5812:1a43:49c1:297d:4bd:7419]:53344\u001b[0m\n"
          ]
        },
        {
          "metadata": {
            "tags": null
          },
          "name": "stderr",
          "output_type": "stream",
          "text": [
            "INFO:pyngrok.process.ngrok:t=2024-06-22T13:54:36+0000 lvl=info msg=\"join connections\" obj=join id=e74b6225b923 l=127.0.0.1:8888 r=[2a01:5ec0:5812:1a43:49c1:297d:4bd:7419]:53344\n"
          ]
        },
        {
          "metadata": {
            "tags": null
          },
          "name": "stdout",
          "output_type": "stream",
          "text": [
            "\u001b[1;35mt=2024-06-22T13:54:36+0000 lvl=info msg=\"join connections\" obj=join id=e74b6225b923 l=127.0.0.1:8888 r=[2a01:5ec0:5812:1a43:49c1:297d:4bd:7419]:53344\u001b[0m\n",
            "\u001b[32mINFO\u001b[0m:     2a01:5ec0:5812:1a43:49c1:297d:4bd:7419:0 - \"\u001b[1mGET /assets/zod-DrZvVLjd.js HTTP/1.1\u001b[0m\" \u001b[32m200 OK\u001b[0m\n",
            "\u001b[32mINFO\u001b[0m:     2a01:5ec0:5812:1a43:49c1:297d:4bd:7419:0 - \"\u001b[1mGET /assets/CodeSnippet-BidtnWOi.js HTTP/1.1\u001b[0m\" \u001b[32m200 OK\u001b[0m\n",
            "\u001b[32mINFO\u001b[0m:     2a01:5ec0:5812:1a43:49c1:297d:4bd:7419:0 - \"\u001b[1mGET /assets/chevron-down-zcvCWmyP.js HTTP/1.1\u001b[0m\" \u001b[32m200 OK\u001b[0m\n",
            "\u001b[32mINFO\u001b[0m:     2a01:5ec0:5812:1a43:49c1:297d:4bd:7419:0 - \"\u001b[1mGET /assets/page-B-vWk8a6.js HTTP/1.1\u001b[0m\" \u001b[32m200 OK\u001b[0m\n",
            "\u001b[32mINFO\u001b[0m:     2a01:5ec0:5812:1a43:49c1:297d:4bd:7419:0 - \"\u001b[1mGET /assets/page-D2D-7qyr.js HTTP/1.1\u001b[0m\" \u001b[32m200 OK\u001b[0m\n",
            "\u001b[32mINFO\u001b[0m:     2a01:5ec0:5812:1a43:49c1:297d:4bd:7419:0 - \"\u001b[1mGET /assets/404-CDPQCl4D.js HTTP/1.1\u001b[0m\" \u001b[32m200 OK\u001b[0m\n",
            "\u001b[32mINFO\u001b[0m:     2a01:5ec0:5812:1a43:49c1:297d:4bd:7419:0 - \"\u001b[1mGET /assets/page-BzVZGExK.js HTTP/1.1\u001b[0m\" \u001b[32m200 OK\u001b[0m\n",
            "\u001b[32mINFO\u001b[0m:     2a01:5ec0:5812:1a43:49c1:297d:4bd:7419:0 - \"\u001b[1mGET /assets/check-circle-BVvhm5dy.js HTTP/1.1\u001b[0m\" \u001b[32m200 OK\u001b[0m\n",
            "\u001b[32mINFO\u001b[0m:     2a01:5ec0:5812:1a43:49c1:297d:4bd:7419:0 - \"\u001b[1mGET /assets/MarkdownVisualization-DsB2QZiK.js HTTP/1.1\u001b[0m\" \u001b[32m200 OK\u001b[0m\n",
            "\u001b[32mINFO\u001b[0m:     2a01:5ec0:5812:1a43:49c1:297d:4bd:7419:0 - \"\u001b[1mGET /assets/copy-BRhQz3j-.js HTTP/1.1\u001b[0m\" \u001b[32m200 OK\u001b[0m\n",
            "\u001b[32mINFO\u001b[0m:     2a01:5ec0:5812:1a43:49c1:297d:4bd:7419:0 - \"\u001b[1mGET /favicon.ico HTTP/1.1\u001b[0m\" \u001b[32m200 OK\u001b[0m\n",
            "\u001b[32mINFO\u001b[0m:     2a01:5ec0:5812:1a43:49c1:297d:4bd:7419:0 - \"\u001b[1mGET /api/v1/info HTTP/1.1\u001b[0m\" \u001b[32m200 OK\u001b[0m\n"
          ]
        },
        {
          "metadata": {
            "tags": null
          },
          "name": "stderr",
          "output_type": "stream",
          "text": [
            "INFO:pyngrok.process.ngrok:t=2024-06-22T13:54:36+0000 lvl=info msg=\"join connections\" obj=join id=6590d54e3a4e l=127.0.0.1:8888 r=[2a01:5ec0:5812:1a43:49c1:297d:4bd:7419]:53344\n"
          ]
        },
        {
          "metadata": {
            "tags": null
          },
          "name": "stdout",
          "output_type": "stream",
          "text": [
            "\u001b[32mINFO\u001b[0m:     2a01:5ec0:5812:1a43:49c1:297d:4bd:7419:0 - \"\u001b[1mGET /api/v1/info HTTP/1.1\u001b[0m\" \u001b[32m200 OK\u001b[0m\n",
            "\u001b[32mINFO\u001b[0m:     2a01:5ec0:5812:1a43:49c1:297d:4bd:7419:0 - \"\u001b[1mGET /assets/page-lebv0c7C.js HTTP/1.1\u001b[0m\" \u001b[32m200 OK\u001b[0m\n",
            "\u001b[32mINFO\u001b[0m:     2a01:5ec0:5812:1a43:49c1:297d:4bd:7419:0 - \"\u001b[1mGET /favicon.ico HTTP/1.1\u001b[0m\" \u001b[32m200 OK\u001b[0m\n",
            "\u001b[1;35mt=2024-06-22T13:54:36+0000 lvl=info msg=\"join connections\" obj=join id=6590d54e3a4e l=127.0.0.1:8888 r=[2a01:5ec0:5812:1a43:49c1:297d:4bd:7419]:53344\u001b[0m\n"
          ]
        },
        {
          "metadata": {
            "tags": null
          },
          "name": "stderr",
          "output_type": "stream",
          "text": [
            "INFO:pyngrok.process.ngrok:t=2024-06-22T13:54:37+0000 lvl=info msg=\"join connections\" obj=join id=18bcf5b3139b l=127.0.0.1:8888 r=[2a01:5ec0:5812:1a43:49c1:297d:4bd:7419]:53344\n"
          ]
        },
        {
          "metadata": {
            "tags": null
          },
          "name": "stdout",
          "output_type": "stream",
          "text": [
            "\u001b[32mINFO\u001b[0m:     2a01:5ec0:5812:1a43:49c1:297d:4bd:7419:0 - \"\u001b[1mGET /assets/login-mutation-wzzl23C6.js HTTP/1.1\u001b[0m\" \u001b[32m200 OK\u001b[0m\n",
            "\u001b[32mINFO\u001b[0m:     2a01:5ec0:5812:1a43:49c1:297d:4bd:7419:0 - \"\u001b[1mGET /assets/index.esm-F7nqy9zY.js HTTP/1.1\u001b[0m\" \u001b[32m200 OK\u001b[0m\n",
            "\u001b[1;35mt=2024-06-22T13:54:37+0000 lvl=info msg=\"join connections\" obj=join id=18bcf5b3139b l=127.0.0.1:8888 r=[2a01:5ec0:5812:1a43:49c1:297d:4bd:7419]:53344\u001b[0m\n",
            "\u001b[32mINFO\u001b[0m:     2a01:5ec0:5812:1a43:49c1:297d:4bd:7419:0 - \"\u001b[1mGET /assets/zod-DrZvVLjd.js HTTP/1.1\u001b[0m\" \u001b[32m200 OK\u001b[0m\n",
            "\u001b[32mINFO\u001b[0m:     2a01:5ec0:5812:1a43:49c1:297d:4bd:7419:0 - \"\u001b[1mGET /assets/inter-latin-500-normal-kWhwEdDH.woff2 HTTP/1.1\u001b[0m\" \u001b[32m200 OK\u001b[0m\n",
            "\u001b[32mINFO\u001b[0m:     2a01:5ec0:5812:1a43:49c1:297d:4bd:7419:0 - \"\u001b[1mGET /assets/inter-latin-600-normal-B2Ssfs8e.woff2 HTTP/1.1\u001b[0m\" \u001b[32m200 OK\u001b[0m\n"
          ]
        },
        {
          "metadata": {
            "tags": null
          },
          "name": "stderr",
          "output_type": "stream",
          "text": [
            "INFO:pyngrok.process.ngrok:t=2024-06-22T13:54:53+0000 lvl=info msg=\"join connections\" obj=join id=a45cdb191032 l=127.0.0.1:8888 r=[2a01:5ec0:5812:1a43:49c1:297d:4bd:7419]:53344\n"
          ]
        },
        {
          "metadata": {
            "tags": null
          },
          "name": "stdout",
          "output_type": "stream",
          "text": [
            "\u001b[1;35mt=2024-06-22T13:54:53+0000 lvl=info msg=\"join connections\" obj=join id=a45cdb191032 l=127.0.0.1:8888 r=[2a01:5ec0:5812:1a43:49c1:297d:4bd:7419]:53344\u001b[0m\n",
            "\u001b[32mINFO\u001b[0m:     2a01:5ec0:5812:1a43:49c1:297d:4bd:7419:0 - \"\u001b[1mGET /api/v1/info HTTP/1.1\u001b[0m\" \u001b[32m200 OK\u001b[0m\n"
          ]
        },
        {
          "metadata": {
            "tags": null
          },
          "name": "stderr",
          "output_type": "stream",
          "text": [
            "INFO:pyngrok.process.ngrok:t=2024-06-22T13:58:15+0000 lvl=info msg=\"join connections\" obj=join id=a940ceb38b95 l=127.0.0.1:8888 r=51.38.142.64:53774\n"
          ]
        },
        {
          "metadata": {
            "tags": null
          },
          "name": "stdout",
          "output_type": "stream",
          "text": [
            "\u001b[1;35mt=2024-06-22T13:58:15+0000 lvl=info msg=\"join connections\" obj=join id=a940ceb38b95 l=127.0.0.1:8888 r=51.38.142.64:53774\u001b[0m\n",
            "\u001b[32mINFO\u001b[0m:     51.38.142.64:0 - \"\u001b[1mGET /api/v1/info HTTP/1.1\u001b[0m\" \u001b[32m200 OK\u001b[0m\n"
          ]
        },
        {
          "metadata": {
            "tags": null
          },
          "name": "stderr",
          "output_type": "stream",
          "text": [
            "INFO:pyngrok.process.ngrok:t=2024-06-22T13:58:21+0000 lvl=info msg=\"join connections\" obj=join id=20f7a080504b l=127.0.0.1:8888 r=51.38.142.64:53774\n"
          ]
        },
        {
          "metadata": {
            "tags": null
          },
          "name": "stdout",
          "output_type": "stream",
          "text": [
            "\u001b[1;35mt=2024-06-22T13:58:21+0000 lvl=info msg=\"join connections\" obj=join id=20f7a080504b l=127.0.0.1:8888 r=51.38.142.64:53774\u001b[0m\n",
            "\u001b[32mINFO\u001b[0m:     51.38.142.64:0 - \"\u001b[1mGET /api/v1/info HTTP/1.1\u001b[0m\" \u001b[32m200 OK\u001b[0m\n",
            "\u001b[31mAuthentication error: error retrieving account ImanFaraji\u001b[0m\n",
            "Traceback (most recent call last):\n",
            "  File \"/usr/local/lib/python3.10/dist-packages/zenml/zen_server/auth.py\", line 202, in authenticate_credentials\n",
            "    user = zen_store().get_auth_user(user_name_or_id)\n",
            "  File \"/usr/local/lib/python3.10/dist-packages/zenml/zen_stores/sql_zen_store.py\", line 7983, in get_auth_user\n",
            "    user = self._get_account_schema(\n",
            "  File \"/usr/local/lib/python3.10/dist-packages/zenml/zen_stores/sql_zen_store.py\", line 8608, in _get_account_schema\n",
            "    raise KeyError(error_msg)\n",
            "KeyError: \"No user account with the 'ImanFaraji' name or ID was found\"\n",
            "\u001b[31mAuthentication error: invalid username or password\u001b[0m\n",
            "\u001b[31mAPI error\u001b[0m\n",
            "Traceback (most recent call last):\n",
            "  File \"/usr/local/lib/python3.10/dist-packages/zenml/zen_server/utils.py\", line 447, in decorated\n",
            "    return func(*args, **kwargs)\n",
            "  File \"/usr/local/lib/python3.10/dist-packages/zenml/zen_server/routers/auth_endpoints.py\", line 284, in token\n",
            "    auth_context = authenticate_credentials(\n",
            "  File \"/usr/local/lib/python3.10/dist-packages/zenml/zen_server/auth.py\", line 221, in authenticate_credentials\n",
            "    raise AuthorizationException(error)\n",
            "zenml.exceptions.AuthorizationException: Authentication error: invalid username or password\n",
            "\u001b[32mINFO\u001b[0m:     51.38.142.64:0 - \"\u001b[1mPOST /api/v1/login HTTP/1.1\u001b[0m\" \u001b[31m401 Unauthorized\u001b[0m\n",
            "\u001b[32mINFO\u001b[0m:     51.38.142.64:0 - \"\u001b[1mGET /assets/inter-latin-400-normal-BT1H-PT_.woff2 HTTP/1.1\u001b[0m\" \u001b[32m200 OK\u001b[0m\n"
          ]
        },
        {
          "metadata": {
            "tags": null
          },
          "name": "stderr",
          "output_type": "stream",
          "text": [
            "INFO:pyngrok.process.ngrok:t=2024-06-22T13:58:51+0000 lvl=info msg=\"join connections\" obj=join id=f33cc146a908 l=127.0.0.1:8888 r=51.38.142.64:53774\n"
          ]
        },
        {
          "metadata": {
            "tags": null
          },
          "name": "stdout",
          "output_type": "stream",
          "text": [
            "\u001b[1;35mt=2024-06-22T13:58:51+0000 lvl=info msg=\"join connections\" obj=join id=f33cc146a908 l=127.0.0.1:8888 r=51.38.142.64:53774\u001b[0m\n",
            "\u001b[32mINFO\u001b[0m:     51.38.142.64:0 - \"\u001b[1mGET /api/v1/info HTTP/1.1\u001b[0m\" \u001b[32m200 OK\u001b[0m\n",
            "\u001b[31mAuthentication error: error retrieving account ImanFaraji\u001b[0m\n",
            "Traceback (most recent call last):\n",
            "  File \"/usr/local/lib/python3.10/dist-packages/zenml/zen_server/auth.py\", line 202, in authenticate_credentials\n",
            "    user = zen_store().get_auth_user(user_name_or_id)\n",
            "  File \"/usr/local/lib/python3.10/dist-packages/zenml/zen_stores/sql_zen_store.py\", line 7983, in get_auth_user\n",
            "    user = self._get_account_schema(\n",
            "  File \"/usr/local/lib/python3.10/dist-packages/zenml/zen_stores/sql_zen_store.py\", line 8608, in _get_account_schema\n",
            "    raise KeyError(error_msg)\n",
            "KeyError: \"No user account with the 'ImanFaraji' name or ID was found\"\n",
            "\u001b[31mAuthentication error: invalid username or password\u001b[0m\n",
            "\u001b[31mAPI error\u001b[0m\n",
            "Traceback (most recent call last):\n",
            "  File \"/usr/local/lib/python3.10/dist-packages/zenml/zen_server/utils.py\", line 447, in decorated\n",
            "    return func(*args, **kwargs)\n",
            "  File \"/usr/local/lib/python3.10/dist-packages/zenml/zen_server/routers/auth_endpoints.py\", line 284, in token\n",
            "    auth_context = authenticate_credentials(\n",
            "  File \"/usr/local/lib/python3.10/dist-packages/zenml/zen_server/auth.py\", line 221, in authenticate_credentials\n",
            "    raise AuthorizationException(error)\n",
            "zenml.exceptions.AuthorizationException: Authentication error: invalid username or password\n",
            "\u001b[32mINFO\u001b[0m:     51.38.142.64:0 - \"\u001b[1mPOST /api/v1/login HTTP/1.1\u001b[0m\" \u001b[31m401 Unauthorized\u001b[0m\n"
          ]
        },
        {
          "metadata": {
            "tags": null
          },
          "name": "stderr",
          "output_type": "stream",
          "text": [
            "INFO:pyngrok.process.ngrok:t=2024-06-22T13:58:59+0000 lvl=info msg=\"join connections\" obj=join id=859aec9ea227 l=127.0.0.1:8888 r=51.38.142.64:53774\n"
          ]
        },
        {
          "metadata": {
            "tags": null
          },
          "name": "stdout",
          "output_type": "stream",
          "text": [
            "\u001b[1;35mt=2024-06-22T13:58:59+0000 lvl=info msg=\"join connections\" obj=join id=859aec9ea227 l=127.0.0.1:8888 r=51.38.142.64:53774\u001b[0m\n",
            "\u001b[31mAuthentication error: error retrieving account imanfa1998@gmail.com\u001b[0m\n",
            "Traceback (most recent call last):\n",
            "  File \"/usr/local/lib/python3.10/dist-packages/zenml/zen_server/auth.py\", line 202, in authenticate_credentials\n",
            "    user = zen_store().get_auth_user(user_name_or_id)\n",
            "  File \"/usr/local/lib/python3.10/dist-packages/zenml/zen_stores/sql_zen_store.py\", line 7983, in get_auth_user\n",
            "    user = self._get_account_schema(\n",
            "  File \"/usr/local/lib/python3.10/dist-packages/zenml/zen_stores/sql_zen_store.py\", line 8608, in _get_account_schema\n",
            "    raise KeyError(error_msg)\n",
            "KeyError: \"No user account with the 'imanfa1998@gmail.com' name or ID was found\"\n",
            "\u001b[31mAuthentication error: invalid username or password\u001b[0m\n",
            "\u001b[31mAPI error\u001b[0m\n",
            "Traceback (most recent call last):\n",
            "  File \"/usr/local/lib/python3.10/dist-packages/zenml/zen_server/utils.py\", line 447, in decorated\n",
            "    return func(*args, **kwargs)\n",
            "  File \"/usr/local/lib/python3.10/dist-packages/zenml/zen_server/routers/auth_endpoints.py\", line 284, in token\n",
            "    auth_context = authenticate_credentials(\n",
            "  File \"/usr/local/lib/python3.10/dist-packages/zenml/zen_server/auth.py\", line 221, in authenticate_credentials\n",
            "    raise AuthorizationException(error)\n",
            "zenml.exceptions.AuthorizationException: Authentication error: invalid username or password\n",
            "\u001b[32mINFO\u001b[0m:     51.38.142.64:0 - \"\u001b[1mPOST /api/v1/login HTTP/1.1\u001b[0m\" \u001b[31m401 Unauthorized\u001b[0m\n"
          ]
        },
        {
          "output_type": "stream",
          "name": "stderr",
          "text": [
            "INFO:pyngrok.process.ngrok:t=2024-06-22T14:01:11+0000 lvl=info msg=\"join connections\" obj=join id=fe7db14ca549 l=127.0.0.1:8888 r=[2a01:5ec0:5812:1a43:49c1:297d:4bd:7419]:53973\n"
          ]
        },
        {
          "output_type": "stream",
          "name": "stdout",
          "text": [
            "\u001b[1;35mt=2024-06-22T14:01:11+0000 lvl=info msg=\"join connections\" obj=join id=fe7db14ca549 l=127.0.0.1:8888 r=[2a01:5ec0:5812:1a43:49c1:297d:4bd:7419]:53973\u001b[0m\n",
            "\u001b[32mINFO\u001b[0m:     2a01:5ec0:5812:1a43:49c1:297d:4bd:7419:0 - \"\u001b[1mGET /api/v1/info HTTP/1.1\u001b[0m\" \u001b[32m200 OK\u001b[0m\n",
            "\u001b[32mINFO\u001b[0m:     2a01:5ec0:5812:1a43:49c1:297d:4bd:7419:0 - \"\u001b[1mPOST /api/v1/login HTTP/1.1\u001b[0m\" \u001b[32m200 OK\u001b[0m\n"
          ]
        },
        {
          "output_type": "stream",
          "name": "stderr",
          "text": [
            "INFO:pyngrok.process.ngrok:t=2024-06-22T14:01:16+0000 lvl=info msg=\"join connections\" obj=join id=db8846a89382 l=127.0.0.1:8888 r=[2a01:5ec0:5812:1a43:49c1:297d:4bd:7419]:53973\n"
          ]
        },
        {
          "output_type": "stream",
          "name": "stdout",
          "text": [
            "\u001b[1;35mGot token from cookie\u001b[0m\n",
            "\u001b[32mINFO\u001b[0m:     2a01:5ec0:5812:1a43:49c1:297d:4bd:7419:0 - \"\u001b[1mGET /api/v1/current-user HTTP/1.1\u001b[0m\" \u001b[32m200 OK\u001b[0m\n",
            "\u001b[1;35mt=2024-06-22T14:01:16+0000 lvl=info msg=\"join connections\" obj=join id=db8846a89382 l=127.0.0.1:8888 r=[2a01:5ec0:5812:1a43:49c1:297d:4bd:7419]:53973\u001b[0m\n",
            "\u001b[1;35mGot token from cookie\u001b[0m\n",
            "\u001b[32mINFO\u001b[0m:     2a01:5ec0:5812:1a43:49c1:297d:4bd:7419:0 - \"\u001b[1mGET /api/v1/settings HTTP/1.1\u001b[0m\" \u001b[32m200 OK\u001b[0m\n",
            "\u001b[1;35mGot token from cookie\u001b[0m\n",
            "\u001b[32mINFO\u001b[0m:     2a01:5ec0:5812:1a43:49c1:297d:4bd:7419:0 - \"\u001b[1mGET /api/v1/current-user HTTP/1.1\u001b[0m\" \u001b[32m200 OK\u001b[0m\n",
            "\u001b[32mINFO\u001b[0m:     2a01:5ec0:5812:1a43:49c1:297d:4bd:7419:0 - \"\u001b[1mGET /assets/page-CuT1SUik.js HTTP/1.1\u001b[0m\" \u001b[32m200 OK\u001b[0m\n"
          ]
        },
        {
          "output_type": "stream",
          "name": "stderr",
          "text": [
            "INFO:pyngrok.process.ngrok:t=2024-06-22T14:01:17+0000 lvl=info msg=\"join connections\" obj=join id=a54fc06d5d16 l=127.0.0.1:8888 r=[2a01:5ec0:5812:1a43:49c1:297d:4bd:7419]:53973\n"
          ]
        },
        {
          "output_type": "stream",
          "name": "stdout",
          "text": [
            "\u001b[32mINFO\u001b[0m:     2a01:5ec0:5812:1a43:49c1:297d:4bd:7419:0 - \"\u001b[1mGET /assets/check-circle-BVvhm5dy.js HTTP/1.1\u001b[0m\" \u001b[32m200 OK\u001b[0m\n",
            "\u001b[32mINFO\u001b[0m:     2a01:5ec0:5812:1a43:49c1:297d:4bd:7419:0 - \"\u001b[1mGET /assets/SuccessStep-ZzczaM7g.js HTTP/1.1\u001b[0m\" \u001b[32m200 OK\u001b[0m\n",
            "\u001b[1;35mt=2024-06-22T14:01:17+0000 lvl=info msg=\"join connections\" obj=join id=a54fc06d5d16 l=127.0.0.1:8888 r=[2a01:5ec0:5812:1a43:49c1:297d:4bd:7419]:53973\u001b[0m\n"
          ]
        },
        {
          "output_type": "stream",
          "name": "stderr",
          "text": [
            "INFO:pyngrok.process.ngrok:t=2024-06-22T14:01:17+0000 lvl=info msg=\"join connections\" obj=join id=e43fe9914ad1 l=127.0.0.1:8888 r=[2a01:5ec0:5812:1a43:49c1:297d:4bd:7419]:53973\n"
          ]
        },
        {
          "output_type": "stream",
          "name": "stdout",
          "text": [
            "\u001b[1;35mt=2024-06-22T14:01:17+0000 lvl=info msg=\"join connections\" obj=join id=e43fe9914ad1 l=127.0.0.1:8888 r=[2a01:5ec0:5812:1a43:49c1:297d:4bd:7419]:53973\u001b[0m\n"
          ]
        },
        {
          "output_type": "stream",
          "name": "stderr",
          "text": [
            "INFO:pyngrok.process.ngrok:t=2024-06-22T14:01:17+0000 lvl=info msg=\"join connections\" obj=join id=fd91cb6e7e13 l=127.0.0.1:8888 r=[2a01:5ec0:5812:1a43:49c1:297d:4bd:7419]:53973\n"
          ]
        },
        {
          "output_type": "stream",
          "name": "stdout",
          "text": [
            "\u001b[1;35mt=2024-06-22T14:01:17+0000 lvl=info msg=\"join connections\" obj=join id=fd91cb6e7e13 l=127.0.0.1:8888 r=[2a01:5ec0:5812:1a43:49c1:297d:4bd:7419]:53973\u001b[0m\n"
          ]
        },
        {
          "output_type": "stream",
          "name": "stderr",
          "text": [
            "INFO:pyngrok.process.ngrok:t=2024-06-22T14:01:17+0000 lvl=info msg=\"join connections\" obj=join id=39a1c831e174 l=127.0.0.1:8888 r=[2a01:5ec0:5812:1a43:49c1:297d:4bd:7419]:53973\n"
          ]
        },
        {
          "output_type": "stream",
          "name": "stdout",
          "text": [
            "\u001b[1;35mt=2024-06-22T14:01:17+0000 lvl=info msg=\"join connections\" obj=join id=39a1c831e174 l=127.0.0.1:8888 r=[2a01:5ec0:5812:1a43:49c1:297d:4bd:7419]:53973\u001b[0m\n"
          ]
        },
        {
          "output_type": "stream",
          "name": "stderr",
          "text": [
            "INFO:pyngrok.process.ngrok:t=2024-06-22T14:01:17+0000 lvl=info msg=\"join connections\" obj=join id=4de439474d03 l=127.0.0.1:8888 r=[2a01:5ec0:5812:1a43:49c1:297d:4bd:7419]:53973\n"
          ]
        },
        {
          "output_type": "stream",
          "name": "stdout",
          "text": [
            "\u001b[1;35mt=2024-06-22T14:01:17+0000 lvl=info msg=\"join connections\" obj=join id=4de439474d03 l=127.0.0.1:8888 r=[2a01:5ec0:5812:1a43:49c1:297d:4bd:7419]:53973\u001b[0m\n",
            "\u001b[32mINFO\u001b[0m:     2a01:5ec0:5812:1a43:49c1:297d:4bd:7419:0 - \"\u001b[1mGET /assets/UpdatePasswordSchemas-DnM-c11H.js HTTP/1.1\u001b[0m\" \u001b[32m200 OK\u001b[0m\n",
            "\u001b[32mINFO\u001b[0m:     2a01:5ec0:5812:1a43:49c1:297d:4bd:7419:0 - \"\u001b[1mGET /assets/file-text-CbVERUON.js HTTP/1.1\u001b[0m\" \u001b[32m200 OK\u001b[0m\n",
            "\u001b[32mINFO\u001b[0m:     2a01:5ec0:5812:1a43:49c1:297d:4bd:7419:0 - \"\u001b[1mGET /assets/url-6_xv0WJS.js HTTP/1.1\u001b[0m\" \u001b[32m200 OK\u001b[0m\n",
            "\u001b[32mINFO\u001b[0m:     2a01:5ec0:5812:1a43:49c1:297d:4bd:7419:0 - \"\u001b[1mGET /assets/play-circle-DK5QMJyp.js HTTP/1.1\u001b[0m\" \u001b[32m200 OK\u001b[0m\n",
            "\u001b[32mINFO\u001b[0m:     2a01:5ec0:5812:1a43:49c1:297d:4bd:7419:0 - \"\u001b[1mGET /assets/AwarenessChannel-nXGpmj_f.js HTTP/1.1\u001b[0m\" \u001b[32m200 OK\u001b[0m\n",
            "\u001b[1;35mGot token from cookie\u001b[0m\n",
            "\u001b[32mINFO\u001b[0m:     2a01:5ec0:5812:1a43:49c1:297d:4bd:7419:0 - \"\u001b[1mGET /api/v1/current-user HTTP/1.1\u001b[0m\" \u001b[32m200 OK\u001b[0m\n"
          ]
        },
        {
          "output_type": "stream",
          "name": "stderr",
          "text": [
            "INFO:pyngrok.process.ngrok:t=2024-06-22T14:01:33+0000 lvl=info msg=\"join connections\" obj=join id=11dbcb68f037 l=127.0.0.1:8888 r=[2a01:5ec0:5812:1a43:49c1:297d:4bd:7419]:53973\n"
          ]
        },
        {
          "output_type": "stream",
          "name": "stdout",
          "text": [
            "\u001b[1;35mt=2024-06-22T14:01:33+0000 lvl=info msg=\"join connections\" obj=join id=11dbcb68f037 l=127.0.0.1:8888 r=[2a01:5ec0:5812:1a43:49c1:297d:4bd:7419]:53973\u001b[0m\n",
            "\u001b[1;35mGot token from cookie\u001b[0m\n",
            "\u001b[32mINFO\u001b[0m:     2a01:5ec0:5812:1a43:49c1:297d:4bd:7419:0 - \"\u001b[1mPUT /api/v1/current-user HTTP/1.1\u001b[0m\" \u001b[32m200 OK\u001b[0m\n",
            "\u001b[1;35mGot token from cookie\u001b[0m\n",
            "\u001b[32mINFO\u001b[0m:     2a01:5ec0:5812:1a43:49c1:297d:4bd:7419:0 - \"\u001b[1mGET /api/v1/current-user HTTP/1.1\u001b[0m\" \u001b[32m200 OK\u001b[0m\n"
          ]
        },
        {
          "output_type": "stream",
          "name": "stderr",
          "text": [
            "INFO:pyngrok.process.ngrok:t=2024-06-22T14:01:36+0000 lvl=info msg=\"join connections\" obj=join id=7c17d5b3ee94 l=127.0.0.1:8888 r=[2a01:5ec0:5812:1a43:49c1:297d:4bd:7419]:53973\n"
          ]
        },
        {
          "output_type": "stream",
          "name": "stdout",
          "text": [
            "\u001b[32mINFO\u001b[0m:     2a01:5ec0:5812:1a43:49c1:297d:4bd:7419:0 - \"\u001b[1mGET /assets/adam-e-y0WnB_.webp HTTP/1.1\u001b[0m\" \u001b[32m200 OK\u001b[0m\n",
            "\u001b[1;35mt=2024-06-22T14:01:36+0000 lvl=info msg=\"join connections\" obj=join id=7c17d5b3ee94 l=127.0.0.1:8888 r=[2a01:5ec0:5812:1a43:49c1:297d:4bd:7419]:53973\u001b[0m\n"
          ]
        },
        {
          "output_type": "stream",
          "name": "stderr",
          "text": [
            "INFO:pyngrok.process.ngrok:t=2024-06-22T14:01:36+0000 lvl=info msg=\"join connections\" obj=join id=e3dea87ebaaa l=127.0.0.1:8888 r=[2a01:5ec0:5812:1a43:49c1:297d:4bd:7419]:53973\n"
          ]
        },
        {
          "output_type": "stream",
          "name": "stdout",
          "text": [
            "\u001b[1;35mt=2024-06-22T14:01:36+0000 lvl=info msg=\"join connections\" obj=join id=e3dea87ebaaa l=127.0.0.1:8888 r=[2a01:5ec0:5812:1a43:49c1:297d:4bd:7419]:53973\u001b[0m\n"
          ]
        },
        {
          "output_type": "stream",
          "name": "stderr",
          "text": [
            "INFO:pyngrok.process.ngrok:t=2024-06-22T14:01:36+0000 lvl=info msg=\"join connections\" obj=join id=676e1bce7e0a l=127.0.0.1:8888 r=[2a01:5ec0:5812:1a43:49c1:297d:4bd:7419]:53973\n"
          ]
        },
        {
          "output_type": "stream",
          "name": "stdout",
          "text": [
            "\u001b[1;35mt=2024-06-22T14:01:36+0000 lvl=info msg=\"join connections\" obj=join id=676e1bce7e0a l=127.0.0.1:8888 r=[2a01:5ec0:5812:1a43:49c1:297d:4bd:7419]:53973\u001b[0m\n"
          ]
        },
        {
          "output_type": "stream",
          "name": "stderr",
          "text": [
            "INFO:pyngrok.process.ngrok:t=2024-06-22T14:01:36+0000 lvl=info msg=\"join connections\" obj=join id=188f741ea8bb l=127.0.0.1:8888 r=[2a01:5ec0:5812:1a43:49c1:297d:4bd:7419]:53973\n"
          ]
        },
        {
          "output_type": "stream",
          "name": "stdout",
          "text": [
            "\u001b[1;35mt=2024-06-22T14:01:36+0000 lvl=info msg=\"join connections\" obj=join id=188f741ea8bb l=127.0.0.1:8888 r=[2a01:5ec0:5812:1a43:49c1:297d:4bd:7419]:53973\u001b[0m\n",
            "\u001b[32mINFO\u001b[0m:     2a01:5ec0:5812:1a43:49c1:297d:4bd:7419:0 - \"\u001b[1mGET /assets/baris-C0ZrZ10g.webp HTTP/1.1\u001b[0m\" \u001b[32m200 OK\u001b[0m\n",
            "\u001b[32mINFO\u001b[0m:     2a01:5ec0:5812:1a43:49c1:297d:4bd:7419:0 - \"\u001b[1mGET /assets/hamza-NKKOZz1I.webp HTTP/1.1\u001b[0m\" \u001b[32m200 OK\u001b[0m\n",
            "\u001b[32mINFO\u001b[0m:     2a01:5ec0:5812:1a43:49c1:297d:4bd:7419:0 - \"\u001b[1mGET /assets/stefan-B08Ftbba.webp HTTP/1.1\u001b[0m\" \u001b[32m200 OK\u001b[0m\n",
            "\u001b[32mINFO\u001b[0m:     2a01:5ec0:5812:1a43:49c1:297d:4bd:7419:0 - \"\u001b[1mGET /assets/alex-DcCuDHPg.webp HTTP/1.1\u001b[0m\" \u001b[32m200 OK\u001b[0m\n",
            "\u001b[32mINFO\u001b[0m:     2a01:5ec0:5812:1a43:49c1:297d:4bd:7419:0 - \"\u001b[1mGET /assets/adam-e-y0WnB_.webp HTTP/1.1\u001b[0m\" \u001b[32m200 OK\u001b[0m\n",
            "\u001b[32mINFO\u001b[0m:     2a01:5ec0:5812:1a43:49c1:297d:4bd:7419:0 - \"\u001b[1mGET /assets/baris-C0ZrZ10g.webp HTTP/1.1\u001b[0m\" \u001b[32m200 OK\u001b[0m\n",
            "\u001b[32mINFO\u001b[0m:     2a01:5ec0:5812:1a43:49c1:297d:4bd:7419:0 - \"\u001b[1mGET /assets/stefan-B08Ftbba.webp HTTP/1.1\u001b[0m\" \u001b[32m200 OK\u001b[0m\n",
            "\u001b[32mINFO\u001b[0m:     2a01:5ec0:5812:1a43:49c1:297d:4bd:7419:0 - \"\u001b[1mGET /assets/hamza-NKKOZz1I.webp HTTP/1.1\u001b[0m\" \u001b[32m200 OK\u001b[0m\n",
            "\u001b[32mINFO\u001b[0m:     2a01:5ec0:5812:1a43:49c1:297d:4bd:7419:0 - \"\u001b[1mGET /assets/alex-DcCuDHPg.webp HTTP/1.1\u001b[0m\" \u001b[32m200 OK\u001b[0m\n",
            "\u001b[32mINFO\u001b[0m:     2a01:5ec0:5812:1a43:49c1:297d:4bd:7419:0 - \"\u001b[1mGET /assets/CodeSnippet-Bbx6fIb6.css HTTP/1.1\u001b[0m\" \u001b[32m200 OK\u001b[0m\n",
            "\u001b[32mINFO\u001b[0m:     2a01:5ec0:5812:1a43:49c1:297d:4bd:7419:0 - \"\u001b[1mGET /assets/tour-cover-BYfeen6M.webp HTTP/1.1\u001b[0m\" \u001b[32m200 OK\u001b[0m\n",
            "\u001b[32mINFO\u001b[0m:     2a01:5ec0:5812:1a43:49c1:297d:4bd:7419:0 - \"\u001b[1mGET /assets/page-DZCbwOEs.js HTTP/1.1\u001b[0m\" \u001b[32m200 OK\u001b[0m\n"
          ]
        },
        {
          "output_type": "stream",
          "name": "stderr",
          "text": [
            "INFO:pyngrok.process.ngrok:t=2024-06-22T14:01:43+0000 lvl=info msg=\"join connections\" obj=join id=8488e5536cf4 l=127.0.0.1:8888 r=[2a01:5ec0:5812:1a43:49c1:297d:4bd:7419]:53973\n"
          ]
        },
        {
          "output_type": "stream",
          "name": "stdout",
          "text": [
            "\u001b[32mINFO\u001b[0m:     2a01:5ec0:5812:1a43:49c1:297d:4bd:7419:0 - \"\u001b[1mGET /assets/update-server-settings-mutation-0Wgz8pUE.js HTTP/1.1\u001b[0m\" \u001b[32m200 OK\u001b[0m\n",
            "\u001b[32mINFO\u001b[0m:     2a01:5ec0:5812:1a43:49c1:297d:4bd:7419:0 - \"\u001b[1mGET /assets/CodeSnippet-BidtnWOi.js HTTP/1.1\u001b[0m\" \u001b[32m200 OK\u001b[0m\n",
            "\u001b[1;35mt=2024-06-22T14:01:43+0000 lvl=info msg=\"join connections\" obj=join id=8488e5536cf4 l=127.0.0.1:8888 r=[2a01:5ec0:5812:1a43:49c1:297d:4bd:7419]:53973\u001b[0m\n",
            "\u001b[32mINFO\u001b[0m:     2a01:5ec0:5812:1a43:49c1:297d:4bd:7419:0 - \"\u001b[1mGET /assets/aws-t0gKCj_R.js HTTP/1.1\u001b[0m\" \u001b[32m200 OK\u001b[0m\n"
          ]
        },
        {
          "output_type": "stream",
          "name": "stderr",
          "text": [
            "INFO:pyngrok.process.ngrok:t=2024-06-22T14:01:43+0000 lvl=info msg=\"join connections\" obj=join id=f26fbfd49c11 l=127.0.0.1:8888 r=[2a01:5ec0:5812:1a43:49c1:297d:4bd:7419]:53973\n"
          ]
        },
        {
          "output_type": "stream",
          "name": "stdout",
          "text": [
            "\u001b[1;35mt=2024-06-22T14:01:43+0000 lvl=info msg=\"join connections\" obj=join id=f26fbfd49c11 l=127.0.0.1:8888 r=[2a01:5ec0:5812:1a43:49c1:297d:4bd:7419]:53973\u001b[0m\n"
          ]
        },
        {
          "output_type": "stream",
          "name": "stderr",
          "text": [
            "INFO:pyngrok.process.ngrok:t=2024-06-22T14:01:43+0000 lvl=info msg=\"join connections\" obj=join id=ce84ec56aae9 l=127.0.0.1:8888 r=[2a01:5ec0:5812:1a43:49c1:297d:4bd:7419]:53973\n"
          ]
        },
        {
          "output_type": "stream",
          "name": "stdout",
          "text": [
            "\u001b[1;35mt=2024-06-22T14:01:43+0000 lvl=info msg=\"join connections\" obj=join id=ce84ec56aae9 l=127.0.0.1:8888 r=[2a01:5ec0:5812:1a43:49c1:297d:4bd:7419]:53973\u001b[0m\n"
          ]
        },
        {
          "output_type": "stream",
          "name": "stderr",
          "text": [
            "INFO:pyngrok.process.ngrok:t=2024-06-22T14:01:43+0000 lvl=info msg=\"join connections\" obj=join id=a2611c57960f l=127.0.0.1:8888 r=[2a01:5ec0:5812:1a43:49c1:297d:4bd:7419]:53973\n"
          ]
        },
        {
          "output_type": "stream",
          "name": "stdout",
          "text": [
            "\u001b[1;35mt=2024-06-22T14:01:43+0000 lvl=info msg=\"join connections\" obj=join id=a2611c57960f l=127.0.0.1:8888 r=[2a01:5ec0:5812:1a43:49c1:297d:4bd:7419]:53973\u001b[0m\n"
          ]
        },
        {
          "output_type": "stream",
          "name": "stderr",
          "text": [
            "INFO:pyngrok.process.ngrok:t=2024-06-22T14:01:43+0000 lvl=info msg=\"join connections\" obj=join id=b7124ba7dd38 l=127.0.0.1:8888 r=[2a01:5ec0:5812:1a43:49c1:297d:4bd:7419]:53973\n"
          ]
        },
        {
          "output_type": "stream",
          "name": "stdout",
          "text": [
            "\u001b[1;35mt=2024-06-22T14:01:43+0000 lvl=info msg=\"join connections\" obj=join id=b7124ba7dd38 l=127.0.0.1:8888 r=[2a01:5ec0:5812:1a43:49c1:297d:4bd:7419]:53973\u001b[0m\n"
          ]
        },
        {
          "output_type": "stream",
          "name": "stderr",
          "text": [
            "INFO:pyngrok.process.ngrok:t=2024-06-22T14:01:43+0000 lvl=info msg=\"join connections\" obj=join id=409400097d1c l=127.0.0.1:8888 r=[2a01:5ec0:5812:1a43:49c1:297d:4bd:7419]:53973\n"
          ]
        },
        {
          "output_type": "stream",
          "name": "stdout",
          "text": [
            "\u001b[1;35mt=2024-06-22T14:01:43+0000 lvl=info msg=\"join connections\" obj=join id=409400097d1c l=127.0.0.1:8888 r=[2a01:5ec0:5812:1a43:49c1:297d:4bd:7419]:53973\u001b[0m\n"
          ]
        },
        {
          "output_type": "stream",
          "name": "stderr",
          "text": [
            "INFO:pyngrok.process.ngrok:t=2024-06-22T14:01:43+0000 lvl=info msg=\"join connections\" obj=join id=b7a9b36bdffa l=127.0.0.1:8888 r=[2a01:5ec0:5812:1a43:49c1:297d:4bd:7419]:53973\n"
          ]
        },
        {
          "output_type": "stream",
          "name": "stdout",
          "text": [
            "\u001b[1;35mt=2024-06-22T14:01:43+0000 lvl=info msg=\"join connections\" obj=join id=b7a9b36bdffa l=127.0.0.1:8888 r=[2a01:5ec0:5812:1a43:49c1:297d:4bd:7419]:53973\u001b[0m\n",
            "\u001b[32mINFO\u001b[0m:     2a01:5ec0:5812:1a43:49c1:297d:4bd:7419:0 - \"\u001b[1mGET /assets/chevron-down-zcvCWmyP.js HTTP/1.1\u001b[0m\" \u001b[32m200 OK\u001b[0m\n",
            "\u001b[32mINFO\u001b[0m:     2a01:5ec0:5812:1a43:49c1:297d:4bd:7419:0 - \"\u001b[1mGET /assets/Helpbox-BQoqCm04.js HTTP/1.1\u001b[0m\" \u001b[32m200 OK\u001b[0m\n",
            "\u001b[32mINFO\u001b[0m:     2a01:5ec0:5812:1a43:49c1:297d:4bd:7419:0 - \"\u001b[1mGET /assets/copy-BRhQz3j-.js HTTP/1.1\u001b[0m\" \u001b[32m200 OK\u001b[0m\n",
            "\u001b[32mINFO\u001b[0m:     2a01:5ec0:5812:1a43:49c1:297d:4bd:7419:0 - \"\u001b[1mGET /assets/terminal-B2ovgWuz.js HTTP/1.1\u001b[0m\" \u001b[32m200 OK\u001b[0m\n",
            "\u001b[32mINFO\u001b[0m:     2a01:5ec0:5812:1a43:49c1:297d:4bd:7419:0 - \"\u001b[1mGET /assets/help-B8rqCvqn.js HTTP/1.1\u001b[0m\" \u001b[32m200 OK\u001b[0m\n",
            "\u001b[32mINFO\u001b[0m:     2a01:5ec0:5812:1a43:49c1:297d:4bd:7419:0 - \"\u001b[1mGET /assets/Cards-nwsvQLVS.js HTTP/1.1\u001b[0m\" \u001b[32m200 OK\u001b[0m\n"
          ]
        },
        {
          "output_type": "stream",
          "name": "stderr",
          "text": [
            "INFO:pyngrok.process.ngrok:t=2024-06-22T14:01:44+0000 lvl=info msg=\"join connections\" obj=join id=07f24d5656ee l=127.0.0.1:8888 r=[2a01:5ec0:5812:1a43:49c1:297d:4bd:7419]:53973\n"
          ]
        },
        {
          "output_type": "stream",
          "name": "stdout",
          "text": [
            "\u001b[32mINFO\u001b[0m:     2a01:5ec0:5812:1a43:49c1:297d:4bd:7419:0 - \"\u001b[1mGET /assets/tour-cover-BYfeen6M.webp HTTP/1.1\u001b[0m\" \u001b[32m200 OK\u001b[0m\n",
            "\u001b[32mINFO\u001b[0m:     2a01:5ec0:5812:1a43:49c1:297d:4bd:7419:0 - \"\u001b[1mGET /api/v1/info HTTP/1.1\u001b[0m\" \u001b[32m200 OK\u001b[0m\n",
            "\u001b[1;35mt=2024-06-22T14:01:44+0000 lvl=info msg=\"join connections\" obj=join id=07f24d5656ee l=127.0.0.1:8888 r=[2a01:5ec0:5812:1a43:49c1:297d:4bd:7419]:53973\u001b[0m\n"
          ]
        },
        {
          "output_type": "stream",
          "name": "stderr",
          "text": [
            "INFO:pyngrok.process.ngrok:t=2024-06-22T14:01:44+0000 lvl=info msg=\"join connections\" obj=join id=8c8eab092d3b l=127.0.0.1:8888 r=[2a01:5ec0:5812:1a43:49c1:297d:4bd:7419]:53973\n"
          ]
        },
        {
          "output_type": "stream",
          "name": "stdout",
          "text": [
            "\u001b[1;35mt=2024-06-22T14:01:44+0000 lvl=info msg=\"join connections\" obj=join id=8c8eab092d3b l=127.0.0.1:8888 r=[2a01:5ec0:5812:1a43:49c1:297d:4bd:7419]:53973\u001b[0m\n",
            "\u001b[1;35mGot token from cookie\u001b[0m\n",
            "\u001b[32mINFO\u001b[0m:     2a01:5ec0:5812:1a43:49c1:297d:4bd:7419:0 - \"\u001b[1mGET /api/v1/settings HTTP/1.1\u001b[0m\" \u001b[32m200 OK\u001b[0m\n",
            "\u001b[1;35mGot token from cookie\u001b[0m\n",
            "\u001b[32mINFO\u001b[0m:     2a01:5ec0:5812:1a43:49c1:297d:4bd:7419:0 - \"\u001b[1mGET /api/v1/current-user HTTP/1.1\u001b[0m\" \u001b[32m200 OK\u001b[0m\n",
            "\u001b[1;35mGot token from cookie\u001b[0m\n",
            "\u001b[32mINFO\u001b[0m:     2a01:5ec0:5812:1a43:49c1:297d:4bd:7419:0 - \"\u001b[1mPUT /api/v1/current-user HTTP/1.1\u001b[0m\" \u001b[32m200 OK\u001b[0m\n",
            "\u001b[1;35mGot token from cookie\u001b[0m\n",
            "\u001b[32mINFO\u001b[0m:     2a01:5ec0:5812:1a43:49c1:297d:4bd:7419:0 - \"\u001b[1mGET /api/v1/current-user HTTP/1.1\u001b[0m\" \u001b[32m200 OK\u001b[0m\n"
          ]
        },
        {
          "output_type": "stream",
          "name": "stderr",
          "text": [
            "INFO:pyngrok.process.ngrok:t=2024-06-22T14:02:23+0000 lvl=info msg=\"join connections\" obj=join id=f6f4bfd9e16e l=127.0.0.1:8888 r=[2a01:5ec0:5812:1a43:49c1:297d:4bd:7419]:53973\n"
          ]
        },
        {
          "output_type": "stream",
          "name": "stdout",
          "text": [
            "\u001b[1;35mGot token from cookie\u001b[0m\n",
            "\u001b[32mINFO\u001b[0m:     2a01:5ec0:5812:1a43:49c1:297d:4bd:7419:0 - \"\u001b[1mGET /api/v1/settings HTTP/1.1\u001b[0m\" \u001b[32m200 OK\u001b[0m\n",
            "\u001b[1;35mt=2024-06-22T14:02:23+0000 lvl=info msg=\"join connections\" obj=join id=f6f4bfd9e16e l=127.0.0.1:8888 r=[2a01:5ec0:5812:1a43:49c1:297d:4bd:7419]:53973\u001b[0m\n"
          ]
        },
        {
          "output_type": "stream",
          "name": "stderr",
          "text": [
            "INFO:pyngrok.process.ngrok:t=2024-06-22T14:02:23+0000 lvl=info msg=\"join connections\" obj=join id=6cd766b694ef l=127.0.0.1:8888 r=[2a01:5ec0:5812:1a43:49c1:297d:4bd:7419]:53973\n"
          ]
        },
        {
          "output_type": "stream",
          "name": "stdout",
          "text": [
            "\u001b[1;35mt=2024-06-22T14:02:23+0000 lvl=info msg=\"join connections\" obj=join id=6cd766b694ef l=127.0.0.1:8888 r=[2a01:5ec0:5812:1a43:49c1:297d:4bd:7419]:53973\u001b[0m\n",
            "\u001b[1;35mGot token from cookie\u001b[0m\n",
            "\u001b[32mINFO\u001b[0m:     2a01:5ec0:5812:1a43:49c1:297d:4bd:7419:0 - \"\u001b[1mGET /api/v1/current-user HTTP/1.1\u001b[0m\" \u001b[32m200 OK\u001b[0m\n",
            "\u001b[32mINFO\u001b[0m:     2a01:5ec0:5812:1a43:49c1:297d:4bd:7419:0 - \"\u001b[1mGET /api/v1/info HTTP/1.1\u001b[0m\" \u001b[32m200 OK\u001b[0m\n"
          ]
        },
        {
          "output_type": "stream",
          "name": "stderr",
          "text": [
            "INFO:pyngrok.process.ngrok:t=2024-06-22T14:02:29+0000 lvl=info msg=\"join connections\" obj=join id=7c5e972242c7 l=127.0.0.1:8888 r=[2a01:5ec0:5812:1a43:49c1:297d:4bd:7419]:53973\n"
          ]
        },
        {
          "output_type": "stream",
          "name": "stdout",
          "text": [
            "\u001b[1;35mt=2024-06-22T14:02:29+0000 lvl=info msg=\"join connections\" obj=join id=7c5e972242c7 l=127.0.0.1:8888 r=[2a01:5ec0:5812:1a43:49c1:297d:4bd:7419]:53973\u001b[0m\n",
            "\u001b[32mINFO\u001b[0m:     2a01:5ec0:5812:1a43:49c1:297d:4bd:7419:0 - \"\u001b[1mGET /assets/page-ByrHy6Ss.js HTTP/1.1\u001b[0m\" \u001b[32m200 OK\u001b[0m\n"
          ]
        },
        {
          "output_type": "stream",
          "name": "stderr",
          "text": [
            "INFO:pyngrok.process.ngrok:t=2024-06-22T14:02:30+0000 lvl=info msg=\"join connections\" obj=join id=e7642d9fda52 l=127.0.0.1:8888 r=[2a01:5ec0:5812:1a43:49c1:297d:4bd:7419]:53973\n"
          ]
        },
        {
          "output_type": "stream",
          "name": "stdout",
          "text": [
            "\u001b[32mINFO\u001b[0m:     2a01:5ec0:5812:1a43:49c1:297d:4bd:7419:0 - \"\u001b[1mGET /assets/Pagination-DVYfBCCc.js HTTP/1.1\u001b[0m\" \u001b[32m200 OK\u001b[0m\n",
            "\u001b[1;35mt=2024-06-22T14:02:30+0000 lvl=info msg=\"join connections\" obj=join id=e7642d9fda52 l=127.0.0.1:8888 r=[2a01:5ec0:5812:1a43:49c1:297d:4bd:7419]:53973\u001b[0m\n"
          ]
        },
        {
          "output_type": "stream",
          "name": "stderr",
          "text": [
            "INFO:pyngrok.process.ngrok:t=2024-06-22T14:02:30+0000 lvl=info msg=\"join connections\" obj=join id=6ca502c0549c l=127.0.0.1:8888 r=[2a01:5ec0:5812:1a43:49c1:297d:4bd:7419]:53973\n"
          ]
        },
        {
          "output_type": "stream",
          "name": "stdout",
          "text": [
            "\u001b[1;35mt=2024-06-22T14:02:30+0000 lvl=info msg=\"join connections\" obj=join id=6ca502c0549c l=127.0.0.1:8888 r=[2a01:5ec0:5812:1a43:49c1:297d:4bd:7419]:53973\u001b[0m\n"
          ]
        },
        {
          "output_type": "stream",
          "name": "stderr",
          "text": [
            "INFO:pyngrok.process.ngrok:t=2024-06-22T14:02:30+0000 lvl=info msg=\"join connections\" obj=join id=d3efa45f6a64 l=127.0.0.1:8888 r=[2a01:5ec0:5812:1a43:49c1:297d:4bd:7419]:53973\n"
          ]
        },
        {
          "output_type": "stream",
          "name": "stdout",
          "text": [
            "\u001b[1;35mt=2024-06-22T14:02:30+0000 lvl=info msg=\"join connections\" obj=join id=d3efa45f6a64 l=127.0.0.1:8888 r=[2a01:5ec0:5812:1a43:49c1:297d:4bd:7419]:53973\u001b[0m\n",
            "\u001b[32mINFO\u001b[0m:     2a01:5ec0:5812:1a43:49c1:297d:4bd:7419:0 - \"\u001b[1mGET /assets/chevron-right-double-CJ50E9Gr.js HTTP/1.1\u001b[0m\" \u001b[32m200 OK\u001b[0m\n",
            "\u001b[32mINFO\u001b[0m:     2a01:5ec0:5812:1a43:49c1:297d:4bd:7419:0 - \"\u001b[1mGET /assets/CopyButton-B_YSm-Ds.js HTTP/1.1\u001b[0m\" \u001b[32m200 OK\u001b[0m\n",
            "\u001b[32mINFO\u001b[0m:     2a01:5ec0:5812:1a43:49c1:297d:4bd:7419:0 - \"\u001b[1mGET /assets/PageHeader-DGaemzjc.js HTTP/1.1\u001b[0m\" \u001b[32m200 OK\u001b[0m\n",
            "\u001b[1;35mGot token from cookie\u001b[0m\n",
            "\u001b[32mINFO\u001b[0m:     2a01:5ec0:5812:1a43:49c1:297d:4bd:7419:0 - \"\u001b[1mGET /api/v1/pipeline_namespaces?page=1&sort_by=desc%3Aupdated HTTP/1.1\u001b[0m\" \u001b[32m200 OK\u001b[0m\n",
            "\u001b[32mINFO\u001b[0m:     2a01:5ec0:5812:1a43:49c1:297d:4bd:7419:0 - \"\u001b[1mGET /assets/page-DdaIt20-.js HTTP/1.1\u001b[0m\" \u001b[32m200 OK\u001b[0m\n",
            "\u001b[32mINFO\u001b[0m:     2a01:5ec0:5812:1a43:49c1:297d:4bd:7419:0 - \"\u001b[1mGET /assets/DisplayDate-BdguISQF.js HTTP/1.1\u001b[0m\" \u001b[32m200 OK\u001b[0m\n",
            "\u001b[32mINFO\u001b[0m:     2a01:5ec0:5812:1a43:49c1:297d:4bd:7419:0 - \"\u001b[1mGET /assets/InlineAvatar-DGf3dVhV.js HTTP/1.1\u001b[0m\" \u001b[32m200 OK\u001b[0m\n",
            "\u001b[1;35mGot token from cookie\u001b[0m\n",
            "\u001b[32mINFO\u001b[0m:     2a01:5ec0:5812:1a43:49c1:297d:4bd:7419:0 - \"\u001b[1mGET /api/v1/runs?pipeline_name=digits_pipline&page=1&sort_by=desc%3Aupdated HTTP/1.1\u001b[0m\" \u001b[32m200 OK\u001b[0m\n"
          ]
        },
        {
          "output_type": "stream",
          "name": "stderr",
          "text": [
            "INFO:pyngrok.process.ngrok:t=2024-06-22T14:02:43+0000 lvl=info msg=\"join connections\" obj=join id=4a5aadb0f66d l=127.0.0.1:8888 r=[2a01:5ec0:5812:1a43:49c1:297d:4bd:7419]:53973\n"
          ]
        },
        {
          "output_type": "stream",
          "name": "stdout",
          "text": [
            "\u001b[1;35mt=2024-06-22T14:02:43+0000 lvl=info msg=\"join connections\" obj=join id=4a5aadb0f66d l=127.0.0.1:8888 r=[2a01:5ec0:5812:1a43:49c1:297d:4bd:7419]:53973\u001b[0m\n",
            "\u001b[32mINFO\u001b[0m:     2a01:5ec0:5812:1a43:49c1:297d:4bd:7419:0 - \"\u001b[1mGET /assets/page-D2D-7qyr.js HTTP/1.1\u001b[0m\" \u001b[32m200 OK\u001b[0m\n"
          ]
        },
        {
          "output_type": "stream",
          "name": "stderr",
          "text": [
            "INFO:pyngrok.process.ngrok:t=2024-06-22T14:02:46+0000 lvl=info msg=\"join connections\" obj=join id=055d6454b3df l=127.0.0.1:8888 r=[2a01:5ec0:5812:1a43:49c1:297d:4bd:7419]:53973\n"
          ]
        },
        {
          "output_type": "stream",
          "name": "stdout",
          "text": [
            "\u001b[32mINFO\u001b[0m:     2a01:5ec0:5812:1a43:49c1:297d:4bd:7419:0 - \"\u001b[1mGET /assets/Infobox-Ce9mefqU.js HTTP/1.1\u001b[0m\" \u001b[32m200 OK\u001b[0m\n",
            "\u001b[1;35mt=2024-06-22T14:02:46+0000 lvl=info msg=\"join connections\" obj=join id=055d6454b3df l=127.0.0.1:8888 r=[2a01:5ec0:5812:1a43:49c1:297d:4bd:7419]:53973\u001b[0m\n"
          ]
        },
        {
          "output_type": "stream",
          "name": "stderr",
          "text": [
            "INFO:pyngrok.process.ngrok:t=2024-06-22T14:02:46+0000 lvl=info msg=\"join connections\" obj=join id=e70ba4bbf6f0 l=127.0.0.1:8888 r=[2a01:5ec0:5812:1a43:49c1:297d:4bd:7419]:53973\n"
          ]
        },
        {
          "output_type": "stream",
          "name": "stdout",
          "text": [
            "\u001b[1;35mt=2024-06-22T14:02:46+0000 lvl=info msg=\"join connections\" obj=join id=e70ba4bbf6f0 l=127.0.0.1:8888 r=[2a01:5ec0:5812:1a43:49c1:297d:4bd:7419]:53973\u001b[0m\n"
          ]
        },
        {
          "output_type": "stream",
          "name": "stderr",
          "text": [
            "INFO:pyngrok.process.ngrok:t=2024-06-22T14:02:46+0000 lvl=info msg=\"join connections\" obj=join id=a7b620ffacdf l=127.0.0.1:8888 r=[2a01:5ec0:5812:1a43:49c1:297d:4bd:7419]:53973\n"
          ]
        },
        {
          "output_type": "stream",
          "name": "stdout",
          "text": [
            "\u001b[1;35mt=2024-06-22T14:02:46+0000 lvl=info msg=\"join connections\" obj=join id=a7b620ffacdf l=127.0.0.1:8888 r=[2a01:5ec0:5812:1a43:49c1:297d:4bd:7419]:53973\u001b[0m\n"
          ]
        },
        {
          "output_type": "stream",
          "name": "stderr",
          "text": [
            "INFO:pyngrok.process.ngrok:t=2024-06-22T14:02:46+0000 lvl=info msg=\"join connections\" obj=join id=f0739c08fa55 l=127.0.0.1:8888 r=[2a01:5ec0:5812:1a43:49c1:297d:4bd:7419]:53973\n"
          ]
        },
        {
          "output_type": "stream",
          "name": "stdout",
          "text": [
            "\u001b[1;35mt=2024-06-22T14:02:46+0000 lvl=info msg=\"join connections\" obj=join id=f0739c08fa55 l=127.0.0.1:8888 r=[2a01:5ec0:5812:1a43:49c1:297d:4bd:7419]:53973\u001b[0m\n",
            "\u001b[32mINFO\u001b[0m:     2a01:5ec0:5812:1a43:49c1:297d:4bd:7419:0 - \"\u001b[1mGET /assets/EmptyState-BkooiGtL.js HTTP/1.1\u001b[0m\" \u001b[32m200 OK\u001b[0m\n",
            "\u001b[32mINFO\u001b[0m:     2a01:5ec0:5812:1a43:49c1:297d:4bd:7419:0 - \"\u001b[1mGET /assets/docker-BAonhm6G.js HTTP/1.1\u001b[0m\" \u001b[32m200 OK\u001b[0m\n",
            "\u001b[32mINFO\u001b[0m:     2a01:5ec0:5812:1a43:49c1:297d:4bd:7419:0 - \"\u001b[1mGET /assets/database-CRRnyFWh.js HTTP/1.1\u001b[0m\" \u001b[32m200 OK\u001b[0m\n",
            "\u001b[32mINFO\u001b[0m:     2a01:5ec0:5812:1a43:49c1:297d:4bd:7419:0 - \"\u001b[1mGET /assets/Error-B6M0dPph.js HTTP/1.1\u001b[0m\" \u001b[32m200 OK\u001b[0m\n",
            "\u001b[1;35mGot token from cookie\u001b[0m\n",
            "\u001b[1;35mGot token from cookie\u001b[0m\n",
            "\u001b[32mINFO\u001b[0m:     2a01:5ec0:5812:1a43:49c1:297d:4bd:7419:0 - \"\u001b[1mGET /api/v1/runs/c4c039f1-6f53-4242-b666-d62ee923ee6f HTTP/1.1\u001b[0m\" \u001b[32m200 OK\u001b[0m\n",
            "\u001b[32mINFO\u001b[0m:     2a01:5ec0:5812:1a43:49c1:297d:4bd:7419:0 - \"\u001b[1mGET /api/v1/runs/c4c039f1-6f53-4242-b666-d62ee923ee6f/graph HTTP/1.1\u001b[0m\" \u001b[32m200 OK\u001b[0m\n",
            "\u001b[1;35mGot token from cookie\u001b[0m\n",
            "\u001b[32mINFO\u001b[0m:     2a01:5ec0:5812:1a43:49c1:297d:4bd:7419:0 - \"\u001b[1mGET /api/v1/stacks/7af16f5a-5965-4fa8-a718-d6b746b33bc5 HTTP/1.1\u001b[0m\" \u001b[32m200 OK\u001b[0m\n",
            "\u001b[1;35mGot token from cookie\u001b[0m\n",
            "\u001b[1;35mGot token from cookie\u001b[0m\n",
            "\u001b[32mINFO\u001b[0m:     2a01:5ec0:5812:1a43:49c1:297d:4bd:7419:0 - \"\u001b[1mGET /api/v1/runs/c4c039f1-6f53-4242-b666-d62ee923ee6f HTTP/1.1\u001b[0m\" \u001b[32m200 OK\u001b[0m\n",
            "\u001b[32mINFO\u001b[0m:     2a01:5ec0:5812:1a43:49c1:297d:4bd:7419:0 - \"\u001b[1mGET /api/v1/runs/c4c039f1-6f53-4242-b666-d62ee923ee6f/graph HTTP/1.1\u001b[0m\" \u001b[32m200 OK\u001b[0m\n"
          ]
        },
        {
          "output_type": "stream",
          "name": "stderr",
          "text": [
            "INFO:pyngrok.process.ngrok:t=2024-06-22T14:05:51+0000 lvl=info msg=\"join connections\" obj=join id=92405836f7e7 l=127.0.0.1:8888 r=[2a01:5ec0:5812:1a43:49c1:297d:4bd:7419]:53973\n"
          ]
        },
        {
          "output_type": "stream",
          "name": "stdout",
          "text": [
            "\u001b[1;35mt=2024-06-22T14:05:51+0000 lvl=info msg=\"join connections\" obj=join id=92405836f7e7 l=127.0.0.1:8888 r=[2a01:5ec0:5812:1a43:49c1:297d:4bd:7419]:53973\u001b[0m\n",
            "\u001b[1;35mGot token from cookie\u001b[0m\n",
            "\u001b[32mINFO\u001b[0m:     2a01:5ec0:5812:1a43:49c1:297d:4bd:7419:0 - \"\u001b[1mGET /api/v1/runs?pipeline_name=digits_pipline&page=1&sort_by=desc%3Aupdated HTTP/1.1\u001b[0m\" \u001b[32m200 OK\u001b[0m\n"
          ]
        },
        {
          "output_type": "stream",
          "name": "stderr",
          "text": [
            "INFO:pyngrok.process.ngrok:t=2024-06-22T14:06:18+0000 lvl=info msg=\"join connections\" obj=join id=3d4ff4e3d0c1 l=127.0.0.1:8888 r=[2a01:5ec0:5812:1a43:49c1:297d:4bd:7419]:53973\n"
          ]
        },
        {
          "output_type": "stream",
          "name": "stdout",
          "text": [
            "\u001b[1;35mt=2024-06-22T14:06:18+0000 lvl=info msg=\"join connections\" obj=join id=3d4ff4e3d0c1 l=127.0.0.1:8888 r=[2a01:5ec0:5812:1a43:49c1:297d:4bd:7419]:53973\u001b[0m\n"
          ]
        },
        {
          "output_type": "stream",
          "name": "stderr",
          "text": [
            "INFO:pyngrok.process.ngrok:t=2024-06-22T14:06:18+0000 lvl=info msg=\"join connections\" obj=join id=016395f791ef l=127.0.0.1:8888 r=[2a01:5ec0:5812:1a43:49c1:297d:4bd:7419]:53973\n"
          ]
        },
        {
          "output_type": "stream",
          "name": "stdout",
          "text": [
            "\u001b[1;35mt=2024-06-22T14:06:18+0000 lvl=info msg=\"join connections\" obj=join id=016395f791ef l=127.0.0.1:8888 r=[2a01:5ec0:5812:1a43:49c1:297d:4bd:7419]:53973\u001b[0m\n",
            "\u001b[32mINFO\u001b[0m:     2a01:5ec0:5812:1a43:49c1:297d:4bd:7419:0 - \"\u001b[1mGET /api/v1/info HTTP/1.1\u001b[0m\" \u001b[32m200 OK\u001b[0m\n",
            "\u001b[1;35mGot token from cookie\u001b[0m\n",
            "\u001b[32mINFO\u001b[0m:     2a01:5ec0:5812:1a43:49c1:297d:4bd:7419:0 - \"\u001b[1mGET /api/v1/settings HTTP/1.1\u001b[0m\" \u001b[32m200 OK\u001b[0m\n"
          ]
        },
        {
          "output_type": "stream",
          "name": "stderr",
          "text": [
            "INFO:pyngrok.process.ngrok:t=2024-06-22T14:06:24+0000 lvl=info msg=\"join connections\" obj=join id=ccea2372a6b4 l=127.0.0.1:8888 r=[2a01:5ec0:5812:1a43:49c1:297d:4bd:7419]:53973\n"
          ]
        },
        {
          "output_type": "stream",
          "name": "stdout",
          "text": [
            "\u001b[1;35mt=2024-06-22T14:06:24+0000 lvl=info msg=\"join connections\" obj=join id=ccea2372a6b4 l=127.0.0.1:8888 r=[2a01:5ec0:5812:1a43:49c1:297d:4bd:7419]:53973\u001b[0m\n",
            "\u001b[1;35mGot token from cookie\u001b[0m\n",
            "\u001b[32mINFO\u001b[0m:     2a01:5ec0:5812:1a43:49c1:297d:4bd:7419:0 - \"\u001b[1mPUT /api/v1/settings HTTP/1.1\u001b[0m\" \u001b[32m200 OK\u001b[0m\n",
            "\u001b[1;35mGot token from cookie\u001b[0m\n",
            "\u001b[32mINFO\u001b[0m:     2a01:5ec0:5812:1a43:49c1:297d:4bd:7419:0 - \"\u001b[1mGET /api/v1/settings HTTP/1.1\u001b[0m\" \u001b[32m200 OK\u001b[0m\n",
            "\u001b[1;35mGot token from cookie\u001b[0m\n",
            "\u001b[32mINFO\u001b[0m:     2a01:5ec0:5812:1a43:49c1:297d:4bd:7419:0 - \"\u001b[1mPUT /api/v1/settings HTTP/1.1\u001b[0m\" \u001b[32m200 OK\u001b[0m\n",
            "\u001b[1;35mGot token from cookie\u001b[0m\n",
            "\u001b[32mINFO\u001b[0m:     2a01:5ec0:5812:1a43:49c1:297d:4bd:7419:0 - \"\u001b[1mGET /api/v1/settings HTTP/1.1\u001b[0m\" \u001b[32m200 OK\u001b[0m\n"
          ]
        }
      ]
    },
    {
      "cell_type": "code",
      "source": [],
      "metadata": {
        "id": "TRvBLxcgHMjJ"
      },
      "execution_count": null,
      "outputs": []
    }
  ]
}